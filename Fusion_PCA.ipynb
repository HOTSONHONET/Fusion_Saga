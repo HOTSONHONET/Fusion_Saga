{
 "cells": [
  {
   "cell_type": "code",
   "execution_count": 18,
   "metadata": {},
   "outputs": [],
   "source": [
    "import numpy as np\n",
    "import pandas as pd\n",
    "import matplotlib.pyplot as plt\n",
    "from PIL import Image\n",
    "import cv2\n",
    "from numpy import load\n",
    "from numpy import expand_dims\n",
    "from numpy import asarray\n",
    "import os\n",
    "import matplotlib.image as mpimg\n",
    "from sklearn.decomposition import PCA\n",
    "import time\n",
    "from sklearn.metrics import classification_report\n",
    "from sklearn.svm import LinearSVC\n",
    "from sklearn.linear_model import LogisticRegression\n",
    "from sklearn.metrics import accuracy_score\n",
    "import lightgbm as lgb\n",
    "import xgboost as xgb\n",
    "from sklearn.metrics import plot_roc_curve\n",
    "from sklearn.metrics import plot_precision_recall_curve\n",
    "from sklearn.pipeline import Pipeline\n",
    "from sklearn.preprocessing import StandardScaler"
   ]
  },
  {
   "cell_type": "code",
   "execution_count": 19,
   "metadata": {},
   "outputs": [],
   "source": [
    "gait_train_path_000 = \"C:\\\\Users\\\\Aayush Kandpal\\\\Downloads\\\\Gait Split-20210121T155805Z-001\\\\Gait Split\\\\000\\\\train\"\n",
    "gait_train_path_054 = \"C:\\\\Users\\\\Aayush Kandpal\\\\Downloads\\\\Gait Split-20210121T155805Z-001\\\\Gait Split\\\\054\\\\train\"\n",
    "gait_train_path_090 = \"C:\\\\Users\\\\Aayush Kandpal\\\\Downloads\\\\Gait Split-20210121T155805Z-001\\\\Gait Split\\\\090\\\\train\"\n",
    "gait_train_path_018 = \"C:\\\\Users\\\\Aayush Kandpal\\\\Downloads\\\\Gait Split-20210121T155805Z-001\\\\Gait Split\\\\018\\\\train\"\n",
    "gait_train_path_036 = \"C:\\\\Users\\\\Aayush Kandpal\\\\Downloads\\\\Gait Split-20210121T155805Z-001\\\\Gait Split\\\\036\\\\train\"\n",
    "gait_train_path_072 = \"C:\\\\Users\\\\Aayush Kandpal\\\\Downloads\\\\Gait Split-20210121T155805Z-001\\\\Gait Split\\\\072\\\\train\"\n",
    "face_train_path = \"C:\\\\Users\\\\Aayush Kandpal\\\\Downloads\\\\Face_dataset_ML\\\\Face_dataset\\\\train\"\n",
    "\n",
    "gait_val_path_000 = \"C:\\\\Users\\\\Aayush Kandpal\\\\Downloads\\\\Gait Split-20210121T155805Z-001\\\\Gait Split\\\\000\\\\val\"\n",
    "gait_val_path_054 = \"C:\\\\Users\\\\Aayush Kandpal\\\\Downloads\\\\Gait Split-20210121T155805Z-001\\\\Gait Split\\\\054\\\\val\"\n",
    "gait_val_path_090 = \"C:\\\\Users\\\\Aayush Kandpal\\\\Downloads\\\\Gait Split-20210121T155805Z-001\\\\Gait Split\\\\090\\\\val\"\n",
    "gait_val_path_018 = \"C:\\\\Users\\\\Aayush Kandpal\\\\Downloads\\\\Gait Split-20210121T155805Z-001\\\\Gait Split\\\\018\\\\val\"\n",
    "gait_val_path_036 = \"C:\\\\Users\\\\Aayush Kandpal\\\\Downloads\\\\Gait Split-20210121T155805Z-001\\\\Gait Split\\\\036\\\\val\"\n",
    "gait_val_path_072 = \"C:\\\\Users\\\\Aayush Kandpal\\\\Downloads\\\\Gait Split-20210121T155805Z-001\\\\Gait Split\\\\072\\\\val\"\n",
    "face_val_path = \"C:\\\\Users\\\\Aayush Kandpal\\\\Downloads\\\\Face_dataset_ML\\\\Face_dataset\\\\val\"\n",
    "\n",
    "gait_test_path_000 = \"C:\\\\Users\\\\Aayush Kandpal\\\\Downloads\\\\Gait Split-20210121T155805Z-001\\\\Gait Split\\\\000\\\\test\"\n",
    "gait_test_path_054 = \"C:\\\\Users\\\\Aayush Kandpal\\\\Downloads\\\\Gait Split-20210121T155805Z-001\\\\Gait Split\\\\054\\\\test\"\n",
    "gait_test_path_090 = \"C:\\\\Users\\\\Aayush Kandpal\\\\Downloads\\\\Gait Split-20210121T155805Z-001\\\\Gait Split\\\\090\\\\test\"\n",
    "gait_test_path_018 = \"C:\\\\Users\\\\Aayush Kandpal\\\\Downloads\\\\Gait Split-20210121T155805Z-001\\\\Gait Split\\\\018\\\\test\"\n",
    "gait_test_path_036 = \"C:\\\\Users\\\\Aayush Kandpal\\\\Downloads\\\\Gait Split-20210121T155805Z-001\\\\Gait Split\\\\036\\\\test\"\n",
    "gait_test_path_072 = \"C:\\\\Users\\\\Aayush Kandpal\\\\Downloads\\\\Gait Split-20210121T155805Z-001\\\\Gait Split\\\\072\\\\test\"\n",
    "face_test_path = \"C:\\\\Users\\\\Aayush Kandpal\\\\Downloads\\\\Face_dataset_ML\\\\Face_dataset\\\\test\"\n"
   ]
  },
  {
   "cell_type": "code",
   "execution_count": 20,
   "metadata": {},
   "outputs": [],
   "source": [
    "def create_dataset(img_folder):\n",
    "    \n",
    "    img_data_array=[]\n",
    "    class_name=[]\n",
    "    for dir1 in os.listdir(img_folder):\n",
    "        for file in os.listdir(os.path.join(img_folder, dir1)):\n",
    "       \n",
    "            image_path= os.path.join(img_folder, dir1,  file)\n",
    "            image= np.array(Image.open(image_path))\n",
    "            image= np.resize(image,(224,224))\n",
    "            image = image.astype('float32')\n",
    "            img_data_array.append(image)\n",
    "            class_name.append(dir1)\n",
    "    return img_data_array , class_name\n",
    "\n",
    "def create_array(data):\n",
    "    return np.array(data)\n",
    "    "
   ]
  },
  {
   "cell_type": "code",
   "execution_count": 21,
   "metadata": {},
   "outputs": [],
   "source": [
    "train_0,class_0=create_dataset(gait_train_path_000)\n",
    "train_54,class_54=create_dataset(gait_train_path_054)\n",
    "train_90,class_90=create_dataset(gait_train_path_090)\n",
    "train_18,class_18=create_dataset(gait_train_path_018)\n",
    "train_36,class_36=create_dataset(gait_train_path_036)\n",
    "train_72,class_72=create_dataset(gait_train_path_072)\n",
    "face_train,train_class=create_dataset(face_train_path)\n",
    "\n",
    "\n",
    "val_0,class_val_0=create_dataset(gait_val_path_000)\n",
    "val_54,class_val_54=create_dataset(gait_val_path_054)\n",
    "val_90,class_val_90=create_dataset(gait_val_path_090)\n",
    "val_18,class_val_18=create_dataset(gait_val_path_018)\n",
    "val_36,class_val_36=create_dataset(gait_val_path_036)\n",
    "val_72,class_val_72=create_dataset(gait_val_path_072)\n",
    "face_val,val_class=create_dataset(face_val_path)\n",
    "\n",
    "test_0,class_test_0=create_dataset(gait_test_path_000)\n",
    "test_54,class_test_54=create_dataset(gait_test_path_054)\n",
    "test_90,class_test_90=create_dataset(gait_test_path_090)\n",
    "test_18,class_test_18=create_dataset(gait_test_path_018)\n",
    "test_36,class_test_36=create_dataset(gait_test_path_036)\n",
    "test_72,class_test_72=create_dataset(gait_test_path_072)\n",
    "face_test,test_class=create_dataset(face_test_path)\n",
    "\n",
    "x_train_0=np.array(train_0)\n",
    "x_train_54=np.array(train_54)\n",
    "x_train_90=np.array(train_90)\n",
    "x_train_18=np.array(train_18)\n",
    "x_train_36=np.array(train_36)\n",
    "x_train_72=np.array(train_72)\n",
    "x_train_face=np.array(face_train)\n",
    "\n",
    "x_val_0=np.array(val_0)\n",
    "x_val_54=np.array(val_54)\n",
    "x_val_90=np.array(val_90)\n",
    "x_val_18=np.array(val_18)\n",
    "x_val_36=np.array(val_36)\n",
    "x_val_72=np.array(val_72)\n",
    "x_val_face=np.array(face_val)\n",
    "\n",
    "x_test_0=np.array(test_0)\n",
    "x_test_54=np.array(test_54)\n",
    "x_test_90=np.array(test_90)\n",
    "x_test_18=np.array(test_18)\n",
    "x_test_36=np.array(test_36)\n",
    "x_test_72=np.array(test_72)\n",
    "x_test_face=np.array(face_test)\n",
    "\n",
    "train_label=np.array(class_0)\n",
    "val_label=np.array(class_val_0)\n",
    "test_label=np.array(class_test_0)\n"
   ]
  },
  {
   "cell_type": "code",
   "execution_count": 22,
   "metadata": {},
   "outputs": [],
   "source": [
    "# Let us now flatten the dataset and convert each \n",
    "x_train_0=pd.DataFrame(x_train_0.reshape((x_train_0.shape[0],224*224)))\n",
    "x_train_54=pd.DataFrame(x_train_54.reshape((x_train_54.shape[0],224*224)))\n",
    "x_train_90=pd.DataFrame(x_train_90.reshape((x_train_90.shape[0],224*224)))\n",
    "x_train_18=pd.DataFrame(x_train_18.reshape((x_train_18.shape[0],224*224)))\n",
    "x_train_36=pd.DataFrame(x_train_36.reshape((x_train_36.shape[0],224*224)))\n",
    "x_train_72=pd.DataFrame(x_train_72.reshape((x_train_72.shape[0],224*224)))\n",
    "\n",
    "x_train_face=pd.DataFrame(x_train_face.reshape((x_train_face.shape[0],224*224)))\n",
    "\n",
    "x_val_0=pd.DataFrame(x_val_0.reshape((x_val_0.shape[0],224*224)))\n",
    "x_val_54=pd.DataFrame(x_val_54.reshape((x_val_54.shape[0],224*224)))\n",
    "x_val_90=pd.DataFrame(x_val_90.reshape((x_val_90.shape[0],224*224)))\n",
    "x_val_18=pd.DataFrame(x_val_18.reshape((x_val_18.shape[0],224*224)))\n",
    "x_val_36=pd.DataFrame(x_val_36.reshape((x_val_36.shape[0],224*224)))\n",
    "x_val_72=pd.DataFrame(x_val_72.reshape((x_val_72.shape[0],224*224)))\n",
    "\n",
    "x_val_face=pd.DataFrame(x_val_face.reshape((x_val_face.shape[0],224*224)))\n",
    "\n",
    "x_test_0=pd.DataFrame(x_test_0.reshape((x_test_0.shape[0],224*224)))\n",
    "x_test_54=pd.DataFrame(x_test_54.reshape((x_test_54.shape[0],224*224)))\n",
    "x_test_90=pd.DataFrame(x_test_90.reshape((x_test_90.shape[0],224*224)))\n",
    "x_test_18=pd.DataFrame(x_test_18.reshape((x_test_18.shape[0],224*224)))\n",
    "x_test_36=pd.DataFrame(x_test_36.reshape((x_test_36.shape[0],224*224)))\n",
    "x_test_72=pd.DataFrame(x_test_72.reshape((x_test_72.shape[0],224*224)))\n",
    "\n",
    "x_test_face=pd.DataFrame(x_test_face.reshape((x_test_face.shape[0],224*224)))\n",
    "\n",
    "train_label=pd.DataFrame(train_label).astype(int)\n",
    "val_label=pd.DataFrame(val_label).astype(int)\n",
    "test_label=pd.DataFrame(test_label).astype(int)\n"
   ]
  },
  {
   "cell_type": "code",
   "execution_count": 4,
   "metadata": {},
   "outputs": [
    {
     "ename": "SyntaxError",
     "evalue": "cannot assign to f-string expression (<ipython-input-4-45288624032e>, line 7)",
     "output_type": "error",
     "traceback": [
      "\u001b[1;36m  File \u001b[1;32m\"<ipython-input-4-45288624032e>\"\u001b[1;36m, line \u001b[1;32m7\u001b[0m\n\u001b[1;33m    f'train_{angle}' = pd.DataFrame(pca.fit_transform(f'x_train_{angle}'))\u001b[0m\n\u001b[1;37m    ^\u001b[0m\n\u001b[1;31mSyntaxError\u001b[0m\u001b[1;31m:\u001b[0m cannot assign to f-string expression\n"
     ]
    }
   ],
   "source": [
    "angle=[0,54,90,18,36,72]\n",
    "j=[1,2,3,4,5,6]\n",
    "\n",
    "for angle in angles:\n",
    "    for i in j:\n",
    "        \n",
    "        tic=time.time()\n",
    "        pca=PCA(n_components=0.99)\n",
    "        f'tra= pd.DataFrame(pca.fit_transform(f'x_train_{angle}'))\n",
    "        f'val_{angle}' = pd.DataFrame(pca.transform(f'x_val_{angle}'))\n",
    "        f'test_{angle}'=pd.DataFrame(pca.transform(f'x_test_{angle}'))\n",
    "        toc=time.time()\n",
    "        print(\"Dimensionality reduced to:\", pca.n_components_)\n",
    "        print(\"Time taken to reduce the size of the data : \"+str((toc-tic))+\" sec\")\n",
    "        print(f'x_train_{angle}'.shape,f'x_val_{angle}'.shape,f'x_test_{angle}'.shape)"
   ]
  },
  {
   "cell_type": "code",
   "execution_count": 23,
   "metadata": {},
   "outputs": [
    {
     "name": "stdout",
     "output_type": "stream",
     "text": [
      "Dimensionality reduced to: 27\n",
      "Time taken to reduce the size of the data : 5.51935338973999 sec\n",
      "----------------------------------------------------------------------\n",
      "Dimensionality reduced to: 31\n",
      "Time taken to reduce the size of the data : 11.430112361907959 sec\n",
      "----------------------------------------------------------------------\n",
      "Dimensionality reduced to: 31\n",
      "Time taken to reduce the size of the data : 17.31436824798584 sec\n",
      "----------------------------------------------------------------------\n",
      "Dimensionality reduced to: 27\n",
      "Time taken to reduce the size of the data : 23.058878183364868 sec\n",
      "----------------------------------------------------------------------\n",
      "Dimensionality reduced to: 26\n",
      "Time taken to reduce the size of the data : 28.9971706867218 sec\n",
      "----------------------------------------------------------------------\n",
      "Dimensionality reduced to: 31\n",
      "Time taken to reduce the size of the data : 34.96630096435547 sec\n",
      "----------------------------------------------------------------------\n",
      "Dimensionality reduced to: 78\n",
      "Time taken to reduce the size of the data : 40.37505745887756 sec\n",
      "----------------------------------------------------------------------\n"
     ]
    }
   ],
   "source": [
    "tic=time.time()\n",
    "pca=PCA(n_components=0.99)\n",
    "\n",
    "x_train_0 = pd.DataFrame(pca.fit_transform(x_train_0))\n",
    "x_val_0 = pd.DataFrame(pca.transform(x_val_0))\n",
    "x_test_0=pd.DataFrame(pca.transform(x_test_0))\n",
    "toc=time.time()\n",
    "print(\"Dimensionality reduced to:\", pca.n_components_)\n",
    "print(\"Time taken to reduce the size of the data : \"+str((toc-tic))+\" sec\")\n",
    "print(\"----------------------------------------------------------------------\")\n",
    "\n",
    "pca=PCA(n_components=0.99)\n",
    "x_train_54 = pd.DataFrame(pca.fit_transform(x_train_54))\n",
    "x_val_54 = pd.DataFrame(pca.transform(x_val_54))\n",
    "x_test_54=pd.DataFrame(pca.transform(x_test_54))\n",
    "toc=time.time()\n",
    "print(\"Dimensionality reduced to:\", pca.n_components_)\n",
    "print(\"Time taken to reduce the size of the data : \"+str((toc-tic))+\" sec\")\n",
    "print(\"----------------------------------------------------------------------\")\n",
    "\n",
    "pca=PCA(n_components=0.99)\n",
    "x_train_90 = pd.DataFrame(pca.fit_transform(x_train_90))\n",
    "x_val_90= pd.DataFrame(pca.transform(x_val_90))\n",
    "x_test_90=pd.DataFrame(pca.transform(x_test_90))\n",
    "toc=time.time()\n",
    "print(\"Dimensionality reduced to:\", pca.n_components_)\n",
    "print(\"Time taken to reduce the size of the data : \"+str((toc-tic))+\" sec\")\n",
    "print(\"----------------------------------------------------------------------\")\n",
    "\n",
    "pca=PCA(n_components=0.99)\n",
    "x_train_18 = pd.DataFrame(pca.fit_transform(x_train_18))\n",
    "x_val_18 = pd.DataFrame(pca.transform(x_val_18))\n",
    "x_test_18=pd.DataFrame(pca.transform(x_test_18))\n",
    "toc=time.time()\n",
    "print(\"Dimensionality reduced to:\", pca.n_components_)\n",
    "print(\"Time taken to reduce the size of the data : \"+str((toc-tic))+\" sec\")\n",
    "print(\"----------------------------------------------------------------------\")\n",
    "\n",
    "pca=PCA(n_components=0.99)\n",
    "x_train_36 = pd.DataFrame(pca.fit_transform(x_train_36))\n",
    "x_val_36 = pd.DataFrame(pca.transform(x_val_36))\n",
    "x_test_36=pd.DataFrame(pca.transform(x_test_36))\n",
    "toc=time.time()\n",
    "print(\"Dimensionality reduced to:\", pca.n_components_)\n",
    "print(\"Time taken to reduce the size of the data : \"+str((toc-tic))+\" sec\")\n",
    "print(\"----------------------------------------------------------------------\")\n",
    "\n",
    "pca=PCA(n_components=0.99)\n",
    "x_train_72 = pd.DataFrame(pca.fit_transform(x_train_72))\n",
    "x_val_72= pd.DataFrame(pca.transform(x_val_72))\n",
    "x_test_72=pd.DataFrame(pca.transform(x_test_72))\n",
    "toc=time.time()\n",
    "print(\"Dimensionality reduced to:\", pca.n_components_)\n",
    "print(\"Time taken to reduce the size of the data : \"+str((toc-tic))+\" sec\")\n",
    "print(\"----------------------------------------------------------------------\")\n",
    "\n",
    "pca=PCA(n_components=0.99)\n",
    "x_train_face = pd.DataFrame(pca.fit_transform(x_train_face))\n",
    "x_val_face = pd.DataFrame(pca.transform(x_val_face))\n",
    "x_test_face=pd.DataFrame(pca.transform(x_test_face))\n",
    "toc=time.time()\n",
    "print(\"Dimensionality reduced to:\", pca.n_components_)\n",
    "print(\"Time taken to reduce the size of the data : \"+str((toc-tic))+\" sec\")\n",
    "print(\"----------------------------------------------------------------------\")\n",
    "\n"
   ]
  },
  {
   "cell_type": "code",
   "execution_count": 24,
   "metadata": {},
   "outputs": [],
   "source": [
    "# Let us now make our dataset by concatenating all feature columns\n",
    "train_data=pd.concat([x_train_face,x_train_0,x_train_54,x_train_90,x_train_18,x_train_36,x_train_72,train_label],axis=1)\n",
    "val_data=pd.concat([x_val_face,x_val_0,x_val_54,x_val_90,x_val_18,x_val_36,x_val_72,val_label],axis=1)\n",
    "test_data=pd.concat([x_test_face,x_test_0,x_test_54,x_test_90,x_test_18,x_test_36,x_test_72,test_label],axis=1)\n",
    "\n",
    "train_data.columns = [*train_data.columns[:-1], 'label']\n",
    "val_data.columns = [*val_data.columns[:-1], 'label']\n",
    "test_data.columns = [*test_data.columns[:-1], 'label']"
   ]
  },
  {
   "cell_type": "code",
   "execution_count": 28,
   "metadata": {},
   "outputs": [],
   "source": [
    "train_data=train_data.dropna()\n",
    "test_data=test_data.dropna()\n",
    "val_data=val_data.dropna()"
   ]
  },
  {
   "cell_type": "code",
   "execution_count": 29,
   "metadata": {},
   "outputs": [
    {
     "data": {
      "text/plain": [
       "((180, 252), (60, 252), (60, 252))"
      ]
     },
     "execution_count": 29,
     "metadata": {},
     "output_type": "execute_result"
    }
   ],
   "source": [
    "train_data.shape,val_data.shape,test_data.shape"
   ]
  },
  {
   "cell_type": "code",
   "execution_count": 33,
   "metadata": {},
   "outputs": [],
   "source": [
    "train_data = train_data.sample(frac=1).reset_index(drop=True)\n",
    "test_data = test_data.sample(frac=1).reset_index(drop=True)\n",
    "val_data = val_data.sample(frac=1).reset_index(drop=True)"
   ]
  },
  {
   "cell_type": "code",
   "execution_count": 34,
   "metadata": {},
   "outputs": [],
   "source": [
    "X_train=train_data.drop('label',axis=1)\n",
    "Y_train=train_data.label\n",
    "\n",
    "X_test=test_data.drop('label',axis=1)\n",
    "Y_test=test_data.label\n",
    "\n",
    "X_val=val_data.drop('label',axis=1)\n",
    "Y_val=val_data.label"
   ]
  },
  {
   "cell_type": "code",
   "execution_count": 48,
   "metadata": {},
   "outputs": [
    {
     "data": {
      "text/plain": [
       "RandomForestClassifier()"
      ]
     },
     "execution_count": 48,
     "metadata": {},
     "output_type": "execute_result"
    }
   ],
   "source": [
    "from sklearn.ensemble import RandomForestClassifier\n",
    "rf=RandomForestClassifier()\n",
    "rf.fit(X_train,Y_train)"
   ]
  },
  {
   "cell_type": "code",
   "execution_count": 49,
   "metadata": {},
   "outputs": [],
   "source": [
    "val_pred=rf.predict(X_val)\n",
    "rf_pred=rf.predict(X_test)"
   ]
  },
  {
   "cell_type": "code",
   "execution_count": 50,
   "metadata": {},
   "outputs": [
    {
     "name": "stdout",
     "output_type": "stream",
     "text": [
      "              precision    recall  f1-score   support\n",
      "\n",
      "           1       0.50      1.00      0.67        10\n",
      "           2       1.00      1.00      1.00        10\n",
      "           3       0.00      0.00      0.00        10\n",
      "           4       1.00      1.00      1.00        10\n",
      "           5       1.00      1.00      1.00        10\n",
      "           6       1.00      1.00      1.00        10\n",
      "\n",
      "    accuracy                           0.83        60\n",
      "   macro avg       0.75      0.83      0.78        60\n",
      "weighted avg       0.75      0.83      0.78        60\n",
      "\n"
     ]
    },
    {
     "name": "stderr",
     "output_type": "stream",
     "text": [
      "C:\\Users\\Aayush Kandpal\\anaconda3\\lib\\site-packages\\sklearn\\metrics\\_classification.py:1221: UndefinedMetricWarning: Precision and F-score are ill-defined and being set to 0.0 in labels with no predicted samples. Use `zero_division` parameter to control this behavior.\n",
      "  _warn_prf(average, modifier, msg_start, len(result))\n"
     ]
    }
   ],
   "source": [
    "print(classification_report(Y_val,val_pred))"
   ]
  },
  {
   "cell_type": "code",
   "execution_count": 65,
   "metadata": {},
   "outputs": [
    {
     "name": "stdout",
     "output_type": "stream",
     "text": [
      "              precision    recall  f1-score   support\n",
      "\n",
      "         1.0       0.67      1.00      0.80        10\n",
      "         2.0       0.00      0.00      0.00        10\n",
      "         3.0       0.00      0.00      0.00        10\n",
      "         4.0       0.00      0.00      0.00        10\n",
      "         5.0       0.67      1.00      0.80        10\n",
      "         6.0       0.33      1.00      0.50        10\n",
      "\n",
      "    accuracy                           0.50        60\n",
      "   macro avg       0.28      0.50      0.35        60\n",
      "weighted avg       0.28      0.50      0.35        60\n",
      "\n"
     ]
    },
    {
     "name": "stderr",
     "output_type": "stream",
     "text": [
      "C:\\Users\\Aayush Kandpal\\anaconda3\\lib\\site-packages\\sklearn\\metrics\\_classification.py:1221: UndefinedMetricWarning: Precision and F-score are ill-defined and being set to 0.0 in labels with no predicted samples. Use `zero_division` parameter to control this behavior.\n",
      "  _warn_prf(average, modifier, msg_start, len(result))\n"
     ]
    }
   ],
   "source": [
    "pred1=rf.predict(X_test)\n",
    "print(classification_report(Y_test,pred1))"
   ]
  },
  {
   "cell_type": "code",
   "execution_count": 52,
   "metadata": {},
   "outputs": [
    {
     "name": "stdout",
     "output_type": "stream",
     "text": [
      "              precision    recall  f1-score   support\n",
      "\n",
      "           1       1.00      1.00      1.00        10\n",
      "           2       1.00      1.00      1.00        10\n",
      "           3       1.00      1.00      1.00        10\n",
      "           4       1.00      1.00      1.00        10\n",
      "           5       1.00      1.00      1.00        10\n",
      "           6       1.00      1.00      1.00        10\n",
      "\n",
      "    accuracy                           1.00        60\n",
      "   macro avg       1.00      1.00      1.00        60\n",
      "weighted avg       1.00      1.00      1.00        60\n",
      "\n"
     ]
    },
    {
     "name": "stderr",
     "output_type": "stream",
     "text": [
      "C:\\Users\\Aayush Kandpal\\anaconda3\\lib\\site-packages\\sklearn\\svm\\_base.py:976: ConvergenceWarning: Liblinear failed to converge, increase the number of iterations.\n",
      "  warnings.warn(\"Liblinear failed to converge, increase \"\n"
     ]
    }
   ],
   "source": [
    "svm=LinearSVC()\n",
    "svm.fit(X_train,Y_train)\n",
    "val_pred1=svm.predict(X_val)\n",
    "print(classification_report(Y_val,val_pred1))"
   ]
  },
  {
   "cell_type": "code",
   "execution_count": 53,
   "metadata": {},
   "outputs": [
    {
     "name": "stdout",
     "output_type": "stream",
     "text": [
      "              precision    recall  f1-score   support\n",
      "\n",
      "         1.0       0.20      0.90      0.33        10\n",
      "         2.0       0.00      0.00      0.00        10\n",
      "         3.0       1.00      1.00      1.00        10\n",
      "         4.0       0.00      0.00      0.00        10\n",
      "         5.0       0.00      0.00      0.00        10\n",
      "         6.0       0.00      0.00      0.00        10\n",
      "\n",
      "    accuracy                           0.32        60\n",
      "   macro avg       0.20      0.32      0.22        60\n",
      "weighted avg       0.20      0.32      0.22        60\n",
      "\n"
     ]
    },
    {
     "name": "stderr",
     "output_type": "stream",
     "text": [
      "C:\\Users\\Aayush Kandpal\\anaconda3\\lib\\site-packages\\sklearn\\metrics\\_classification.py:1221: UndefinedMetricWarning: Precision and F-score are ill-defined and being set to 0.0 in labels with no predicted samples. Use `zero_division` parameter to control this behavior.\n",
      "  _warn_prf(average, modifier, msg_start, len(result))\n"
     ]
    }
   ],
   "source": [
    "svm_pred1=svm.predict(X_test)\n",
    "print(classification_report(Y_test,svm_pred1))"
   ]
  },
  {
   "cell_type": "code",
   "execution_count": 54,
   "metadata": {},
   "outputs": [
    {
     "name": "stderr",
     "output_type": "stream",
     "text": [
      "[Parallel(n_jobs=-1)]: Using backend LokyBackend with 8 concurrent workers.\n"
     ]
    },
    {
     "name": "stdout",
     "output_type": "stream",
     "text": [
      "              precision    recall  f1-score   support\n",
      "\n",
      "           1       1.00      1.00      1.00        10\n",
      "           2       1.00      1.00      1.00        10\n",
      "           3       1.00      1.00      1.00        10\n",
      "           4       1.00      1.00      1.00        10\n",
      "           5       1.00      1.00      1.00        10\n",
      "           6       1.00      1.00      1.00        10\n",
      "\n",
      "    accuracy                           1.00        60\n",
      "   macro avg       1.00      1.00      1.00        60\n",
      "weighted avg       1.00      1.00      1.00        60\n",
      "\n",
      "1.0\n"
     ]
    },
    {
     "name": "stderr",
     "output_type": "stream",
     "text": [
      "[Parallel(n_jobs=-1)]: Done   1 out of   1 | elapsed:    9.9s finished\n"
     ]
    }
   ],
   "source": [
    "lg=LogisticRegression(random_state=0,multi_class='auto',max_iter=250,verbose=5,n_jobs=-1)\n",
    "lg.fit(X_train,Y_train)\n",
    "pred=lg.predict(X_val)\n",
    "print(classification_report(Y_val,pred))\n",
    "print(accuracy_score(Y_val,pred))"
   ]
  },
  {
   "cell_type": "code",
   "execution_count": 55,
   "metadata": {},
   "outputs": [
    {
     "name": "stdout",
     "output_type": "stream",
     "text": [
      "              precision    recall  f1-score   support\n",
      "\n",
      "         1.0       0.29      1.00      0.44        10\n",
      "         2.0       0.00      0.00      0.00        10\n",
      "         3.0       1.00      1.00      1.00        10\n",
      "         4.0       0.00      0.00      0.00        10\n",
      "         5.0       0.00      0.00      0.00        10\n",
      "         6.0       0.00      0.00      0.00        10\n",
      "\n",
      "    accuracy                           0.33        60\n",
      "   macro avg       0.21      0.33      0.24        60\n",
      "weighted avg       0.21      0.33      0.24        60\n",
      "\n"
     ]
    },
    {
     "name": "stderr",
     "output_type": "stream",
     "text": [
      "C:\\Users\\Aayush Kandpal\\anaconda3\\lib\\site-packages\\sklearn\\metrics\\_classification.py:1221: UndefinedMetricWarning: Precision and F-score are ill-defined and being set to 0.0 in labels with no predicted samples. Use `zero_division` parameter to control this behavior.\n",
      "  _warn_prf(average, modifier, msg_start, len(result))\n"
     ]
    }
   ],
   "source": [
    "lg_pred1=lg.predict(X_test)\n",
    "print(classification_report(Y_test,lg_pred1))"
   ]
  },
  {
   "cell_type": "code",
   "execution_count": 56,
   "metadata": {},
   "outputs": [
    {
     "name": "stdout",
     "output_type": "stream",
     "text": [
      "              precision    recall  f1-score   support\n",
      "\n",
      "           1       0.67      1.00      0.80        10\n",
      "           2       0.83      1.00      0.91        10\n",
      "           3       1.00      1.00      1.00        10\n",
      "           4       0.38      0.50      0.43        10\n",
      "           5       0.00      0.00      0.00        10\n",
      "           6       1.00      1.00      1.00        10\n",
      "\n",
      "    accuracy                           0.75        60\n",
      "   macro avg       0.65      0.75      0.69        60\n",
      "weighted avg       0.65      0.75      0.69        60\n",
      "\n"
     ]
    }
   ],
   "source": [
    "lgb_clf=lgb.LGBMClassifier()\n",
    "lgb_clf.fit(X_train,Y_train)\n",
    "pred=lgb_clf.predict(X_val)\n",
    "print(classification_report(Y_val,pred))"
   ]
  },
  {
   "cell_type": "code",
   "execution_count": 57,
   "metadata": {},
   "outputs": [
    {
     "name": "stdout",
     "output_type": "stream",
     "text": [
      "              precision    recall  f1-score   support\n",
      "\n",
      "         1.0       1.00      1.00      1.00        10\n",
      "         2.0       0.00      0.00      0.00        10\n",
      "         3.0       1.00      0.50      0.67        10\n",
      "         4.0       0.00      0.00      0.00        10\n",
      "         5.0       0.00      0.00      0.00        10\n",
      "         6.0       0.29      1.00      0.44        10\n",
      "\n",
      "    accuracy                           0.42        60\n",
      "   macro avg       0.38      0.42      0.35        60\n",
      "weighted avg       0.38      0.42      0.35        60\n",
      "\n"
     ]
    }
   ],
   "source": [
    "lgb_pred1=lgb_clf.predict(X_test)\n",
    "print(classification_report(Y_test,lgb_pred1))"
   ]
  },
  {
   "cell_type": "code",
   "execution_count": 72,
   "metadata": {},
   "outputs": [
    {
     "data": {
      "image/png": "[encoded data removed]",
      "text/plain": [
       "<Figure size 1080x2160 with 1 Axes>"
      ]
     },
     "metadata": {
      "needs_background": "light"
     },
     "output_type": "display_data"
    }
   ],
   "source": [
    "lgb.plot_importance(lgb_clf,figsize=(15,30))\n",
    "plt.show()"
   ]
  },
  {
   "cell_type": "markdown",
   "metadata": {},
   "source": [
    "feature_important = xgb_clf.get_booster().get_score(importance_type='weight')\n",
    "keys = list(feature_important.keys())\n",
    "values = list(feature_important.values())\n",
    "\n",
    "\n",
    "data = pd.DataFrame(data=values, index=keys, columns=[\"score\"]).sort_values(by = \"score\", ascending=False)\n",
    "data.plot(kind='barh',figsize=(30,15))"
   ]
  },
  {
   "cell_type": "code",
   "execution_count": 66,
   "metadata": {},
   "outputs": [
    {
     "data": {
      "text/plain": [
       "((180, 251), (180,))"
      ]
     },
     "execution_count": 66,
     "metadata": {},
     "output_type": "execute_result"
    }
   ],
   "source": [
    "X_train.shape,Y_train.shape"
   ]
  },
  {
   "cell_type": "code",
   "execution_count": null,
   "metadata": {},
   "outputs": [],
   "source": []
  },
  {
   "cell_type": "code",
   "execution_count": null,
   "metadata": {},
   "outputs": [],
   "source": []
  },
  {
   "cell_type": "code",
   "execution_count": null,
   "metadata": {},
   "outputs": [],
   "source": []
  },
  {
   "cell_type": "code",
   "execution_count": null,
   "metadata": {},
   "outputs": [],
   "source": []
  },
  {
   "cell_type": "code",
   "execution_count": null,
   "metadata": {},
   "outputs": [],
   "source": []
  }
 ],
 "metadata": {
  "kernelspec": {
   "display_name": "Python 3",
   "language": "python",
   "name": "python3"
  },
  "language_info": {
   "codemirror_mode": {
    "name": "ipython",
    "version": 3
   },
   "file_extension": ".py",
   "mimetype": "text/x-python",
   "name": "python",
   "nbconvert_exporter": "python",
   "pygments_lexer": "ipython3",
   "version": "3.8.3"
  }
 },
 "nbformat": 4,
 "nbformat_minor": 4
}
