{
  "nbformat": 4,
  "nbformat_minor": 0,
  "metadata": {
    "colab": {
      "name": "create dataframe.ipynb",
      "provenance": [],
      "collapsed_sections": []
    },
    "kernelspec": {
      "name": "python3",
      "display_name": "Python 3"
    }
  },
  "cells": [
    {
      "cell_type": "code",
      "metadata": {
        "id": "Bague1LD5t-9"
      },
      "source": [
        "import numpy as np \r\n",
        "import pandas as pd\r\n",
        "import os\r\n",
        "from numpy import load\r\n",
        "from numpy import expand_dims\r\n",
        "from numpy import asarray\r\n",
        "from numpy import savez_compressed\r\n",
        "from keras.models import load_model\r\n",
        "import keras\r\n",
        "from PIL import Image"
      ],
      "execution_count": 1,
      "outputs": []
    },
    {
      "cell_type": "code",
      "metadata": {
        "id": "QpMPbJIb8qKL"
      },
      "source": [
        "gait_label = {\"001\":1, \"002\":2, \"003\":3, \"004\":4, \"005\":5, \"006\":6}\r\n",
        "face_label = {\"Aayush\" : 1, \"Ajita\" : 2, \"Aradhana\" : 3, \"Ashish\" : 4, \"Komal\": 5, \"Rudra\" : 6}"
      ],
      "execution_count": 30,
      "outputs": []
    },
    {
      "cell_type": "code",
      "metadata": {
        "colab": {
          "base_uri": "https://localhost:8080/"
        },
        "id": "cKZaMM37-Gfn",
        "outputId": "22aa8c3e-1a85-4fd7-b6ab-48d185545448"
      },
      "source": [
        "%cd /content/drive/MyDrive/Manish Sir Project/Main "
      ],
      "execution_count": 3,
      "outputs": [
        {
          "output_type": "stream",
          "text": [
            "/content/drive/MyDrive/Manish Sir Project/Main\n"
          ],
          "name": "stdout"
        }
      ]
    },
    {
      "cell_type": "code",
      "metadata": {
        "colab": {
          "base_uri": "https://localhost:8080/"
        },
        "id": "XOhprWeo-Ycj",
        "outputId": "7c4b9109-dbb1-436e-d538-1072b43bfcf0"
      },
      "source": [
        "ls"
      ],
      "execution_count": 4,
      "outputs": [
        {
          "output_type": "stream",
          "text": [
            "'Copy of facenet_keras_weights.h5'   \u001b[0m\u001b[01;34mGait_split\u001b[0m/\n",
            "'Copy of GEI(SOA_models).ipynb'     \u001b[01;34m'Gait Split'\u001b[0m/\n",
            "'create dataframe.ipynb'            'Implementing Facenet.ipynb'\n",
            " \u001b[01;34mEncodings\u001b[0m/                          Masked_Data.npz\n",
            " \u001b[01;34mFace_dataset\u001b[0m/                       model.png\n",
            " face_encoder_train.png              \u001b[01;34mTest\u001b[0m/\n",
            " Facenet_1.ipynb                     \u001b[01;34mTesting_masked\u001b[0m/\n",
            " Facenet_2.ipynb                     \u001b[01;34mTesting_Unmasked\u001b[0m/\n",
            " facenet_keras.h5                    \u001b[01;34mTrain\u001b[0m/\n",
            " Faces.ipynb                         Train_Data.npz\n",
            " featureExtractor.png                \u001b[01;34mTraining\u001b[0m/\n",
            " GaitReco_Facenet.ipynb              \u001b[01;34mVal\u001b[0m/\n",
            " Gait_Resnet.ipynb                   Val_Data.npz\n"
          ],
          "name": "stdout"
        }
      ]
    },
    {
      "cell_type": "code",
      "metadata": {
        "id": "Su_e62Sh-a1d"
      },
      "source": [
        "gait_train_path_000 = \"Gait Split/000/train\" \r\n",
        "gait_train_path_054 = \"Gait Split/054/train\"\r\n",
        "gait_train_path_090 = \"Gait Split/090/train\"\r\n",
        "face_train_path = \"Face_dataset/train\""
      ],
      "execution_count": 5,
      "outputs": []
    },
    {
      "cell_type": "code",
      "metadata": {
        "id": "4yLZlzBw-38T"
      },
      "source": [
        "def extract(file, required_size = (160, 160)):\r\n",
        "  img = Image.open(file)\r\n",
        "  img = img.convert(\"RGB\")\r\n",
        "  pixels = asarray(img)\r\n",
        "  image = Image.fromarray(pixels)\r\n",
        "  image = image.resize(required_size)\r\n",
        "  face_array = asarray(image)\r\n",
        "  return face_array"
      ],
      "execution_count": 6,
      "outputs": []
    },
    {
      "cell_type": "code",
      "metadata": {
        "id": "jq1Yl_WBGfQa"
      },
      "source": [
        "def generate_embedding(model, img_pixels):\r\n",
        "  #converting to float values\r\n",
        "  img_pixels = img_pixels.astype('float32')\r\n",
        "  mean, std_dev = img_pixels.mean(), img_pixels.std()\r\n",
        "  img_std = (img_pixels - mean) / std_dev\r\n",
        "  samples = expand_dims(img_pixels, axis = 0)\r\n",
        "  # passing through ZF net to produce embeddings\r\n",
        "  emb = encoder_model.predict(samples)\r\n",
        "  return emb[0]"
      ],
      "execution_count": 20,
      "outputs": []
    },
    {
      "cell_type": "code",
      "metadata": {
        "id": "avhsWpKLIA1c"
      },
      "source": [
        "encoder_model = load_model(\"facenet_keras.h5\" , compile = False)"
      ],
      "execution_count": 8,
      "outputs": []
    },
    {
      "cell_type": "code",
      "metadata": {
        "id": "RkXoRz540H0X"
      },
      "source": [
        "#def extract_embeddings(path, required_size = (160, 160)):\r\n",
        "#train_paths = [face_train_path, gait_train_path_000, gait_train_path_054, gait_train_path_090]\r\n",
        "def get_embedding(train_path, label):\r\n",
        "  train_dict = { \"1\" : [], \"2\" : [], \"3\" : [], \"4\" : [], \"5\" : [], \"6\" : []}\r\n",
        "  #for path in train_paths :\r\n",
        "  classes = os.listdir(train_path)\r\n",
        "  \r\n",
        "  for cls in classes:\r\n",
        "    cls_path = os.path.join(train_path, cls)\r\n",
        "    print(\"working for class : \", cls)\r\n",
        "    images = os.listdir(cls_path)\r\n",
        "    print(\"No of images :\", len(images))\r\n",
        "    \r\n",
        "    image_list = []\r\n",
        "    for image in images:\r\n",
        "      image_path = os.path.join(cls_path, image)\r\n",
        "      #print(image_path)\r\n",
        "      image_array = extract(image_path)\r\n",
        "      image_list.append(image_array)\r\n",
        "      #print(image_array)\r\n",
        "    data = asarray(image_list)\r\n",
        "    for img in data:\r\n",
        "      embedding = generate_embedding(encoder_model, img)\r\n",
        "      emb = asarray(embedding)\r\n",
        "      train_dict[str(label[cls])].append(emb)    \r\n",
        "  return train_dict"
      ],
      "execution_count": 33,
      "outputs": []
    },
    {
      "cell_type": "code",
      "metadata": {
        "colab": {
          "base_uri": "https://localhost:8080/"
        },
        "id": "x1Z2rKkPKSlo",
        "outputId": "4452220c-0cc7-4f17-b700-e35204cf034c"
      },
      "source": [
        "face_train_dict = get_embedding(face_train_path, face_label)"
      ],
      "execution_count": 34,
      "outputs": [
        {
          "output_type": "stream",
          "text": [
            "working for class :  Aayush\n",
            "No of images : 30\n",
            "working for class :  Ajita\n",
            "No of images : 30\n",
            "working for class :  Komal\n",
            "No of images : 30\n",
            "working for class :  Ashish\n",
            "No of images : 30\n",
            "working for class :  Aradhana\n",
            "No of images : 30\n",
            "working for class :  Rudra\n",
            "No of images : 30\n"
          ],
          "name": "stdout"
        }
      ]
    },
    {
      "cell_type": "code",
      "metadata": {
        "colab": {
          "base_uri": "https://localhost:8080/"
        },
        "id": "cW8Yz4CZl1qe",
        "outputId": "ed198674-6d17-47ab-e674-f72ca36a966a"
      },
      "source": [
        "gait_train_dict_000 = get_embedding(gait_train_path_000, gait_label)"
      ],
      "execution_count": 38,
      "outputs": [
        {
          "output_type": "stream",
          "text": [
            "working for class :  001\n",
            "No of images : 30\n",
            "working for class :  002\n",
            "No of images : 30\n",
            "working for class :  005\n",
            "No of images : 30\n",
            "working for class :  003\n",
            "No of images : 30\n",
            "working for class :  004\n",
            "No of images : 30\n",
            "working for class :  006\n",
            "No of images : 30\n"
          ],
          "name": "stdout"
        }
      ]
    },
    {
      "cell_type": "code",
      "metadata": {
        "colab": {
          "base_uri": "https://localhost:8080/"
        },
        "id": "CqU0lMgZm7Uc",
        "outputId": "4cc23490-3d3d-498c-fb35-c1546bfb18da"
      },
      "source": [
        "gait_train_dict_054 = get_embedding(gait_train_path_054, gait_label)"
      ],
      "execution_count": 39,
      "outputs": [
        {
          "output_type": "stream",
          "text": [
            "working for class :  006\n",
            "No of images : 30\n",
            "working for class :  004\n",
            "No of images : 30\n",
            "working for class :  002\n",
            "No of images : 30\n",
            "working for class :  001\n",
            "No of images : 30\n",
            "working for class :  005\n",
            "No of images : 30\n",
            "working for class :  003\n",
            "No of images : 30\n"
          ],
          "name": "stdout"
        }
      ]
    },
    {
      "cell_type": "code",
      "metadata": {
        "colab": {
          "base_uri": "https://localhost:8080/"
        },
        "id": "48N-e0pgo35l",
        "outputId": "4383125e-6091-47fc-d2a9-9338093dc8d5"
      },
      "source": [
        "gait_train_dict_090 = get_embedding(gait_train_path_090, gait_label)"
      ],
      "execution_count": 40,
      "outputs": [
        {
          "output_type": "stream",
          "text": [
            "working for class :  002\n",
            "No of images : 30\n",
            "working for class :  001\n",
            "No of images : 30\n",
            "working for class :  003\n",
            "No of images : 30\n",
            "working for class :  006\n",
            "No of images : 30\n",
            "working for class :  005\n",
            "No of images : 30\n",
            "working for class :  004\n",
            "No of images : 30\n"
          ],
          "name": "stdout"
        }
      ]
    },
    {
      "cell_type": "code",
      "metadata": {
        "id": "ZH6oM_Zao_nq"
      },
      "source": [
        "gait_val_path_000 = \"Gait Split/000/val\" \r\n",
        "gait_val_path_054 = \"Gait Split/054/val\"\r\n",
        "gait_val_path_090 = \"Gait Split/090/val\"\r\n",
        "face_val_path = \"Face_dataset/val\""
      ],
      "execution_count": 41,
      "outputs": []
    },
    {
      "cell_type": "code",
      "metadata": {
        "colab": {
          "base_uri": "https://localhost:8080/"
        },
        "id": "PJkJ7vWzphTh",
        "outputId": "7f2f70c5-85f3-463e-acc6-208ae901e009"
      },
      "source": [
        "face_val_dict = get_embedding(face_val_path, face_label)"
      ],
      "execution_count": 42,
      "outputs": [
        {
          "output_type": "stream",
          "text": [
            "working for class :  Ashish\n",
            "No of images : 10\n",
            "working for class :  Aradhana\n",
            "No of images : 10\n",
            "working for class :  Aayush\n",
            "No of images : 10\n",
            "working for class :  Rudra\n",
            "No of images : 10\n",
            "working for class :  Ajita\n",
            "No of images : 10\n",
            "working for class :  Komal\n",
            "No of images : 10\n"
          ],
          "name": "stdout"
        }
      ]
    },
    {
      "cell_type": "code",
      "metadata": {
        "colab": {
          "base_uri": "https://localhost:8080/"
        },
        "id": "AyaM4C7zpxDk",
        "outputId": "ba4b97f7-2082-477a-9b9b-43e6be23e697"
      },
      "source": [
        "gait_val_dict_000 = get_embedding(gait_val_path_000, gait_label)"
      ],
      "execution_count": 43,
      "outputs": [
        {
          "output_type": "stream",
          "text": [
            "working for class :  003\n",
            "No of images : 10\n",
            "working for class :  004\n",
            "No of images : 10\n",
            "working for class :  002\n",
            "No of images : 10\n",
            "working for class :  001\n",
            "No of images : 10\n",
            "working for class :  005\n",
            "No of images : 10\n",
            "working for class :  006\n",
            "No of images : 10\n"
          ],
          "name": "stdout"
        }
      ]
    },
    {
      "cell_type": "code",
      "metadata": {
        "colab": {
          "base_uri": "https://localhost:8080/"
        },
        "id": "067-Pvc6p_Gd",
        "outputId": "24e8fb60-306a-44b4-96cb-0f80b7a8bc64"
      },
      "source": [
        "gait_val_dict_054 = get_embedding(gait_val_path_054, gait_label)"
      ],
      "execution_count": 44,
      "outputs": [
        {
          "output_type": "stream",
          "text": [
            "working for class :  001\n",
            "No of images : 10\n",
            "working for class :  002\n",
            "No of images : 10\n",
            "working for class :  003\n",
            "No of images : 10\n",
            "working for class :  006\n",
            "No of images : 10\n",
            "working for class :  005\n",
            "No of images : 10\n",
            "working for class :  004\n",
            "No of images : 10\n"
          ],
          "name": "stdout"
        }
      ]
    },
    {
      "cell_type": "code",
      "metadata": {
        "colab": {
          "base_uri": "https://localhost:8080/"
        },
        "id": "XjCM_ETnqDhd",
        "outputId": "353c5238-f064-4481-c4fa-8da8e843b828"
      },
      "source": [
        "gait_val_dict_090 = get_embedding(gait_val_path_090, gait_label)"
      ],
      "execution_count": 45,
      "outputs": [
        {
          "output_type": "stream",
          "text": [
            "working for class :  001\n",
            "No of images : 10\n",
            "working for class :  006\n",
            "No of images : 10\n",
            "working for class :  004\n",
            "No of images : 10\n",
            "working for class :  005\n",
            "No of images : 10\n",
            "working for class :  003\n",
            "No of images : 10\n",
            "working for class :  002\n",
            "No of images : 10\n"
          ],
          "name": "stdout"
        }
      ]
    },
    {
      "cell_type": "code",
      "metadata": {
        "id": "g5PaAXGUqHtK"
      },
      "source": [
        "gait_test_path_000 = \"Gait Split/000/test\" \r\n",
        "gait_test_path_054 = \"Gait Split/054/test\"\r\n",
        "gait_test_path_090 = \"Gait Split/090/test\"\r\n",
        "face_test_path = \"Face_dataset/test\""
      ],
      "execution_count": 46,
      "outputs": []
    },
    {
      "cell_type": "code",
      "metadata": {
        "colab": {
          "base_uri": "https://localhost:8080/"
        },
        "id": "cgsflJ9UqYQf",
        "outputId": "96f25acf-a7f2-40d5-cf73-109bebc4487a"
      },
      "source": [
        "face_test_dict = get_embedding(face_test_path, face_label)"
      ],
      "execution_count": 69,
      "outputs": [
        {
          "output_type": "stream",
          "text": [
            "working for class :  Aayush\n",
            "No of images : 10\n",
            "working for class :  Ajita\n",
            "No of images : 10\n",
            "working for class :  Komal\n",
            "No of images : 10\n",
            "working for class :  Ashish\n",
            "No of images : 10\n",
            "working for class :  Aradhana\n",
            "No of images : 10\n",
            "working for class :  Rudra\n",
            "No of images : 10\n"
          ],
          "name": "stdout"
        }
      ]
    },
    {
      "cell_type": "code",
      "metadata": {
        "colab": {
          "base_uri": "https://localhost:8080/"
        },
        "id": "NfZYRJ1NqghD",
        "outputId": "90e5c6cb-bd24-44c0-a23d-dd1322a6b9c1"
      },
      "source": [
        "gait_test_dict_000 = get_embedding(gait_test_path_000, gait_label)"
      ],
      "execution_count": 48,
      "outputs": [
        {
          "output_type": "stream",
          "text": [
            "working for class :  002\n",
            "No of images : 10\n",
            "working for class :  001\n",
            "No of images : 10\n",
            "working for class :  005\n",
            "No of images : 10\n",
            "working for class :  006\n",
            "No of images : 10\n",
            "working for class :  004\n",
            "No of images : 10\n",
            "working for class :  003\n",
            "No of images : 10\n"
          ],
          "name": "stdout"
        }
      ]
    },
    {
      "cell_type": "code",
      "metadata": {
        "colab": {
          "base_uri": "https://localhost:8080/"
        },
        "id": "XT44GmbGqoqZ",
        "outputId": "645234a2-6a62-4570-be32-089388979aa2"
      },
      "source": [
        "gait_test_dict_054 = get_embedding(gait_test_path_054, gait_label)"
      ],
      "execution_count": 49,
      "outputs": [
        {
          "output_type": "stream",
          "text": [
            "working for class :  002\n",
            "No of images : 10\n",
            "working for class :  003\n",
            "No of images : 10\n",
            "working for class :  001\n",
            "No of images : 10\n",
            "working for class :  004\n",
            "No of images : 10\n",
            "working for class :  005\n",
            "No of images : 10\n",
            "working for class :  006\n",
            "No of images : 10\n"
          ],
          "name": "stdout"
        }
      ]
    },
    {
      "cell_type": "code",
      "metadata": {
        "colab": {
          "base_uri": "https://localhost:8080/"
        },
        "id": "YuXLUvfKqrqD",
        "outputId": "44d93a4c-8e9d-4053-83b4-b690c7b76970"
      },
      "source": [
        "gait_test_dict_090 = get_embedding(gait_test_path_090, gait_label)"
      ],
      "execution_count": 50,
      "outputs": [
        {
          "output_type": "stream",
          "text": [
            "working for class :  001\n",
            "No of images : 10\n",
            "working for class :  002\n",
            "No of images : 10\n",
            "working for class :  006\n",
            "No of images : 10\n",
            "working for class :  004\n",
            "No of images : 10\n",
            "working for class :  003\n",
            "No of images : 10\n",
            "working for class :  005\n",
            "No of images : 10\n"
          ],
          "name": "stdout"
        }
      ]
    },
    {
      "cell_type": "code",
      "metadata": {
        "id": "QmvvNQYjquwM"
      },
      "source": [
        "train_df = {\"Face Embedding\" : [], \"Gait_000\" : [], \"Gait_054\" : [], \"Gait_090\" : [], \"labels\" : []}\r\n",
        "val_df = {\"Face Embedding\" : [], \"Gait_000\" : [], \"Gait_054\" : [], \"Gait_090\" : [], \"labels\" : []}\r\n",
        "test_df = {\"Face Embedding\" : [], \"Gait_000\" : [], \"Gait_054\" : [], \"Gait_090\" : [], \"labels\" : []}"
      ],
      "execution_count": 71,
      "outputs": []
    },
    {
      "cell_type": "code",
      "metadata": {
        "id": "ayf2V2j44y-6"
      },
      "source": [
        "train_df = {\"Face Embedding\" : [], \"Gait_000\" : [], \"Gait_054\" : [], \"Gait_090\" : [], \"labels\" : []}\r\n",
        "for cls in face_train_dict:\r\n",
        "  for i, emb in enumerate(face_train_dict[cls], 0):\r\n",
        "    train_df[\"Face Embedding\"].append(face_train_dict[cls][i])\r\n",
        "    train_df[\"Gait_000\"].append(gait_train_dict_000[cls][i])\r\n",
        "    train_df[\"Gait_054\"].append(gait_train_dict_054[cls][i])\r\n",
        "    train_df[\"Gait_090\"].append(gait_train_dict_090[cls][i])\r\n",
        "    train_df[\"labels\"].append(int(cls))"
      ],
      "execution_count": 72,
      "outputs": []
    },
    {
      "cell_type": "code",
      "metadata": {
        "id": "ELnSXD6k5Sgu"
      },
      "source": [
        "test_df = {\"Face Embedding\" : [], \"Gait_000\" : [], \"Gait_054\" : [], \"Gait_090\" : [], \"labels\" : []}\r\n",
        "for cls in face_test_dict:\r\n",
        "  for i, emb in enumerate(face_test_dict[cls], 0):\r\n",
        "    test_df[\"Face Embedding\"].append(face_test_dict[cls][i])\r\n",
        "    test_df[\"Gait_000\"].append(gait_test_dict_000[cls][i])\r\n",
        "    test_df[\"Gait_054\"].append(gait_test_dict_054[cls][i])\r\n",
        "    test_df[\"Gait_090\"].append(gait_test_dict_090[cls][i])\r\n",
        "    test_df[\"labels\"].append(int(cls))"
      ],
      "execution_count": 73,
      "outputs": []
    },
    {
      "cell_type": "code",
      "metadata": {
        "id": "omdzogIT8LjL"
      },
      "source": [
        "val_df = {\"Face Embedding\" : [], \"Gait_000\" : [], \"Gait_054\" : [], \"Gait_090\" : [], \"labels\" : []}\r\n",
        "for cls in face_val_dict:\r\n",
        "  for i, emb in enumerate(face_val_dict[cls], 0):\r\n",
        "    val_df[\"Face Embedding\"].append(face_val_dict[cls][i])\r\n",
        "    val_df[\"Gait_000\"].append(gait_val_dict_000[cls][i])\r\n",
        "    val_df[\"Gait_054\"].append(gait_val_dict_054[cls][i])\r\n",
        "    val_df[\"Gait_090\"].append(gait_val_dict_090[cls][i])\r\n",
        "    val_df[\"labels\"].append(int(cls))"
      ],
      "execution_count": 74,
      "outputs": []
    },
    {
      "cell_type": "code",
      "metadata": {
        "id": "HSLMUs3xDEmQ"
      },
      "source": [
        "train_df = pd.DataFrame.from_dict(train_df)\r\n",
        "test_df = pd.DataFrame.from_dict(test_df)\r\n",
        "val_df = pd.DataFrame.from_dict(val_df)"
      ],
      "execution_count": 75,
      "outputs": []
    },
    {
      "cell_type": "code",
      "metadata": {
        "id": "KWnbmtcHDX2H"
      },
      "source": [
        "train_df.to_csv(\"train.csv\")\r\n",
        "test_df.to_csv(\"test.csv\")\r\n",
        "val_df.to_csv(\"val.csv\")"
      ],
      "execution_count": 76,
      "outputs": []
    },
    {
      "cell_type": "code",
      "metadata": {
        "id": "CxL5Ahc9EC6x"
      },
      "source": [
        ""
      ],
      "execution_count": null,
      "outputs": []
    }
  ]
}