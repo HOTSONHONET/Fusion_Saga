{
 "cells": [
  {
   "cell_type": "code",
   "execution_count": 2,
   "metadata": {},
   "outputs": [],
   "source": [
    "import numpy as np\n",
    "import pandas as pd\n",
    "import matplotlib.pyplot as plt\n",
    "from PIL import Image\n",
    "import cv2\n",
    "from numpy import load\n",
    "from numpy import expand_dims\n",
    "from numpy import asarray\n",
    "import os\n",
    "import matplotlib.image as mpimg\n",
    "from sklearn.decomposition import PCA\n",
    "import time\n",
    "from sklearn.metrics import classification_report\n",
    "from sklearn.svm import LinearSVC\n",
    "from sklearn.linear_model import LogisticRegression\n",
    "from sklearn.metrics import accuracy_score\n",
    "import lightgbm as lgb\n",
    "import xgboost as xgb\n",
    "from sklearn.metrics import plot_roc_curve\n",
    "from sklearn.metrics import plot_precision_recall_curve\n"
   ]
  },
  {
   "cell_type": "code",
   "execution_count": 3,
   "metadata": {},
   "outputs": [],
   "source": [
    "gait_label = {\"001\":1, \"002\":2, \"003\":3, \"004\":4, \"005\":5, \"006\":6}\n",
    "face_label = {\"Aayush\" : 1, \"Ajita\" : 2, \"Aradhana\" : 3, \"Ashish\" : 4, \"Komal\": 5, \"Rudra\" : 6}"
   ]
  },
  {
   "cell_type": "code",
   "execution_count": 4,
   "metadata": {},
   "outputs": [],
   "source": [
    "gait_train_path_000 = \"C:\\\\Users\\\\Aayush Kandpal\\\\Downloads\\\\Gait Split-20210121T155805Z-001\\\\Gait Split\\\\000\\\\train\"\n",
    "gait_train_path_054 = \"C:\\\\Users\\\\Aayush Kandpal\\\\Downloads\\\\Gait Split-20210121T155805Z-001\\\\Gait Split\\\\054\\\\train\"\n",
    "gait_train_path_090 = \"C:\\\\Users\\\\Aayush Kandpal\\\\Downloads\\\\Gait Split-20210121T155805Z-001\\\\Gait Split\\\\090\\\\train\"\n",
    "gait_train_path_018 = \"C:\\\\Users\\\\Aayush Kandpal\\\\Downloads\\\\Gait Split-20210121T155805Z-001\\\\Gait Split\\\\018\\\\train\"\n",
    "gait_train_path_036 = \"C:\\\\Users\\\\Aayush Kandpal\\\\Downloads\\\\Gait Split-20210121T155805Z-001\\\\Gait Split\\\\036\\\\train\"\n",
    "gait_train_path_072 = \"C:\\\\Users\\\\Aayush Kandpal\\\\Downloads\\\\Gait Split-20210121T155805Z-001\\\\Gait Split\\\\072\\\\train\"\n",
    "face_train_path = \"C:\\\\Users\\\\Aayush Kandpal\\\\Downloads\\\\Face_dataset_ML\\\\Face_dataset\\\\train\"\n",
    "\n",
    "gait_val_path_000 = \"C:\\\\Users\\\\Aayush Kandpal\\\\Downloads\\\\Gait Split-20210121T155805Z-001\\\\Gait Split\\\\000\\\\val\"\n",
    "gait_val_path_054 = \"C:\\\\Users\\\\Aayush Kandpal\\\\Downloads\\\\Gait Split-20210121T155805Z-001\\\\Gait Split\\\\054\\\\val\"\n",
    "gait_val_path_090 = \"C:\\\\Users\\\\Aayush Kandpal\\\\Downloads\\\\Gait Split-20210121T155805Z-001\\\\Gait Split\\\\090\\\\val\"\n",
    "gait_val_path_018 = \"C:\\\\Users\\\\Aayush Kandpal\\\\Downloads\\\\Gait Split-20210121T155805Z-001\\\\Gait Split\\\\018\\\\val\"\n",
    "gait_val_path_036 = \"C:\\\\Users\\\\Aayush Kandpal\\\\Downloads\\\\Gait Split-20210121T155805Z-001\\\\Gait Split\\\\036\\\\val\"\n",
    "gait_val_path_072 = \"C:\\\\Users\\\\Aayush Kandpal\\\\Downloads\\\\Gait Split-20210121T155805Z-001\\\\Gait Split\\\\072\\\\val\"\n",
    "face_val_path = \"C:\\\\Users\\\\Aayush Kandpal\\\\Downloads\\\\Face_dataset_ML\\\\Face_dataset\\\\val\"\n",
    "\n",
    "gait_test_path_000 = \"C:\\\\Users\\\\Aayush Kandpal\\\\Downloads\\\\Gait Split-20210121T155805Z-001\\\\Gait Split\\\\000\\\\test\"\n",
    "gait_test_path_054 = \"C:\\\\Users\\\\Aayush Kandpal\\\\Downloads\\\\Gait Split-20210121T155805Z-001\\\\Gait Split\\\\054\\\\test\"\n",
    "gait_test_path_090 = \"C:\\\\Users\\\\Aayush Kandpal\\\\Downloads\\\\Gait Split-20210121T155805Z-001\\\\Gait Split\\\\090\\\\test\"\n",
    "gait_test_path_018 = \"C:\\\\Users\\\\Aayush Kandpal\\\\Downloads\\\\Gait Split-20210121T155805Z-001\\\\Gait Split\\\\018\\\\test\"\n",
    "gait_test_path_036 = \"C:\\\\Users\\\\Aayush Kandpal\\\\Downloads\\\\Gait Split-20210121T155805Z-001\\\\Gait Split\\\\036\\\\test\"\n",
    "gait_test_path_072 = \"C:\\\\Users\\\\Aayush Kandpal\\\\Downloads\\\\Gait Split-20210121T155805Z-001\\\\Gait Split\\\\072\\\\test\"\n",
    "face_test_path = \"C:\\\\Users\\\\Aayush Kandpal\\\\Downloads\\\\Face_dataset_ML\\\\Face_dataset\\\\test\"\n"
   ]
  },
  {
   "cell_type": "code",
   "execution_count": 5,
   "metadata": {},
   "outputs": [
    {
     "data": {
      "text/plain": [
       "['Aayush', 'Ajita', 'Aradhana', 'Ashish', 'Komal', 'Rudra']"
      ]
     },
     "execution_count": 5,
     "metadata": {},
     "output_type": "execute_result"
    }
   ],
   "source": [
    "\n",
    "file = os.listdir(face_train_path)\n",
    "file\n"
   ]
  },
  {
   "cell_type": "code",
   "execution_count": 6,
   "metadata": {},
   "outputs": [],
   "source": [
    "def create_dataset(img_folder):\n",
    "    \n",
    "    img_data_array=[]\n",
    "    class_name=[]\n",
    "    for dir1 in os.listdir(img_folder):\n",
    "        for file in os.listdir(os.path.join(img_folder, dir1)):\n",
    "       \n",
    "            image_path= os.path.join(img_folder, dir1,  file)\n",
    "            image= np.array(Image.open(image_path))\n",
    "            image= np.resize(image,(224,224))\n",
    "            image = image.astype('float32')\n",
    "            img_data_array.append(image)\n",
    "            class_name.append(dir1)\n",
    "    return img_data_array , class_name\n",
    "\n",
    "def create_array(data):\n",
    "    return np.array(data)\n",
    "    "
   ]
  },
  {
   "cell_type": "code",
   "execution_count": 7,
   "metadata": {},
   "outputs": [],
   "source": [
    "train_0,class_0=create_dataset(gait_train_path_000)\n",
    "train_54,class_54=create_dataset(gait_train_path_054)\n",
    "train_90,class_90=create_dataset(gait_train_path_090)\n",
    "train_18,class_18=create_dataset(gait_train_path_018)\n",
    "train_36,class_36=create_dataset(gait_train_path_036)\n",
    "train_72,class_72=create_dataset(gait_train_path_072)\n",
    "face_train,train_class=create_dataset(face_train_path)\n",
    "\n",
    "\n",
    "val_0,class_val_0=create_dataset(gait_val_path_000)\n",
    "val_54,class_val_54=create_dataset(gait_val_path_054)\n",
    "val_90,class_val_90=create_dataset(gait_val_path_090)\n",
    "val_18,class_val_18=create_dataset(gait_val_path_018)\n",
    "val_36,class_val_36=create_dataset(gait_val_path_036)\n",
    "val_72,class_val_72=create_dataset(gait_val_path_072)\n",
    "face_val,val_class=create_dataset(face_val_path)\n",
    "\n",
    "test_0,class_test_0=create_dataset(gait_test_path_000)\n",
    "test_54,class_test_54=create_dataset(gait_test_path_054)\n",
    "test_90,class_test_90=create_dataset(gait_test_path_090)\n",
    "test_18,class_test_18=create_dataset(gait_test_path_018)\n",
    "test_36,class_test_36=create_dataset(gait_test_path_036)\n",
    "test_72,class_test_72=create_dataset(gait_test_path_072)\n",
    "face_test,test_class=create_dataset(face_test_path)\n",
    "\n",
    "x_train_0=np.array(train_0)\n",
    "x_train_54=np.array(train_54)\n",
    "x_train_90=np.array(train_90)\n",
    "x_train_18=np.array(train_18)\n",
    "x_train_36=np.array(train_36)\n",
    "x_train_72=np.array(train_72)\n",
    "x_train_face=np.array(face_train)\n",
    "\n",
    "x_val_0=np.array(val_0)\n",
    "x_val_54=np.array(val_54)\n",
    "x_val_90=np.array(val_90)\n",
    "x_val_18=np.array(val_18)\n",
    "x_val_36=np.array(val_36)\n",
    "x_val_72=np.array(val_72)\n",
    "x_val_face=np.array(face_val)\n",
    "\n",
    "x_test_0=np.array(test_0)\n",
    "x_test_54=np.array(test_54)\n",
    "x_test_90=np.array(test_90)\n",
    "x_test_18=np.array(test_18)\n",
    "x_test_36=np.array(test_36)\n",
    "x_test_72=np.array(test_72)\n",
    "x_test_face=np.array(face_test)\n",
    "\n",
    "train_label=np.array(class_0)\n",
    "val_label=np.array(class_val_0)\n",
    "test_label=np.array(class_test_0)\n"
   ]
  },
  {
   "cell_type": "code",
   "execution_count": 8,
   "metadata": {},
   "outputs": [
    {
     "data": {
      "text/plain": [
       "(180, 224, 224)"
      ]
     },
     "execution_count": 8,
     "metadata": {},
     "output_type": "execute_result"
    }
   ],
   "source": []
  },
  {
   "cell_type": "code",
   "execution_count": 9,
   "metadata": {},
   "outputs": [],
   "source": [
    "# Let us now flatten the dataset and convert each \n",
    "x_train_0=pd.DataFrame(x_train_0.reshape((x_train_0.shape[0],224*224)))\n",
    "x_train_54=pd.DataFrame(x_train_54.reshape((x_train_54.shape[0],224*224)))\n",
    "x_train_90=pd.DataFrame(x_train_90.reshape((x_train_90.shape[0],224*224)))\n",
    "x_train_18=pd.DataFrame(x_train_18.reshape((x_train_18.shape[0],224*224)))\n",
    "x_train_36=pd.DataFrame(x_train_36.reshape((x_train_36.shape[0],224*224)))\n",
    "x_train_72=pd.DataFrame(x_train_72.reshape((x_train_72.shape[0],224*224)))\n",
    "\n",
    "x_train_face=pd.DataFrame(x_train_face.reshape((x_train_face.shape[0],224*224)))\n",
    "\n",
    "x_val_0=pd.DataFrame(x_val_0.reshape((x_val_0.shape[0],224*224)))\n",
    "x_val_54=pd.DataFrame(x_val_54.reshape((x_val_54.shape[0],224*224)))\n",
    "x_val_90=pd.DataFrame(x_val_90.reshape((x_val_90.shape[0],224*224)))\n",
    "x_val_18=pd.DataFrame(x_val_18.reshape((x_val_18.shape[0],224*224)))\n",
    "x_val_36=pd.DataFrame(x_val_36.reshape((x_val_36.shape[0],224*224)))\n",
    "x_val_72=pd.DataFrame(x_val_72.reshape((x_val_72.shape[0],224*224)))\n",
    "x_val_face=pd.DataFrame(x_val_face.reshape((x_val_face.shape[0],224*224)))\n",
    "\n",
    "x_test_0=pd.DataFrame(x_test_0.reshape((x_test_0.shape[0],224*224)))\n",
    "x_test_54=pd.DataFrame(x_test_54.reshape((x_test_54.shape[0],224*224)))\n",
    "x_test_90=pd.DataFrame(x_test_90.reshape((x_test_90.shape[0],224*224)))\n",
    "x_test_18=pd.DataFrame(x_test_18.reshape((x_test_18.shape[0],224*224)))\n",
    "x_test_36=pd.DataFrame(x_test_36.reshape((x_test_36.shape[0],224*224)))\n",
    "x_test_72=pd.DataFrame(x_test_72.reshape((x_test_72.shape[0],224*224)))\n",
    "x_test_face=pd.DataFrame(x_test_face.reshape((x_test_face.shape[0],224*224)))\n",
    "\n",
    "train_label=pd.DataFrame(train_label).astype(int)\n",
    "val_label=pd.DataFrame(val_label).astype(int)\n",
    "test_label=pd.DataFrame(test_label).astype(int)\n"
   ]
  },
  {
   "cell_type": "code",
   "execution_count": 10,
   "metadata": {},
   "outputs": [],
   "source": [
    "# Let us now make our dataset by concatenating all feature columns\n",
    "train_data=pd.concat([x_train_face,x_train_0,x_train_54,x_train_90,x_train_18,x_train_36,x_train_72,train_label],axis=1)\n",
    "val_data=pd.concat([x_val_face,x_val_0,x_val_54,x_val_90,x_val_18,x_val_36,x_val_72,val_label],axis=1)\n",
    "test_data=pd.concat([x_test_face,x_test_0,x_test_54,x_test_90,x_test_18,x_test_36,x_test_72,test_label],axis=1)"
   ]
  },
  {
   "cell_type": "code",
   "execution_count": 30,
   "metadata": {},
   "outputs": [
    {
     "data": {
      "text/plain": [
       "((180, 351233), (60, 351233), (90, 351233))"
      ]
     },
     "execution_count": 30,
     "metadata": {},
     "output_type": "execute_result"
    }
   ],
   "source": [
    "train_data.shape,val_data.shape,test_data.shape"
   ]
  },
  {
   "cell_type": "code",
   "execution_count": 31,
   "metadata": {},
   "outputs": [],
   "source": [
    "train_data.columns = [*train_data.columns[:-1], 'label']\n",
    "val_data.columns = [*val_data.columns[:-1], 'label']\n",
    "test_data.columns = [*test_data.columns[:-1], 'label']"
   ]
  },
  {
   "cell_type": "code",
   "execution_count": 32,
   "metadata": {},
   "outputs": [],
   "source": [
    "# Let us shuffle our datasets and reset the indices\n",
    "train_data = train_data.sample(frac=1).reset_index(drop=True)\n",
    "test_data = test_data.sample(frac=1).reset_index(drop=True)\n",
    "val_data = val_data.sample(frac=1).reset_index(drop=True)\n",
    "#train_data.to_csv('train_fusion.csv')\n",
    "#test_data.to_csv('test_fusion.csv')\n",
    "#val_data.to_csv('val_fusion.csv')"
   ]
  },
  {
   "cell_type": "code",
   "execution_count": 33,
   "metadata": {},
   "outputs": [
    {
     "data": {
      "text/html": [
       "<div>\n",
       "<style scoped>\n",
       "    .dataframe tbody tr th:only-of-type {\n",
       "        vertical-align: middle;\n",
       "    }\n",
       "\n",
       "    .dataframe tbody tr th {\n",
       "        vertical-align: top;\n",
       "    }\n",
       "\n",
       "    .dataframe thead th {\n",
       "        text-align: right;\n",
       "    }\n",
       "</style>\n",
       "<table border=\"1\" class=\"dataframe\">\n",
       "  <thead>\n",
       "    <tr style=\"text-align: right;\">\n",
       "      <th></th>\n",
       "      <th>0</th>\n",
       "      <th>1</th>\n",
       "      <th>2</th>\n",
       "      <th>3</th>\n",
       "      <th>4</th>\n",
       "      <th>5</th>\n",
       "      <th>6</th>\n",
       "      <th>7</th>\n",
       "      <th>8</th>\n",
       "      <th>9</th>\n",
       "      <th>...</th>\n",
       "      <th>50167</th>\n",
       "      <th>50168</th>\n",
       "      <th>50169</th>\n",
       "      <th>50170</th>\n",
       "      <th>50171</th>\n",
       "      <th>50172</th>\n",
       "      <th>50173</th>\n",
       "      <th>50174</th>\n",
       "      <th>50175</th>\n",
       "      <th>label</th>\n",
       "    </tr>\n",
       "  </thead>\n",
       "  <tbody>\n",
       "    <tr>\n",
       "      <th>0</th>\n",
       "      <td>10.0</td>\n",
       "      <td>222.0</td>\n",
       "      <td>0.0</td>\n",
       "      <td>4.0</td>\n",
       "      <td>224.0</td>\n",
       "      <td>0.0</td>\n",
       "      <td>0.0</td>\n",
       "      <td>229.0</td>\n",
       "      <td>0.0</td>\n",
       "      <td>0.0</td>\n",
       "      <td>...</td>\n",
       "      <td>0.0</td>\n",
       "      <td>0.0</td>\n",
       "      <td>0.0</td>\n",
       "      <td>0.0</td>\n",
       "      <td>0.0</td>\n",
       "      <td>0.0</td>\n",
       "      <td>0.0</td>\n",
       "      <td>0.0</td>\n",
       "      <td>0.0</td>\n",
       "      <td>6</td>\n",
       "    </tr>\n",
       "    <tr>\n",
       "      <th>1</th>\n",
       "      <td>181.0</td>\n",
       "      <td>104.0</td>\n",
       "      <td>114.0</td>\n",
       "      <td>158.0</td>\n",
       "      <td>93.0</td>\n",
       "      <td>101.0</td>\n",
       "      <td>92.0</td>\n",
       "      <td>45.0</td>\n",
       "      <td>51.0</td>\n",
       "      <td>69.0</td>\n",
       "      <td>...</td>\n",
       "      <td>0.0</td>\n",
       "      <td>0.0</td>\n",
       "      <td>0.0</td>\n",
       "      <td>0.0</td>\n",
       "      <td>0.0</td>\n",
       "      <td>0.0</td>\n",
       "      <td>0.0</td>\n",
       "      <td>0.0</td>\n",
       "      <td>0.0</td>\n",
       "      <td>3</td>\n",
       "    </tr>\n",
       "    <tr>\n",
       "      <th>2</th>\n",
       "      <td>173.0</td>\n",
       "      <td>111.0</td>\n",
       "      <td>124.0</td>\n",
       "      <td>117.0</td>\n",
       "      <td>61.0</td>\n",
       "      <td>74.0</td>\n",
       "      <td>79.0</td>\n",
       "      <td>33.0</td>\n",
       "      <td>46.0</td>\n",
       "      <td>69.0</td>\n",
       "      <td>...</td>\n",
       "      <td>0.0</td>\n",
       "      <td>0.0</td>\n",
       "      <td>0.0</td>\n",
       "      <td>0.0</td>\n",
       "      <td>0.0</td>\n",
       "      <td>0.0</td>\n",
       "      <td>0.0</td>\n",
       "      <td>0.0</td>\n",
       "      <td>0.0</td>\n",
       "      <td>3</td>\n",
       "    </tr>\n",
       "    <tr>\n",
       "      <th>3</th>\n",
       "      <td>183.0</td>\n",
       "      <td>106.0</td>\n",
       "      <td>122.0</td>\n",
       "      <td>128.0</td>\n",
       "      <td>66.0</td>\n",
       "      <td>79.0</td>\n",
       "      <td>75.0</td>\n",
       "      <td>34.0</td>\n",
       "      <td>42.0</td>\n",
       "      <td>64.0</td>\n",
       "      <td>...</td>\n",
       "      <td>0.0</td>\n",
       "      <td>0.0</td>\n",
       "      <td>0.0</td>\n",
       "      <td>0.0</td>\n",
       "      <td>0.0</td>\n",
       "      <td>0.0</td>\n",
       "      <td>0.0</td>\n",
       "      <td>0.0</td>\n",
       "      <td>0.0</td>\n",
       "      <td>3</td>\n",
       "    </tr>\n",
       "    <tr>\n",
       "      <th>4</th>\n",
       "      <td>12.0</td>\n",
       "      <td>222.0</td>\n",
       "      <td>1.0</td>\n",
       "      <td>0.0</td>\n",
       "      <td>219.0</td>\n",
       "      <td>0.0</td>\n",
       "      <td>0.0</td>\n",
       "      <td>233.0</td>\n",
       "      <td>0.0</td>\n",
       "      <td>0.0</td>\n",
       "      <td>...</td>\n",
       "      <td>0.0</td>\n",
       "      <td>0.0</td>\n",
       "      <td>0.0</td>\n",
       "      <td>0.0</td>\n",
       "      <td>0.0</td>\n",
       "      <td>0.0</td>\n",
       "      <td>0.0</td>\n",
       "      <td>0.0</td>\n",
       "      <td>0.0</td>\n",
       "      <td>1</td>\n",
       "    </tr>\n",
       "  </tbody>\n",
       "</table>\n",
       "<p>5 rows × 351233 columns</p>\n",
       "</div>"
      ],
      "text/plain": [
       "       0      1      2      3      4      5     6      7     8     9  ...  \\\n",
       "0   10.0  222.0    0.0    4.0  224.0    0.0   0.0  229.0   0.0   0.0  ...   \n",
       "1  181.0  104.0  114.0  158.0   93.0  101.0  92.0   45.0  51.0  69.0  ...   \n",
       "2  173.0  111.0  124.0  117.0   61.0   74.0  79.0   33.0  46.0  69.0  ...   \n",
       "3  183.0  106.0  122.0  128.0   66.0   79.0  75.0   34.0  42.0  64.0  ...   \n",
       "4   12.0  222.0    1.0    0.0  219.0    0.0   0.0  233.0   0.0   0.0  ...   \n",
       "\n",
       "   50167  50168  50169  50170  50171  50172  50173  50174  50175  label  \n",
       "0    0.0    0.0    0.0    0.0    0.0    0.0    0.0    0.0    0.0      6  \n",
       "1    0.0    0.0    0.0    0.0    0.0    0.0    0.0    0.0    0.0      3  \n",
       "2    0.0    0.0    0.0    0.0    0.0    0.0    0.0    0.0    0.0      3  \n",
       "3    0.0    0.0    0.0    0.0    0.0    0.0    0.0    0.0    0.0      3  \n",
       "4    0.0    0.0    0.0    0.0    0.0    0.0    0.0    0.0    0.0      1  \n",
       "\n",
       "[5 rows x 351233 columns]"
      ]
     },
     "execution_count": 33,
     "metadata": {},
     "output_type": "execute_result"
    }
   ],
   "source": [
    "train_data.head()"
   ]
  },
  {
   "cell_type": "code",
   "execution_count": 34,
   "metadata": {},
   "outputs": [
    {
     "data": {
      "text/html": [
       "<div>\n",
       "<style scoped>\n",
       "    .dataframe tbody tr th:only-of-type {\n",
       "        vertical-align: middle;\n",
       "    }\n",
       "\n",
       "    .dataframe tbody tr th {\n",
       "        vertical-align: top;\n",
       "    }\n",
       "\n",
       "    .dataframe thead th {\n",
       "        text-align: right;\n",
       "    }\n",
       "</style>\n",
       "<table border=\"1\" class=\"dataframe\">\n",
       "  <thead>\n",
       "    <tr style=\"text-align: right;\">\n",
       "      <th></th>\n",
       "      <th>0</th>\n",
       "      <th>1</th>\n",
       "      <th>2</th>\n",
       "      <th>3</th>\n",
       "      <th>4</th>\n",
       "      <th>5</th>\n",
       "      <th>6</th>\n",
       "      <th>7</th>\n",
       "      <th>8</th>\n",
       "      <th>9</th>\n",
       "      <th>...</th>\n",
       "      <th>50167</th>\n",
       "      <th>50168</th>\n",
       "      <th>50169</th>\n",
       "      <th>50170</th>\n",
       "      <th>50171</th>\n",
       "      <th>50172</th>\n",
       "      <th>50173</th>\n",
       "      <th>50174</th>\n",
       "      <th>50175</th>\n",
       "      <th>label</th>\n",
       "    </tr>\n",
       "  </thead>\n",
       "  <tbody>\n",
       "    <tr>\n",
       "      <th>0</th>\n",
       "      <td>12.0</td>\n",
       "      <td>221.0</td>\n",
       "      <td>0.0</td>\n",
       "      <td>6.0</td>\n",
       "      <td>222.0</td>\n",
       "      <td>0.0</td>\n",
       "      <td>0.0</td>\n",
       "      <td>231.0</td>\n",
       "      <td>0.0</td>\n",
       "      <td>0.0</td>\n",
       "      <td>...</td>\n",
       "      <td>0.0</td>\n",
       "      <td>0.0</td>\n",
       "      <td>0.0</td>\n",
       "      <td>0.0</td>\n",
       "      <td>0.0</td>\n",
       "      <td>0.0</td>\n",
       "      <td>0.0</td>\n",
       "      <td>0.0</td>\n",
       "      <td>0.0</td>\n",
       "      <td>4</td>\n",
       "    </tr>\n",
       "    <tr>\n",
       "      <th>1</th>\n",
       "      <td>8.0</td>\n",
       "      <td>224.0</td>\n",
       "      <td>3.0</td>\n",
       "      <td>0.0</td>\n",
       "      <td>222.0</td>\n",
       "      <td>0.0</td>\n",
       "      <td>0.0</td>\n",
       "      <td>233.0</td>\n",
       "      <td>0.0</td>\n",
       "      <td>0.0</td>\n",
       "      <td>...</td>\n",
       "      <td>0.0</td>\n",
       "      <td>0.0</td>\n",
       "      <td>0.0</td>\n",
       "      <td>0.0</td>\n",
       "      <td>0.0</td>\n",
       "      <td>0.0</td>\n",
       "      <td>0.0</td>\n",
       "      <td>0.0</td>\n",
       "      <td>0.0</td>\n",
       "      <td>4</td>\n",
       "    </tr>\n",
       "    <tr>\n",
       "      <th>2</th>\n",
       "      <td>12.0</td>\n",
       "      <td>219.0</td>\n",
       "      <td>0.0</td>\n",
       "      <td>7.0</td>\n",
       "      <td>223.0</td>\n",
       "      <td>0.0</td>\n",
       "      <td>0.0</td>\n",
       "      <td>232.0</td>\n",
       "      <td>0.0</td>\n",
       "      <td>0.0</td>\n",
       "      <td>...</td>\n",
       "      <td>0.0</td>\n",
       "      <td>0.0</td>\n",
       "      <td>0.0</td>\n",
       "      <td>0.0</td>\n",
       "      <td>0.0</td>\n",
       "      <td>0.0</td>\n",
       "      <td>0.0</td>\n",
       "      <td>0.0</td>\n",
       "      <td>0.0</td>\n",
       "      <td>5</td>\n",
       "    </tr>\n",
       "    <tr>\n",
       "      <th>3</th>\n",
       "      <td>122.0</td>\n",
       "      <td>249.0</td>\n",
       "      <td>255.0</td>\n",
       "      <td>120.0</td>\n",
       "      <td>249.0</td>\n",
       "      <td>255.0</td>\n",
       "      <td>118.0</td>\n",
       "      <td>252.0</td>\n",
       "      <td>255.0</td>\n",
       "      <td>117.0</td>\n",
       "      <td>...</td>\n",
       "      <td>1.0</td>\n",
       "      <td>0.0</td>\n",
       "      <td>0.0</td>\n",
       "      <td>0.0</td>\n",
       "      <td>0.0</td>\n",
       "      <td>0.0</td>\n",
       "      <td>0.0</td>\n",
       "      <td>0.0</td>\n",
       "      <td>0.0</td>\n",
       "      <td>2</td>\n",
       "    </tr>\n",
       "    <tr>\n",
       "      <th>4</th>\n",
       "      <td>179.0</td>\n",
       "      <td>98.0</td>\n",
       "      <td>107.0</td>\n",
       "      <td>181.0</td>\n",
       "      <td>111.0</td>\n",
       "      <td>119.0</td>\n",
       "      <td>107.0</td>\n",
       "      <td>56.0</td>\n",
       "      <td>63.0</td>\n",
       "      <td>72.0</td>\n",
       "      <td>...</td>\n",
       "      <td>0.0</td>\n",
       "      <td>0.0</td>\n",
       "      <td>0.0</td>\n",
       "      <td>0.0</td>\n",
       "      <td>0.0</td>\n",
       "      <td>0.0</td>\n",
       "      <td>0.0</td>\n",
       "      <td>0.0</td>\n",
       "      <td>0.0</td>\n",
       "      <td>3</td>\n",
       "    </tr>\n",
       "  </tbody>\n",
       "</table>\n",
       "<p>5 rows × 351233 columns</p>\n",
       "</div>"
      ],
      "text/plain": [
       "       0      1      2      3      4      5      6      7      8      9  ...  \\\n",
       "0   12.0  221.0    0.0    6.0  222.0    0.0    0.0  231.0    0.0    0.0  ...   \n",
       "1    8.0  224.0    3.0    0.0  222.0    0.0    0.0  233.0    0.0    0.0  ...   \n",
       "2   12.0  219.0    0.0    7.0  223.0    0.0    0.0  232.0    0.0    0.0  ...   \n",
       "3  122.0  249.0  255.0  120.0  249.0  255.0  118.0  252.0  255.0  117.0  ...   \n",
       "4  179.0   98.0  107.0  181.0  111.0  119.0  107.0   56.0   63.0   72.0  ...   \n",
       "\n",
       "   50167  50168  50169  50170  50171  50172  50173  50174  50175  label  \n",
       "0    0.0    0.0    0.0    0.0    0.0    0.0    0.0    0.0    0.0      4  \n",
       "1    0.0    0.0    0.0    0.0    0.0    0.0    0.0    0.0    0.0      4  \n",
       "2    0.0    0.0    0.0    0.0    0.0    0.0    0.0    0.0    0.0      5  \n",
       "3    1.0    0.0    0.0    0.0    0.0    0.0    0.0    0.0    0.0      2  \n",
       "4    0.0    0.0    0.0    0.0    0.0    0.0    0.0    0.0    0.0      3  \n",
       "\n",
       "[5 rows x 351233 columns]"
      ]
     },
     "execution_count": 34,
     "metadata": {},
     "output_type": "execute_result"
    }
   ],
   "source": [
    "val_data.head()"
   ]
  },
  {
   "cell_type": "code",
   "execution_count": 40,
   "metadata": {},
   "outputs": [
    {
     "data": {
      "text/plain": [
       "(60, 351233)"
      ]
     },
     "execution_count": 40,
     "metadata": {},
     "output_type": "execute_result"
    }
   ],
   "source": [
    "test_data=test_data.dropna()\n",
    "test_data.shape"
   ]
  },
  {
   "cell_type": "code",
   "execution_count": 41,
   "metadata": {},
   "outputs": [],
   "source": [
    "# Defining our target variable and feature data\n",
    "X_train=train_data.drop('label',axis=1)\n",
    "Y_train=train_data.label\n",
    "\n",
    "X_test=test_data.drop('label',axis=1)\n",
    "Y_test=test_data.label\n",
    "\n",
    "X_val=val_data.drop('label',axis=1)\n",
    "Y_val=val_data.label"
   ]
  },
  {
   "cell_type": "code",
   "execution_count": 42,
   "metadata": {},
   "outputs": [],
   "source": [
    "# Minamax Scaler\n",
    "from sklearn.preprocessing import MinMaxScaler\n",
    "ms=MinMaxScaler(feature_range=(1,2))\n",
    "X_train=ms.fit_transform(X_train)\n",
    "X_val=ms.transform(X_val)\n",
    "X_test=ms.transform(X_test)"
   ]
  },
  {
   "cell_type": "code",
   "execution_count": 43,
   "metadata": {},
   "outputs": [
    {
     "name": "stdout",
     "output_type": "stream",
     "text": [
      "Dimensionality reduced to: 61\n",
      "Time taken to reduce the size of the data : 17.799204349517822 sec\n"
     ]
    }
   ],
   "source": [
    "# Now using PCA to reduce dimensionality\n",
    "tic=time.time()\n",
    "pca=PCA(n_components=0.99)\n",
    "\n",
    "X_train_pca = pca.fit_transform(X_train)\n",
    "X_val_pca = pca.transform(X_val)\n",
    "X_test_pca=pca.transform(X_test)\n",
    "toc=time.time()\n",
    "print(\"Dimensionality reduced to:\", pca.n_components_)\n",
    "print(\"Time taken to reduce the size of the data : \"+str((toc-tic))+\" sec\")"
   ]
  },
  {
   "cell_type": "code",
   "execution_count": 44,
   "metadata": {},
   "outputs": [
    {
     "data": {
      "text/plain": [
       "RandomForestClassifier()"
      ]
     },
     "execution_count": 44,
     "metadata": {},
     "output_type": "execute_result"
    }
   ],
   "source": [
    "from sklearn.ensemble import RandomForestClassifier\n",
    "rf=RandomForestClassifier()\n",
    "rf.fit(X_train_pca,Y_train)\n"
   ]
  },
  {
   "cell_type": "code",
   "execution_count": 45,
   "metadata": {},
   "outputs": [],
   "source": [
    "val_pred=rf.predict(X_val_pca)\n",
    "rf_pred=rf.predict(X_test_pca)"
   ]
  },
  {
   "cell_type": "code",
   "execution_count": 46,
   "metadata": {},
   "outputs": [
    {
     "data": {
      "text/plain": [
       "array([4, 4, 5, 2, 3, 2, 5, 1, 1, 1, 1, 6, 2, 6, 5, 4, 2, 1, 4, 3, 5, 6,\n",
       "       1, 4, 6, 1, 5, 2, 2, 6, 1, 6, 4, 6, 1, 1, 6, 2, 5, 5, 2, 1, 3, 4,\n",
       "       5, 4, 1, 6, 2, 3, 1, 2, 5, 3, 5, 6, 1, 1, 4, 4])"
      ]
     },
     "execution_count": 46,
     "metadata": {},
     "output_type": "execute_result"
    }
   ],
   "source": [
    "val_pred"
   ]
  },
  {
   "cell_type": "code",
   "execution_count": 47,
   "metadata": {},
   "outputs": [
    {
     "name": "stdout",
     "output_type": "stream",
     "text": [
      "              precision    recall  f1-score   support\n",
      "\n",
      "           1       0.67      1.00      0.80        10\n",
      "           2       1.00      1.00      1.00        10\n",
      "           3       1.00      0.50      0.67        10\n",
      "           4       1.00      1.00      1.00        10\n",
      "           5       1.00      1.00      1.00        10\n",
      "           6       1.00      1.00      1.00        10\n",
      "\n",
      "    accuracy                           0.92        60\n",
      "   macro avg       0.94      0.92      0.91        60\n",
      "weighted avg       0.94      0.92      0.91        60\n",
      "\n"
     ]
    }
   ],
   "source": [
    "print(classification_report(Y_val,val_pred))"
   ]
  },
  {
   "cell_type": "code",
   "execution_count": 48,
   "metadata": {},
   "outputs": [
    {
     "name": "stdout",
     "output_type": "stream",
     "text": [
      "              precision    recall  f1-score   support\n",
      "\n",
      "         1.0       0.10      0.20      0.13        10\n",
      "         2.0       0.10      0.10      0.10        10\n",
      "         3.0       0.00      0.00      0.00        10\n",
      "         4.0       0.40      0.40      0.40        10\n",
      "         5.0       0.10      0.10      0.10        10\n",
      "         6.0       0.00      0.00      0.00        10\n",
      "\n",
      "    accuracy                           0.13        60\n",
      "   macro avg       0.12      0.13      0.12        60\n",
      "weighted avg       0.12      0.13      0.12        60\n",
      "\n"
     ]
    },
    {
     "name": "stderr",
     "output_type": "stream",
     "text": [
      "C:\\Users\\Aayush Kandpal\\anaconda3\\lib\\site-packages\\sklearn\\metrics\\_classification.py:1221: UndefinedMetricWarning: Precision and F-score are ill-defined and being set to 0.0 in labels with no predicted samples. Use `zero_division` parameter to control this behavior.\n",
      "  _warn_prf(average, modifier, msg_start, len(result))\n"
     ]
    }
   ],
   "source": [
    "print(classification_report(Y_test,val_pred1))"
   ]
  },
  {
   "cell_type": "code",
   "execution_count": 49,
   "metadata": {},
   "outputs": [
    {
     "name": "stderr",
     "output_type": "stream",
     "text": [
      "C:\\Users\\Aayush Kandpal\\anaconda3\\lib\\site-packages\\sklearn\\svm\\_base.py:976: ConvergenceWarning: Liblinear failed to converge, increase the number of iterations.\n",
      "  warnings.warn(\"Liblinear failed to converge, increase \"\n"
     ]
    },
    {
     "data": {
      "text/plain": [
       "LinearSVC()"
      ]
     },
     "execution_count": 49,
     "metadata": {},
     "output_type": "execute_result"
    }
   ],
   "source": [
    "svm=LinearSVC()\n",
    "svm.fit(X_train_pca,Y_train)"
   ]
  },
  {
   "cell_type": "code",
   "execution_count": 50,
   "metadata": {},
   "outputs": [
    {
     "name": "stdout",
     "output_type": "stream",
     "text": [
      "              precision    recall  f1-score   support\n",
      "\n",
      "           1       0.50      1.00      0.67        10\n",
      "           2       1.00      1.00      1.00        10\n",
      "           3       0.00      0.00      0.00        10\n",
      "           4       1.00      1.00      1.00        10\n",
      "           5       1.00      1.00      1.00        10\n",
      "           6       1.00      1.00      1.00        10\n",
      "\n",
      "    accuracy                           0.83        60\n",
      "   macro avg       0.75      0.83      0.78        60\n",
      "weighted avg       0.75      0.83      0.78        60\n",
      "\n"
     ]
    },
    {
     "name": "stderr",
     "output_type": "stream",
     "text": [
      "C:\\Users\\Aayush Kandpal\\anaconda3\\lib\\site-packages\\sklearn\\metrics\\_classification.py:1221: UndefinedMetricWarning: Precision and F-score are ill-defined and being set to 0.0 in labels with no predicted samples. Use `zero_division` parameter to control this behavior.\n",
      "  _warn_prf(average, modifier, msg_start, len(result))\n"
     ]
    }
   ],
   "source": [
    "val_pred1=svm.predict(X_val_pca)\n",
    "print(classification_report(Y_val,val_pred1))\n"
   ]
  },
  {
   "cell_type": "code",
   "execution_count": 51,
   "metadata": {},
   "outputs": [
    {
     "name": "stdout",
     "output_type": "stream",
     "text": [
      "              precision    recall  f1-score   support\n",
      "\n",
      "         1.0       0.29      1.00      0.44        10\n",
      "         2.0       0.00      0.00      0.00        10\n",
      "         3.0       1.00      1.00      1.00        10\n",
      "         4.0       0.00      0.00      0.00        10\n",
      "         5.0       0.50      0.50      0.50        10\n",
      "         6.0       1.00      0.50      0.67        10\n",
      "\n",
      "    accuracy                           0.50        60\n",
      "   macro avg       0.46      0.50      0.44        60\n",
      "weighted avg       0.46      0.50      0.44        60\n",
      "\n"
     ]
    },
    {
     "name": "stderr",
     "output_type": "stream",
     "text": [
      "C:\\Users\\Aayush Kandpal\\anaconda3\\lib\\site-packages\\sklearn\\metrics\\_classification.py:1221: UndefinedMetricWarning: Precision and F-score are ill-defined and being set to 0.0 in labels with no predicted samples. Use `zero_division` parameter to control this behavior.\n",
      "  _warn_prf(average, modifier, msg_start, len(result))\n"
     ]
    }
   ],
   "source": [
    "svm_pred1=svm.predict(X_test_pca)\n",
    "print(classification_report(Y_test,svm_pred1))"
   ]
  },
  {
   "cell_type": "code",
   "execution_count": 52,
   "metadata": {},
   "outputs": [
    {
     "name": "stderr",
     "output_type": "stream",
     "text": [
      "[Parallel(n_jobs=-1)]: Using backend LokyBackend with 8 concurrent workers.\n"
     ]
    },
    {
     "name": "stdout",
     "output_type": "stream",
     "text": [
      "              precision    recall  f1-score   support\n",
      "\n",
      "           1       0.50      1.00      0.67        10\n",
      "           2       1.00      1.00      1.00        10\n",
      "           3       0.00      0.00      0.00        10\n",
      "           4       1.00      1.00      1.00        10\n",
      "           5       1.00      1.00      1.00        10\n",
      "           6       1.00      1.00      1.00        10\n",
      "\n",
      "    accuracy                           0.83        60\n",
      "   macro avg       0.75      0.83      0.78        60\n",
      "weighted avg       0.75      0.83      0.78        60\n",
      "\n",
      "0.8333333333333334\n"
     ]
    },
    {
     "name": "stderr",
     "output_type": "stream",
     "text": [
      "[Parallel(n_jobs=-1)]: Done   1 out of   1 | elapsed:    3.3s finished\n",
      "C:\\Users\\Aayush Kandpal\\anaconda3\\lib\\site-packages\\sklearn\\metrics\\_classification.py:1221: UndefinedMetricWarning: Precision and F-score are ill-defined and being set to 0.0 in labels with no predicted samples. Use `zero_division` parameter to control this behavior.\n",
      "  _warn_prf(average, modifier, msg_start, len(result))\n"
     ]
    }
   ],
   "source": [
    "# the above results are weird because althought the accuracy may be very high. The AUC score is zero for all.\n",
    "# Nevertheless let us try a few more models manually\n",
    "lg=LogisticRegression(random_state=0,multi_class='auto',max_iter=250,verbose=5,n_jobs=-1)\n",
    "lg.fit(X_train_pca,Y_train)\n",
    "pred=lg.predict(X_val_pca)\n",
    "print(classification_report(Y_val,pred))\n",
    "print(accuracy_score(Y_val,pred))"
   ]
  },
  {
   "cell_type": "code",
   "execution_count": 53,
   "metadata": {},
   "outputs": [
    {
     "name": "stdout",
     "output_type": "stream",
     "text": [
      "              precision    recall  f1-score   support\n",
      "\n",
      "         1.0       0.30      1.00      0.47        10\n",
      "         2.0       0.00      0.00      0.00        10\n",
      "         3.0       1.00      0.60      0.75        10\n",
      "         4.0       0.00      0.00      0.00        10\n",
      "         5.0       0.47      0.80      0.59        10\n",
      "         6.0       1.00      0.40      0.57        10\n",
      "\n",
      "    accuracy                           0.47        60\n",
      "   macro avg       0.46      0.47      0.40        60\n",
      "weighted avg       0.46      0.47      0.40        60\n",
      "\n"
     ]
    },
    {
     "name": "stderr",
     "output_type": "stream",
     "text": [
      "C:\\Users\\Aayush Kandpal\\anaconda3\\lib\\site-packages\\sklearn\\metrics\\_classification.py:1221: UndefinedMetricWarning: Precision and F-score are ill-defined and being set to 0.0 in labels with no predicted samples. Use `zero_division` parameter to control this behavior.\n",
      "  _warn_prf(average, modifier, msg_start, len(result))\n"
     ]
    }
   ],
   "source": [
    "lg_pred1=lg.predict(X_test_pca)\n",
    "print(classification_report(Y_test,lg_pred1))"
   ]
  },
  {
   "cell_type": "code",
   "execution_count": 54,
   "metadata": {},
   "outputs": [
    {
     "name": "stdout",
     "output_type": "stream",
     "text": [
      "              precision    recall  f1-score   support\n",
      "\n",
      "           1       0.67      1.00      0.80        10\n",
      "           2       1.00      1.00      1.00        10\n",
      "           3       1.00      0.50      0.67        10\n",
      "           4       1.00      1.00      1.00        10\n",
      "           5       1.00      1.00      1.00        10\n",
      "           6       1.00      1.00      1.00        10\n",
      "\n",
      "    accuracy                           0.92        60\n",
      "   macro avg       0.94      0.92      0.91        60\n",
      "weighted avg       0.94      0.92      0.91        60\n",
      "\n"
     ]
    }
   ],
   "source": [
    "lgb_clf=lgb.LGBMClassifier()\n",
    "lgb_clf.fit(X_train_pca,Y_train)\n",
    "pred=lgb_clf.predict(X_val_pca)\n",
    "print(classification_report(Y_val,pred))"
   ]
  },
  {
   "cell_type": "code",
   "execution_count": 55,
   "metadata": {},
   "outputs": [
    {
     "name": "stdout",
     "output_type": "stream",
     "text": [
      "              precision    recall  f1-score   support\n",
      "\n",
      "         1.0       0.29      1.00      0.45        10\n",
      "         2.0       0.00      0.00      0.00        10\n",
      "         3.0       0.00      0.00      0.00        10\n",
      "         4.0       0.00      0.00      0.00        10\n",
      "         5.0       0.40      0.40      0.40        10\n",
      "         6.0       0.00      0.00      0.00        10\n",
      "\n",
      "    accuracy                           0.23        60\n",
      "   macro avg       0.12      0.23      0.14        60\n",
      "weighted avg       0.12      0.23      0.14        60\n",
      "\n"
     ]
    },
    {
     "name": "stderr",
     "output_type": "stream",
     "text": [
      "C:\\Users\\Aayush Kandpal\\anaconda3\\lib\\site-packages\\sklearn\\metrics\\_classification.py:1221: UndefinedMetricWarning: Precision and F-score are ill-defined and being set to 0.0 in labels with no predicted samples. Use `zero_division` parameter to control this behavior.\n",
      "  _warn_prf(average, modifier, msg_start, len(result))\n"
     ]
    }
   ],
   "source": [
    "lgb_pred1=lgb_clf.predict(X_test_pca)\n",
    "print(classification_report(Y_test,lgb_pred1))"
   ]
  },
  {
   "cell_type": "code",
   "execution_count": 56,
   "metadata": {},
   "outputs": [
    {
     "data": {
      "image/png": "[encoded data removed]",
      "text/plain": [
       "<Figure size 1440x1080 with 1 Axes>"
      ]
     },
     "metadata": {
      "needs_background": "light"
     },
     "output_type": "display_data"
    }
   ],
   "source": [
    "lgb.plot_importance(lgb_clf,figsize=(20,15))\n",
    "plt.show()"
   ]
  },
  {
   "cell_type": "code",
   "execution_count": 57,
   "metadata": {},
   "outputs": [
    {
     "name": "stdout",
     "output_type": "stream",
     "text": [
      "              precision    recall  f1-score   support\n",
      "\n",
      "           1       0.53      1.00      0.69        10\n",
      "           2       1.00      1.00      1.00        10\n",
      "           3       1.00      0.50      0.67        10\n",
      "           4       1.00      1.00      1.00        10\n",
      "           5       1.00      0.60      0.75        10\n",
      "           6       1.00      1.00      1.00        10\n",
      "\n",
      "    accuracy                           0.85        60\n",
      "   macro avg       0.92      0.85      0.85        60\n",
      "weighted avg       0.92      0.85      0.85        60\n",
      "\n"
     ]
    }
   ],
   "source": [
    "xgb_clf=xgb.XGBClassifier()\n",
    "xgb_clf.fit(X_train_pca,Y_train)\n",
    "pred=xgb_clf.predict(X_val_pca)\n",
    "print(classification_report(Y_val,pred))"
   ]
  },
  {
   "cell_type": "code",
   "execution_count": 58,
   "metadata": {},
   "outputs": [
    {
     "name": "stdout",
     "output_type": "stream",
     "text": [
      "              precision    recall  f1-score   support\n",
      "\n",
      "         1.0       0.56      1.00      0.71        10\n",
      "         2.0       0.00      0.00      0.00        10\n",
      "         3.0       0.00      0.00      0.00        10\n",
      "         4.0       0.00      0.00      0.00        10\n",
      "         5.0       0.00      0.00      0.00        10\n",
      "         6.0       0.05      0.10      0.07        10\n",
      "\n",
      "    accuracy                           0.18        60\n",
      "   macro avg       0.10      0.18      0.13        60\n",
      "weighted avg       0.10      0.18      0.13        60\n",
      "\n"
     ]
    }
   ],
   "source": [
    "xgb_pred1=xgb_clf.predict(X_test_pca)\n",
    "print(classification_report(Y_test,xgb_pred1))"
   ]
  },
  {
   "cell_type": "code",
   "execution_count": 59,
   "metadata": {},
   "outputs": [
    {
     "data": {
      "text/plain": [
       "<matplotlib.axes._subplots.AxesSubplot at 0x2204b3d63d0>"
      ]
     },
     "execution_count": 59,
     "metadata": {},
     "output_type": "execute_result"
    },
    {
     "data": {
      "image/png": "[encoded data removed]",
      "text/plain": [
       "<Figure size 2160x1080 with 1 Axes>"
      ]
     },
     "metadata": {
      "needs_background": "light"
     },
     "output_type": "display_data"
    }
   ],
   "source": [
    "feature_important = xgb_clf.get_booster().get_score(importance_type='weight')\n",
    "keys = list(feature_important.keys())\n",
    "values = list(feature_important.values())\n",
    "\n",
    "\n",
    "data = pd.DataFrame(data=values, index=keys, columns=[\"score\"]).sort_values(by = \"score\", ascending=False)\n",
    "data.plot(kind='barh',figsize=(30,15))"
   ]
  },
  {
   "cell_type": "code",
   "execution_count": null,
   "metadata": {},
   "outputs": [],
   "source": []
  },
  {
   "cell_type": "code",
   "execution_count": null,
   "metadata": {},
   "outputs": [],
   "source": []
  },
  {
   "cell_type": "code",
   "execution_count": null,
   "metadata": {},
   "outputs": [],
   "source": []
  }
 ],
 "metadata": {
  "kernelspec": {
   "display_name": "Python 3",
   "language": "python",
   "name": "python3"
  },
  "language_info": {
   "codemirror_mode": {
    "name": "ipython",
    "version": 3
   },
   "file_extension": ".py",
   "mimetype": "text/x-python",
   "name": "python",
   "nbconvert_exporter": "python",
   "pygments_lexer": "ipython3",
   "version": "3.8.3"
  }
 },
 "nbformat": 4,
 "nbformat_minor": 4
}
