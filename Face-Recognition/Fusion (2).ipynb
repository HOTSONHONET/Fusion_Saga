{
 "cells": [
  {
   "cell_type": "code",
   "execution_count": 1,
   "metadata": {},
   "outputs": [],
   "source": [
    "import numpy as np\n",
    "import pandas as pd\n",
    "import matplotlib.pyplot as plt\n",
    "from PIL import Image\n",
    "import cv2\n",
    "from numpy import load\n",
    "from numpy import expand_dims\n",
    "from numpy import asarray\n",
    "import os\n",
    "import matplotlib.image as mpimg\n",
    "from sklearn.decomposition import PCA\n",
    "import time\n",
    "from sklearn.metrics import classification_report\n",
    "from sklearn.svm import LinearSVC\n",
    "from sklearn.linear_model import LogisticRegression\n",
    "from sklearn.metrics import accuracy_score"
   ]
  },
  {
   "cell_type": "code",
   "execution_count": 2,
   "metadata": {},
   "outputs": [],
   "source": [
    "gait_label = {\"001\":1, \"002\":2, \"003\":3, \"004\":4, \"005\":5, \"006\":6}\n",
    "face_label = {\"Aayush\" : 1, \"Ajita\" : 2, \"Aradhana\" : 3, \"Ashish\" : 4, \"Komal\": 5, \"Rudra\" : 6}"
   ]
  },
  {
   "cell_type": "code",
   "execution_count": 3,
   "metadata": {},
   "outputs": [],
   "source": [
    "gait_train_path_000 = \"C:\\\\Users\\\\Aayush Kandpal\\\\Downloads\\\\Gait Split-20210121T155805Z-001\\\\Gait Split\\\\000\\\\train\"\n",
    "gait_train_path_054 = \"C:\\\\Users\\\\Aayush Kandpal\\\\Downloads\\\\Gait Split-20210121T155805Z-001\\\\Gait Split\\\\054\\\\train\"\n",
    "gait_train_path_090 = \"C:\\\\Users\\\\Aayush Kandpal\\\\Downloads\\\\Gait Split-20210121T155805Z-001\\\\Gait Split\\\\090\\\\train\"\n",
    "face_train_path = \"C:\\\\Users\\\\Aayush Kandpal\\\\Downloads\\\\Face_dataset_ML\\\\Face_dataset\\\\train\"\n",
    "\n",
    "gait_val_path_000 = \"C:\\\\Users\\\\Aayush Kandpal\\\\Downloads\\\\Gait Split-20210121T155805Z-001\\\\Gait Split\\\\000\\\\val\"\n",
    "gait_val_path_054 = \"C:\\\\Users\\\\Aayush Kandpal\\\\Downloads\\\\Gait Split-20210121T155805Z-001\\\\Gait Split\\\\054\\\\val\"\n",
    "gait_val_path_090 = \"C:\\\\Users\\\\Aayush Kandpal\\\\Downloads\\\\Gait Split-20210121T155805Z-001\\\\Gait Split\\\\090\\\\val\"\n",
    "face_val_path = \"C:\\\\Users\\\\Aayush Kandpal\\\\Downloads\\\\Face_dataset_ML\\\\Face_dataset\\\\val\"\n",
    "\n",
    "gait_test_path_000 = \"C:\\\\Users\\\\Aayush Kandpal\\\\Downloads\\\\Gait Split-20210121T155805Z-001\\\\Gait Split\\\\000\\\\test\"\n",
    "gait_test_path_054 = \"C:\\\\Users\\\\Aayush Kandpal\\\\Downloads\\\\Gait Split-20210121T155805Z-001\\\\Gait Split\\\\054\\\\test\"\n",
    "gait_test_path_090 = \"C:\\\\Users\\\\Aayush Kandpal\\\\Downloads\\\\Gait Split-20210121T155805Z-001\\\\Gait Split\\\\090\\\\test\"\n",
    "face_test_path = \"C:\\\\Users\\\\Aayush Kandpal\\\\Downloads\\\\Face_dataset_ML\\\\Face_dataset\\\\test\"\n"
   ]
  },
  {
   "cell_type": "code",
   "execution_count": 4,
   "metadata": {},
   "outputs": [
    {
     "data": {
      "text/plain": [
       "['Aayush', 'Ajita', 'Aradhana', 'Ashish', 'Komal', 'Rudra']"
      ]
     },
     "execution_count": 4,
     "metadata": {},
     "output_type": "execute_result"
    }
   ],
   "source": [
    "\n",
    "file = os.listdir(face_train_path)\n",
    "file\n"
   ]
  },
  {
   "cell_type": "code",
   "execution_count": 5,
   "metadata": {},
   "outputs": [],
   "source": [
    "def create_dataset(img_folder):\n",
    "    \n",
    "    img_data_array=[]\n",
    "    class_name=[]\n",
    "    for dir1 in os.listdir(img_folder):\n",
    "        for file in os.listdir(os.path.join(img_folder, dir1)):\n",
    "       \n",
    "            image_path= os.path.join(img_folder, dir1,  file)\n",
    "            image= np.array(Image.open(image_path))\n",
    "            image= np.resize(image,(224,224))\n",
    "            image = image.astype('float32')\n",
    "            img_data_array.append(image)\n",
    "            class_name.append(dir1)\n",
    "    return img_data_array , class_name"
   ]
  },
  {
   "cell_type": "code",
   "execution_count": 6,
   "metadata": {},
   "outputs": [],
   "source": [
    "train_0,class_0=create_dataset(gait_train_path_000)\n",
    "train_54,class_54=create_dataset(gait_train_path_000)\n",
    "train_90,class_90=create_dataset(gait_train_path_000)\n",
    "face_train,train_class=create_dataset(face_train_path)\n",
    "\n",
    "\n",
    "val_0,class_val_0=create_dataset(gait_val_path_000)\n",
    "val_54,class_val_54=create_dataset(gait_val_path_054)\n",
    "val_90,class_val_90=create_dataset(gait_val_path_090)\n",
    "face_val,val_class=create_dataset(face_val_path)\n",
    "\n",
    "test_0,class_test_0=create_dataset(gait_test_path_000)\n",
    "test_54,class_test_54=create_dataset(gait_test_path_054)\n",
    "test_90,class_test_90=create_dataset(gait_test_path_090)\n",
    "face_test,test_class=create_dataset(face_test_path)\n",
    "\n",
    "x_train_0=np.array(train_0)\n",
    "x_train_54=np.array(train_54)\n",
    "x_train_90=np.array(train_90)\n",
    "x_train_face=np.array(face_train)\n",
    "\n",
    "x_val_0=np.array(val_0)\n",
    "x_val_54=np.array(val_54)\n",
    "x_val_90=np.array(val_90)\n",
    "x_val_face=np.array(face_val)\n",
    "\n",
    "x_test_0=np.array(test_0)\n",
    "x_test_54=np.array(test_54)\n",
    "x_test_90=np.array(test_90)\n",
    "x_test_face=np.array(face_test)\n",
    "\n",
    "train_label=np.array(class_0)\n",
    "val_label=np.array(class_val_0)\n",
    "test_label=np.array(class_test_0)\n"
   ]
  },
  {
   "cell_type": "code",
   "execution_count": 7,
   "metadata": {},
   "outputs": [
    {
     "data": {
      "text/plain": [
       "(180, 224, 224)"
      ]
     },
     "execution_count": 7,
     "metadata": {},
     "output_type": "execute_result"
    }
   ],
   "source": [
    "x_train_face.shape"
   ]
  },
  {
   "cell_type": "code",
   "execution_count": 8,
   "metadata": {},
   "outputs": [],
   "source": [
    "# Let us now flatten the dataset and convert each \n",
    "x_train_0=pd.DataFrame(x_train_0.reshape((x_train_0.shape[0],224*224)))\n",
    "x_train_54=pd.DataFrame(x_train_54.reshape((x_train_54.shape[0],224*224)))\n",
    "x_train_90=pd.DataFrame(x_train_90.reshape((x_train_90.shape[0],224*224)))\n",
    "x_train_face=pd.DataFrame(x_train_face.reshape((x_train_face.shape[0],224*224)))\n",
    "\n",
    "x_val_0=pd.DataFrame(x_val_0.reshape((x_val_0.shape[0],224*224)))\n",
    "x_val_54=pd.DataFrame(x_val_54.reshape((x_val_54.shape[0],224*224)))\n",
    "x_val_90=pd.DataFrame(x_val_90.reshape((x_val_90.shape[0],224*224)))\n",
    "x_val_face=pd.DataFrame(x_val_face.reshape((x_val_face.shape[0],224*224)))\n",
    "\n",
    "x_test_0=pd.DataFrame(x_test_0.reshape((x_test_0.shape[0],224*224)))\n",
    "x_test_54=pd.DataFrame(x_test_54.reshape((x_test_54.shape[0],224*224)))\n",
    "x_test_90=pd.DataFrame(x_test_90.reshape((x_test_90.shape[0],224*224)))\n",
    "x_test_face=pd.DataFrame(x_test_face.reshape((x_test_face.shape[0],224*224)))\n",
    "\n",
    "train_label=pd.DataFrame(train_label).astype(int)\n",
    "val_label=pd.DataFrame(val_label).astype(int)\n",
    "test_label=pd.DataFrame(test_label).astype(int)\n"
   ]
  },
  {
   "cell_type": "code",
   "execution_count": 9,
   "metadata": {},
   "outputs": [],
   "source": [
    "# Let us now make our dataset by concatenating all feature columns\n",
    "train_data=pd.concat([x_train_face,x_train_0,x_train_54,x_train_90,train_label],axis=1)\n",
    "val_data=pd.concat([x_val_face,x_val_0,x_val_54,x_val_90,val_label],axis=1)\n",
    "test_data=pd.concat([x_test_face,x_test_0,x_test_54,x_test_90,test_label],axis=1)"
   ]
  },
  {
   "cell_type": "code",
   "execution_count": 10,
   "metadata": {},
   "outputs": [],
   "source": [
    "train_data.columns = [*train_data.columns[:-1], 'label']\n",
    "val_data.columns = [*val_data.columns[:-1], 'label']\n",
    "test_data.columns = [*test_data.columns[:-1], 'label']"
   ]
  },
  {
   "cell_type": "code",
   "execution_count": 11,
   "metadata": {},
   "outputs": [],
   "source": [
    "# Let us shuffle our datasets and reset the indices\n",
    "train_data = train_data.sample(frac=1).reset_index(drop=True)\n",
    "test_data = test_data.sample(frac=1).reset_index(drop=True)\n",
    "val_data = val_data.sample(frac=1).reset_index(drop=True)"
   ]
  },
  {
   "cell_type": "code",
   "execution_count": 12,
   "metadata": {},
   "outputs": [],
   "source": [
    "# Defining our target variable and feature data\n",
    "X_train=train_data.drop('label',axis=1)\n",
    "Y_train=train_data.label\n",
    "\n",
    "X_test=test_data.drop('label',axis=1)\n",
    "Y_test=test_data.label\n",
    "\n",
    "X_val=val_data.drop('label',axis=1)\n",
    "Y_val=val_data.label"
   ]
  },
  {
   "cell_type": "code",
   "execution_count": 13,
   "metadata": {},
   "outputs": [
    {
     "name": "stdout",
     "output_type": "stream",
     "text": [
      "Dimensionality reduced to: 83\n",
      "Time taken to reduce the size of the data : 27.07575488090515 sec\n"
     ]
    }
   ],
   "source": [
    "# Now using PCA to reduce dimensionality\n",
    "tic=time.time()\n",
    "pca=PCA(n_components=0.99)\n",
    "\n",
    "X_train_pca = pca.fit_transform(X_train)\n",
    "X_val_pca = pca.transform(X_val)\n",
    "X_test_pca=pca.transform(X_test)\n",
    "toc=time.time()\n",
    "print(\"Dimensionality reduced to:\", pca.n_components_)\n",
    "print(\"Time taken to reduce the size of the data : \"+str((toc-tic))+\" sec\")"
   ]
  },
  {
   "cell_type": "code",
   "execution_count": 14,
   "metadata": {},
   "outputs": [
    {
     "data": {
      "text/plain": [
       "RandomForestClassifier()"
      ]
     },
     "execution_count": 14,
     "metadata": {},
     "output_type": "execute_result"
    }
   ],
   "source": [
    "from sklearn.ensemble import RandomForestClassifier\n",
    "rf=RandomForestClassifier()\n",
    "rf.fit(X_train_pca,Y_train)\n"
   ]
  },
  {
   "cell_type": "code",
   "execution_count": 15,
   "metadata": {},
   "outputs": [],
   "source": [
    "val_pred=rf.predict(X_val_pca)\n",
    "val_pred1=rf.predict(X_test_pca)"
   ]
  },
  {
   "cell_type": "code",
   "execution_count": 16,
   "metadata": {},
   "outputs": [
    {
     "data": {
      "text/plain": [
       "array([1, 5, 5, 4, 4, 4, 6, 6, 2, 4, 6, 5, 2, 2, 5, 4, 5, 5, 2, 4, 6, 4,\n",
       "       6, 5, 1, 2, 4, 2, 2, 5, 6, 5, 4, 5, 5, 1, 2, 4, 6, 2, 5, 5, 4, 5,\n",
       "       4, 5, 4, 4, 4, 1, 4, 2, 4, 2, 5, 1, 4, 4, 2, 4])"
      ]
     },
     "execution_count": 16,
     "metadata": {},
     "output_type": "execute_result"
    }
   ],
   "source": [
    "val_pred"
   ]
  },
  {
   "cell_type": "code",
   "execution_count": 17,
   "metadata": {},
   "outputs": [
    {
     "name": "stdout",
     "output_type": "stream",
     "text": [
      "              precision    recall  f1-score   support\n",
      "\n",
      "           1       1.00      0.50      0.67        10\n",
      "           2       0.83      1.00      0.91        10\n",
      "           3       0.00      0.00      0.00        10\n",
      "           4       0.50      1.00      0.67        10\n",
      "           5       0.62      1.00      0.77        10\n",
      "           6       1.00      0.70      0.82        10\n",
      "\n",
      "    accuracy                           0.70        60\n",
      "   macro avg       0.66      0.70      0.64        60\n",
      "weighted avg       0.66      0.70      0.64        60\n",
      "\n"
     ]
    },
    {
     "name": "stderr",
     "output_type": "stream",
     "text": [
      "C:\\Users\\Aayush Kandpal\\anaconda3\\lib\\site-packages\\sklearn\\metrics\\_classification.py:1221: UndefinedMetricWarning: Precision and F-score are ill-defined and being set to 0.0 in labels with no predicted samples. Use `zero_division` parameter to control this behavior.\n",
      "  _warn_prf(average, modifier, msg_start, len(result))\n"
     ]
    }
   ],
   "source": [
    "print(classification_report(Y_val,val_pred))"
   ]
  },
  {
   "cell_type": "code",
   "execution_count": 18,
   "metadata": {},
   "outputs": [
    {
     "name": "stdout",
     "output_type": "stream",
     "text": [
      "              precision    recall  f1-score   support\n",
      "\n",
      "           1       0.00      0.00      0.00        10\n",
      "           2       0.59      1.00      0.74        10\n",
      "           3       0.00      0.00      0.00        10\n",
      "           4       0.00      0.00      0.00        10\n",
      "           5       0.00      0.00      0.00        10\n",
      "           6       0.12      0.20      0.15        10\n",
      "\n",
      "    accuracy                           0.20        60\n",
      "   macro avg       0.12      0.20      0.15        60\n",
      "weighted avg       0.12      0.20      0.15        60\n",
      "\n"
     ]
    }
   ],
   "source": [
    "print(classification_report(Y_test,val_pred1))"
   ]
  },
  {
   "cell_type": "code",
   "execution_count": 19,
   "metadata": {},
   "outputs": [
    {
     "name": "stderr",
     "output_type": "stream",
     "text": [
      "C:\\Users\\Aayush Kandpal\\anaconda3\\lib\\site-packages\\sklearn\\svm\\_base.py:976: ConvergenceWarning: Liblinear failed to converge, increase the number of iterations.\n",
      "  warnings.warn(\"Liblinear failed to converge, increase \"\n"
     ]
    },
    {
     "data": {
      "text/plain": [
       "LinearSVC()"
      ]
     },
     "execution_count": 19,
     "metadata": {},
     "output_type": "execute_result"
    }
   ],
   "source": [
    "svm=LinearSVC()\n",
    "svm.fit(X_train_pca,Y_train)"
   ]
  },
  {
   "cell_type": "code",
   "execution_count": 20,
   "metadata": {},
   "outputs": [
    {
     "name": "stdout",
     "output_type": "stream",
     "text": [
      "              precision    recall  f1-score   support\n",
      "\n",
      "           1       1.00      0.70      0.82        10\n",
      "           2       0.77      1.00      0.87        10\n",
      "           3       1.00      1.00      1.00        10\n",
      "           4       1.00      1.00      1.00        10\n",
      "           5       1.00      1.00      1.00        10\n",
      "           6       1.00      1.00      1.00        10\n",
      "\n",
      "    accuracy                           0.95        60\n",
      "   macro avg       0.96      0.95      0.95        60\n",
      "weighted avg       0.96      0.95      0.95        60\n",
      "\n"
     ]
    }
   ],
   "source": [
    "val_pred=svm.predict(X_val_pca)\n",
    "print(classification_report(Y_val,val_pred))\n"
   ]
  },
  {
   "cell_type": "code",
   "execution_count": 21,
   "metadata": {},
   "outputs": [
    {
     "name": "stdout",
     "output_type": "stream",
     "text": [
      "              precision    recall  f1-score   support\n",
      "\n",
      "           1       0.00      0.00      0.00        10\n",
      "           2       0.22      1.00      0.36        10\n",
      "           3       0.00      0.00      0.00        10\n",
      "           4       0.00      0.00      0.00        10\n",
      "           5       0.00      0.00      0.00        10\n",
      "           6       0.00      0.00      0.00        10\n",
      "\n",
      "    accuracy                           0.17        60\n",
      "   macro avg       0.04      0.17      0.06        60\n",
      "weighted avg       0.04      0.17      0.06        60\n",
      "\n"
     ]
    },
    {
     "name": "stderr",
     "output_type": "stream",
     "text": [
      "C:\\Users\\Aayush Kandpal\\anaconda3\\lib\\site-packages\\sklearn\\metrics\\_classification.py:1221: UndefinedMetricWarning: Precision and F-score are ill-defined and being set to 0.0 in labels with no predicted samples. Use `zero_division` parameter to control this behavior.\n",
      "  _warn_prf(average, modifier, msg_start, len(result))\n"
     ]
    }
   ],
   "source": [
    "val_pred1=svm.predict(X_test_pca)\n",
    "print(classification_report(Y_test,val_pred1))"
   ]
  },
  {
   "cell_type": "code",
   "execution_count": 22,
   "metadata": {},
   "outputs": [
    {
     "name": "stderr",
     "output_type": "stream",
     "text": [
      "[Parallel(n_jobs=-1)]: Using backend LokyBackend with 8 concurrent workers.\n"
     ]
    },
    {
     "name": "stdout",
     "output_type": "stream",
     "text": [
      "              precision    recall  f1-score   support\n",
      "\n",
      "           1       1.00      0.20      0.33        10\n",
      "           2       0.43      1.00      0.61        10\n",
      "           3       1.00      0.50      0.67        10\n",
      "           4       1.00      1.00      1.00        10\n",
      "           5       1.00      1.00      1.00        10\n",
      "           6       1.00      1.00      1.00        10\n",
      "\n",
      "    accuracy                           0.78        60\n",
      "   macro avg       0.91      0.78      0.77        60\n",
      "weighted avg       0.91      0.78      0.77        60\n",
      "\n",
      "0.7833333333333333\n"
     ]
    },
    {
     "name": "stderr",
     "output_type": "stream",
     "text": [
      "[Parallel(n_jobs=-1)]: Done   1 out of   1 | elapsed:   11.5s finished\n"
     ]
    }
   ],
   "source": [
    "# the above results are weird because althought the accuracy may be very high. The AUC score is zero for all.\n",
    "# Nevertheless let us try a few more models manually\n",
    "lg=LogisticRegression(random_state=0,multi_class='auto',max_iter=250,verbose=5,n_jobs=-1)\n",
    "lg.fit(X_train_pca,Y_train)\n",
    "pred=lg.predict(X_val_pca)\n",
    "print(classification_report(Y_val,pred))\n",
    "print(accuracy_score(Y_val,pred))"
   ]
  },
  {
   "cell_type": "code",
   "execution_count": 23,
   "metadata": {},
   "outputs": [
    {
     "name": "stdout",
     "output_type": "stream",
     "text": [
      "              precision    recall  f1-score   support\n",
      "\n",
      "           1       0.00      0.00      0.00        10\n",
      "           2       0.26      1.00      0.42        10\n",
      "           3       0.00      0.00      0.00        10\n",
      "           4       0.00      0.00      0.00        10\n",
      "           5       0.00      0.00      0.00        10\n",
      "           6       0.00      0.00      0.00        10\n",
      "\n",
      "    accuracy                           0.17        60\n",
      "   macro avg       0.04      0.17      0.07        60\n",
      "weighted avg       0.04      0.17      0.07        60\n",
      "\n"
     ]
    },
    {
     "name": "stderr",
     "output_type": "stream",
     "text": [
      "C:\\Users\\Aayush Kandpal\\anaconda3\\lib\\site-packages\\sklearn\\metrics\\_classification.py:1221: UndefinedMetricWarning: Precision and F-score are ill-defined and being set to 0.0 in labels with no predicted samples. Use `zero_division` parameter to control this behavior.\n",
      "  _warn_prf(average, modifier, msg_start, len(result))\n"
     ]
    }
   ],
   "source": [
    "pred1=lg.predict(X_test_pca)\n",
    "print(classification_report(Y_test,pred1))"
   ]
  },
  {
   "cell_type": "code",
   "execution_count": null,
   "metadata": {},
   "outputs": [],
   "source": []
  },
  {
   "cell_type": "code",
   "execution_count": null,
   "metadata": {},
   "outputs": [],
   "source": []
  }
 ],
 "metadata": {
  "kernelspec": {
   "display_name": "Python 3",
   "language": "python",
   "name": "python3"
  },
  "language_info": {
   "codemirror_mode": {
    "name": "ipython",
    "version": 3
   },
   "file_extension": ".py",
   "mimetype": "text/x-python",
   "name": "python",
   "nbconvert_exporter": "python",
   "pygments_lexer": "ipython3",
   "version": "3.8.3"
  }
 },
 "nbformat": 4,
 "nbformat_minor": 4
}
