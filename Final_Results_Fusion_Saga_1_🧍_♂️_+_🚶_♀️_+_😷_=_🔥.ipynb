{
  "nbformat": 4,
  "nbformat_minor": 0,
  "metadata": {
    "colab": {
      "name": "Final_Results_Fusion_Saga_1_🧍_♂️_+_🚶_♀️_+_😷_=_🔥.ipynb",
      "provenance": [],
      "collapsed_sections": [],
      "toc_visible": true
    },
    "kernelspec": {
      "name": "python3",
      "display_name": "Python 3"
    },
    "accelerator": "GPU"
  },
  "cells": [
    {
      "cell_type": "markdown",
      "metadata": {
        "id": "LTe-yv7tv3fU"
      },
      "source": [
        "# Loading Data from drive"
      ]
    },
    {
      "cell_type": "code",
      "metadata": {
        "colab": {
          "base_uri": "https://localhost:8080/"
        },
        "id": "HLFo6i6wrCsJ",
        "outputId": "c77dde02-271c-4cd0-c969-52b0d100d1ea"
      },
      "source": [
        "from google.colab import drive\r\n",
        "drive.mount(\"./drive\")"
      ],
      "execution_count": null,
      "outputs": [
        {
          "output_type": "stream",
          "text": [
            "Mounted at ./drive\n"
          ],
          "name": "stdout"
        }
      ]
    },
    {
      "cell_type": "markdown",
      "metadata": {
        "id": "ncN3mxkRv7nQ"
      },
      "source": [
        "# Importing Modules"
      ]
    },
    {
      "cell_type": "code",
      "metadata": {
        "id": "diYLnO5QG0GV",
        "colab": {
          "base_uri": "https://localhost:8080/",
          "height": 33
        },
        "outputId": "8b0636b3-e867-4163-d438-467921636537"
      },
      "source": [
        "import tensorflow as tf\r\n",
        "from tensorflow.keras.layers import *\r\n",
        "from tensorflow.keras.models import *\r\n",
        "from tensorflow.keras.applications import *\r\n",
        "from tensorflow.keras.preprocessing.image import *\r\n",
        "from tensorflow.keras.optimizers import *\r\n",
        "from tensorflow.keras.metrics import *\r\n",
        "\r\n",
        "from tensorflow.keras.utils import plot_model\r\n",
        "from tensorflow.keras.callbacks import *\r\n",
        "from keras import backend as K\r\n",
        "\r\n",
        "from imutils import build_montages\r\n",
        "import os\r\n",
        "from PIL import Image\r\n",
        "import cv2\r\n",
        "from collections import Counter\r\n",
        "import imutils\r\n",
        "from imutils import paths\r\n",
        "from tqdm import tqdm, notebook\r\n",
        "\r\n",
        "from scipy import *\r\n",
        "import scipy\r\n",
        "import numpy as np\r\n",
        "import pandas as pd\r\n",
        "from glob import glob\r\n",
        "import matplotlib.pyplot as plt\r\n",
        "import seaborn as sns\r\n",
        "\r\n",
        "from plotly.subplots import make_subplots\r\n",
        "import plotly.express as px\r\n",
        "import plotly.graph_objects as go\r\n",
        "import plotly as ply\r\n",
        "\r\n",
        "from sklearn.metrics import classification_report, confusion_matrix, accuracy_score\r\n",
        "ply.offline.init_notebook_mode(connected=True)\r\n",
        "\r\n",
        "import warnings\r\n",
        "warnings.filterwarnings('ignore')\r\n",
        "\r\n",
        "%matplotlib inline\r\n",
        "\r\n",
        "!echo \"Importing all Modules\""
      ],
      "execution_count": null,
      "outputs": [
        {
          "output_type": "display_data",
          "data": {
            "text/html": [
              "        <script type=\"text/javascript\">\n",
              "        window.PlotlyConfig = {MathJaxConfig: 'local'};\n",
              "        if (window.MathJax) {MathJax.Hub.Config({SVG: {font: \"STIX-Web\"}});}\n",
              "        if (typeof require !== 'undefined') {\n",
              "        require.undef(\"plotly\");\n",
              "        requirejs.config({\n",
              "            paths: {\n",
              "                'plotly': ['https://cdn.plot.ly/plotly-latest.min']\n",
              "            }\n",
              "        });\n",
              "        require(['plotly'], function(Plotly) {\n",
              "            window._Plotly = Plotly;\n",
              "        });\n",
              "        }\n",
              "        </script>\n",
              "        "
            ]
          },
          "metadata": {
            "tags": []
          }
        },
        {
          "output_type": "stream",
          "text": [
            "Importing all Modules\n"
          ],
          "name": "stdout"
        }
      ]
    },
    {
      "cell_type": "code",
      "metadata": {
        "id": "nvSEykOPpks9"
      },
      "source": [
        "from zipfile import ZipFile\r\n",
        "with ZipFile(\"/content/drive/MyDrive/Face_dataset_ML.zip\") as file:\r\n",
        "    file.extractall()\r\n",
        "file.close()\r\n",
        "\r\n",
        "with ZipFile(\"/content/drive/MyDrive/Siamese_Network_only_faces_AayAjiAraAshKomRpd.zip\") as file:\r\n",
        "    file.extractall()\r\n",
        "file.close()\r\n",
        "\r\n",
        "with ZipFile(\"/content/drive/MyDrive/MobileNetWeights.zip\") as file:\r\n",
        "    file.extractall()\r\n",
        "file.close()\r\n",
        "\r\n",
        "with ZipFile(\"/content/drive/MyDrive/VAE_AyuAjiAraAshKomRpd.zip\") as file:\r\n",
        "    file.extractall()\r\n",
        "file.close()"
      ],
      "execution_count": null,
      "outputs": []
    },
    {
      "cell_type": "code",
      "metadata": {
        "id": "E7A5FGGLlimF"
      },
      "source": [
        "!mv ./content ./SiameseNet_Weights\r\n",
        "!mv ./ModelCheckpoints ./VAE"
      ],
      "execution_count": null,
      "outputs": []
    },
    {
      "cell_type": "markdown",
      "metadata": {
        "id": "3gyNsrQtWI1Q"
      },
      "source": [
        "# Loading Models"
      ]
    },
    {
      "cell_type": "code",
      "metadata": {
        "id": "dMlQXtskmYma",
        "colab": {
          "base_uri": "https://localhost:8080/"
        },
        "outputId": "9e964379-6b28-4b01-ee74-1b57c77f02d6"
      },
      "source": [
        "# Face models\r\n",
        "encoder = load_model(\"./VAE/VAE_encoder.h5\")\r\n",
        "decoder = load_model(\"./VAE/VAE_decoder.h5\")\r\n",
        "\r\n",
        "siameseNet = load_model(\"./SiameseNet_Weights/Siamese_Network_only_faces_AayAjiAraAshKomRpd.h5\")\r\n",
        "\r\n",
        "\r\n",
        "# face_effnetb7 = load_model(\"/content/drive/MyDrive/Weights/EfficientNetB7_Pretrained_weights_Only_Faces.h5\")\r\n",
        "# face_mobnet = load_model(\"/content/drive/MyDrive/Weights/MobielNet_Pretrained_weights_Only_Faces.h5\")\r\n",
        "# face_resNet50 = load_model(\"/content/drive/MyDrive/Weights/Resnet50_Pretrained_weights_Only_Faces.h5\")\r\n",
        "# face_vgg16 = load_model(\"/content/drive/MyDrive/Weights/VGG16_Pretrained_weights_Only_Faces.h5\")\r\n",
        "# face_vgg19 = load_model(\"/content/drive/MyDrive/Weights/VGG19_Pretrained_weights_Only_Faces.h5\")\r\n",
        "\r\n",
        "\r\n",
        "# GAIT MODELS\r\n",
        "cus_vgg16_0 = load_model(\"/content/drive/MyDrive/VGG16_Gait_half_pretrained/vgg16_0.h5\")\r\n",
        "cus_vgg16_54 = load_model(\"/content/drive/MyDrive/VGG16_Gait_half_pretrained/vgg16_54.h5\")\r\n",
        "cus_vgg16_90 = load_model(\"/content/drive/MyDrive/VGG16_Gait_half_pretrained/vgg16_90.h5\")\r\n",
        "\r\n",
        "cus_resnet50_0 = load_model(\"/content/drive/MyDrive/ResNet50_Gait_fromScratch/resNet50_0.h5\")\r\n",
        "cus_resnet50_54 = load_model(\"/content/drive/MyDrive/ResNet50_Gait_fromScratch/resNet50_54.h5\")\r\n",
        "cus_resnet50_90 = load_model(\"/content/drive/MyDrive/ResNet50_Gait_fromScratch/resNet50_90.h5\")\r\n",
        "\r\n",
        "cus_vgg16_0 = Model(inputs = cus_vgg16_0.input, outputs = cus_vgg16_0.layers[-2].output)\r\n",
        "cus_vgg16_54 = Model(inputs = cus_vgg16_54.input, outputs = cus_vgg16_54.layers[-2].output)\r\n",
        "cus_vgg16_90 = Model(inputs = cus_vgg16_90.input, outputs = cus_vgg16_90.layers[-2].output)\r\n",
        "\r\n",
        "cus_resnet50_0 = Model(inputs = cus_resnet50_0.input, outputs = cus_resnet50_0.layers[-2].output)\r\n",
        "cus_resnet50_54 = Model(inputs = cus_resnet50_54.input, outputs = cus_resnet50_54.layers[-2].output)\r\n",
        "cus_resnet50_90 = Model(inputs = cus_resnet50_90.input, outputs = cus_resnet50_90.layers[-2].output)\r\n",
        "\r\n",
        "mobnet_0 = load_model(\"./MobileNetWeights/mobile_0.h5\")\r\n",
        "mobnet_54 = load_model(\"./MobileNetWeights/mobile_54.h5\")\r\n",
        "mobnet_90 = load_model(\"./MobileNetWeights/mobile_90.h5\")\r\n",
        "\r\n",
        "!echo \"All Models are Successfully Loaded\""
      ],
      "execution_count": null,
      "outputs": [
        {
          "output_type": "stream",
          "text": [
            "WARNING:tensorflow:No training configuration found in the save file, so the model was *not* compiled. Compile it manually.\n",
            "WARNING:tensorflow:No training configuration found in the save file, so the model was *not* compiled. Compile it manually.\n",
            "All Models are Successfully Loaded\n"
          ],
          "name": "stdout"
        }
      ]
    },
    {
      "cell_type": "markdown",
      "metadata": {
        "id": "Qn5pDvDQX7mS"
      },
      "source": [
        "# Building Siamese Model"
      ]
    },
    {
      "cell_type": "code",
      "metadata": {
        "id": "Lj4gJTtwrKOF"
      },
      "source": [
        "rpd_base_img = cv2.imread(\"/content/Face_dataset/train/Rudra/img_20.jpg\")\r\n",
        "aayush_base_img = cv2.imread(\"/content/Face_dataset/train/Aayush/210.jpg\")\r\n",
        "komal_base_img = cv2.imread(\"/content/Face_dataset/train/Komal/img_151.jpg\")\r\n",
        "ashish_base_img = cv2.imread(\"/content/Face_dataset/train/Ashish/img1_32.jpg\")\r\n",
        "ajita_base_img = cv2.imread(\"/content/Face_dataset/train/Ajita/img_26.jpg\")\r\n",
        "aradhana_base_img = cv2.imread(\"/content/Face_dataset/train/Aradhana/img_13.jpg\")\r\n",
        "\r\n",
        "base_imgs = [rpd_base_img, aayush_base_img, komal_base_img, ashish_base_img, ajita_base_img, aradhana_base_img]\r\n",
        "labels = [\"RUDRA\", \"AAYUSH\", \"KOMAL\", \"ASHISH\", \"AJITA\", \"ARADHANA\"]"
      ],
      "execution_count": null,
      "outputs": []
    },
    {
      "cell_type": "code",
      "metadata": {
        "colab": {
          "base_uri": "https://localhost:8080/"
        },
        "id": "pXqG52Vrw4ia",
        "outputId": "64952924-720d-4c8d-f255-33ca6e3820d3"
      },
      "source": [
        "cus_resnet50_0.summary()"
      ],
      "execution_count": null,
      "outputs": [
        {
          "output_type": "stream",
          "text": [
            "Model: \"model_3\"\n",
            "__________________________________________________________________________________________________\n",
            "Layer (type)                    Output Shape         Param #     Connected to                     \n",
            "==================================================================================================\n",
            "input_16 (InputLayer)           [(None, 224, 224, 3) 0                                            \n",
            "__________________________________________________________________________________________________\n",
            "conv1_pad (ZeroPadding2D)       (None, 230, 230, 3)  0           input_16[0][0]                   \n",
            "__________________________________________________________________________________________________\n",
            "conv1_conv (Conv2D)             (None, 112, 112, 64) 9472        conv1_pad[0][0]                  \n",
            "__________________________________________________________________________________________________\n",
            "conv1_bn (BatchNormalization)   (None, 112, 112, 64) 256         conv1_conv[0][0]                 \n",
            "__________________________________________________________________________________________________\n",
            "conv1_relu (Activation)         (None, 112, 112, 64) 0           conv1_bn[0][0]                   \n",
            "__________________________________________________________________________________________________\n",
            "pool1_pad (ZeroPadding2D)       (None, 114, 114, 64) 0           conv1_relu[0][0]                 \n",
            "__________________________________________________________________________________________________\n",
            "pool1_pool (MaxPooling2D)       (None, 56, 56, 64)   0           pool1_pad[0][0]                  \n",
            "__________________________________________________________________________________________________\n",
            "conv2_block1_1_conv (Conv2D)    (None, 56, 56, 64)   4160        pool1_pool[0][0]                 \n",
            "__________________________________________________________________________________________________\n",
            "conv2_block1_1_bn (BatchNormali (None, 56, 56, 64)   256         conv2_block1_1_conv[0][0]        \n",
            "__________________________________________________________________________________________________\n",
            "conv2_block1_1_relu (Activation (None, 56, 56, 64)   0           conv2_block1_1_bn[0][0]          \n",
            "__________________________________________________________________________________________________\n",
            "conv2_block1_2_conv (Conv2D)    (None, 56, 56, 64)   36928       conv2_block1_1_relu[0][0]        \n",
            "__________________________________________________________________________________________________\n",
            "conv2_block1_2_bn (BatchNormali (None, 56, 56, 64)   256         conv2_block1_2_conv[0][0]        \n",
            "__________________________________________________________________________________________________\n",
            "conv2_block1_2_relu (Activation (None, 56, 56, 64)   0           conv2_block1_2_bn[0][0]          \n",
            "__________________________________________________________________________________________________\n",
            "conv2_block1_0_conv (Conv2D)    (None, 56, 56, 256)  16640       pool1_pool[0][0]                 \n",
            "__________________________________________________________________________________________________\n",
            "conv2_block1_3_conv (Conv2D)    (None, 56, 56, 256)  16640       conv2_block1_2_relu[0][0]        \n",
            "__________________________________________________________________________________________________\n",
            "conv2_block1_0_bn (BatchNormali (None, 56, 56, 256)  1024        conv2_block1_0_conv[0][0]        \n",
            "__________________________________________________________________________________________________\n",
            "conv2_block1_3_bn (BatchNormali (None, 56, 56, 256)  1024        conv2_block1_3_conv[0][0]        \n",
            "__________________________________________________________________________________________________\n",
            "conv2_block1_add (Add)          (None, 56, 56, 256)  0           conv2_block1_0_bn[0][0]          \n",
            "                                                                 conv2_block1_3_bn[0][0]          \n",
            "__________________________________________________________________________________________________\n",
            "conv2_block1_out (Activation)   (None, 56, 56, 256)  0           conv2_block1_add[0][0]           \n",
            "__________________________________________________________________________________________________\n",
            "conv2_block2_1_conv (Conv2D)    (None, 56, 56, 64)   16448       conv2_block1_out[0][0]           \n",
            "__________________________________________________________________________________________________\n",
            "conv2_block2_1_bn (BatchNormali (None, 56, 56, 64)   256         conv2_block2_1_conv[0][0]        \n",
            "__________________________________________________________________________________________________\n",
            "conv2_block2_1_relu (Activation (None, 56, 56, 64)   0           conv2_block2_1_bn[0][0]          \n",
            "__________________________________________________________________________________________________\n",
            "conv2_block2_2_conv (Conv2D)    (None, 56, 56, 64)   36928       conv2_block2_1_relu[0][0]        \n",
            "__________________________________________________________________________________________________\n",
            "conv2_block2_2_bn (BatchNormali (None, 56, 56, 64)   256         conv2_block2_2_conv[0][0]        \n",
            "__________________________________________________________________________________________________\n",
            "conv2_block2_2_relu (Activation (None, 56, 56, 64)   0           conv2_block2_2_bn[0][0]          \n",
            "__________________________________________________________________________________________________\n",
            "conv2_block2_3_conv (Conv2D)    (None, 56, 56, 256)  16640       conv2_block2_2_relu[0][0]        \n",
            "__________________________________________________________________________________________________\n",
            "conv2_block2_3_bn (BatchNormali (None, 56, 56, 256)  1024        conv2_block2_3_conv[0][0]        \n",
            "__________________________________________________________________________________________________\n",
            "conv2_block2_add (Add)          (None, 56, 56, 256)  0           conv2_block1_out[0][0]           \n",
            "                                                                 conv2_block2_3_bn[0][0]          \n",
            "__________________________________________________________________________________________________\n",
            "conv2_block2_out (Activation)   (None, 56, 56, 256)  0           conv2_block2_add[0][0]           \n",
            "__________________________________________________________________________________________________\n",
            "conv2_block3_1_conv (Conv2D)    (None, 56, 56, 64)   16448       conv2_block2_out[0][0]           \n",
            "__________________________________________________________________________________________________\n",
            "conv2_block3_1_bn (BatchNormali (None, 56, 56, 64)   256         conv2_block3_1_conv[0][0]        \n",
            "__________________________________________________________________________________________________\n",
            "conv2_block3_1_relu (Activation (None, 56, 56, 64)   0           conv2_block3_1_bn[0][0]          \n",
            "__________________________________________________________________________________________________\n",
            "conv2_block3_2_conv (Conv2D)    (None, 56, 56, 64)   36928       conv2_block3_1_relu[0][0]        \n",
            "__________________________________________________________________________________________________\n",
            "conv2_block3_2_bn (BatchNormali (None, 56, 56, 64)   256         conv2_block3_2_conv[0][0]        \n",
            "__________________________________________________________________________________________________\n",
            "conv2_block3_2_relu (Activation (None, 56, 56, 64)   0           conv2_block3_2_bn[0][0]          \n",
            "__________________________________________________________________________________________________\n",
            "conv2_block3_3_conv (Conv2D)    (None, 56, 56, 256)  16640       conv2_block3_2_relu[0][0]        \n",
            "__________________________________________________________________________________________________\n",
            "conv2_block3_3_bn (BatchNormali (None, 56, 56, 256)  1024        conv2_block3_3_conv[0][0]        \n",
            "__________________________________________________________________________________________________\n",
            "conv2_block3_add (Add)          (None, 56, 56, 256)  0           conv2_block2_out[0][0]           \n",
            "                                                                 conv2_block3_3_bn[0][0]          \n",
            "__________________________________________________________________________________________________\n",
            "conv2_block3_out (Activation)   (None, 56, 56, 256)  0           conv2_block3_add[0][0]           \n",
            "__________________________________________________________________________________________________\n",
            "conv3_block1_1_conv (Conv2D)    (None, 28, 28, 128)  32896       conv2_block3_out[0][0]           \n",
            "__________________________________________________________________________________________________\n",
            "conv3_block1_1_bn (BatchNormali (None, 28, 28, 128)  512         conv3_block1_1_conv[0][0]        \n",
            "__________________________________________________________________________________________________\n",
            "conv3_block1_1_relu (Activation (None, 28, 28, 128)  0           conv3_block1_1_bn[0][0]          \n",
            "__________________________________________________________________________________________________\n",
            "conv3_block1_2_conv (Conv2D)    (None, 28, 28, 128)  147584      conv3_block1_1_relu[0][0]        \n",
            "__________________________________________________________________________________________________\n",
            "conv3_block1_2_bn (BatchNormali (None, 28, 28, 128)  512         conv3_block1_2_conv[0][0]        \n",
            "__________________________________________________________________________________________________\n",
            "conv3_block1_2_relu (Activation (None, 28, 28, 128)  0           conv3_block1_2_bn[0][0]          \n",
            "__________________________________________________________________________________________________\n",
            "conv3_block1_0_conv (Conv2D)    (None, 28, 28, 512)  131584      conv2_block3_out[0][0]           \n",
            "__________________________________________________________________________________________________\n",
            "conv3_block1_3_conv (Conv2D)    (None, 28, 28, 512)  66048       conv3_block1_2_relu[0][0]        \n",
            "__________________________________________________________________________________________________\n",
            "conv3_block1_0_bn (BatchNormali (None, 28, 28, 512)  2048        conv3_block1_0_conv[0][0]        \n",
            "__________________________________________________________________________________________________\n",
            "conv3_block1_3_bn (BatchNormali (None, 28, 28, 512)  2048        conv3_block1_3_conv[0][0]        \n",
            "__________________________________________________________________________________________________\n",
            "conv3_block1_add (Add)          (None, 28, 28, 512)  0           conv3_block1_0_bn[0][0]          \n",
            "                                                                 conv3_block1_3_bn[0][0]          \n",
            "__________________________________________________________________________________________________\n",
            "conv3_block1_out (Activation)   (None, 28, 28, 512)  0           conv3_block1_add[0][0]           \n",
            "__________________________________________________________________________________________________\n",
            "conv3_block2_1_conv (Conv2D)    (None, 28, 28, 128)  65664       conv3_block1_out[0][0]           \n",
            "__________________________________________________________________________________________________\n",
            "conv3_block2_1_bn (BatchNormali (None, 28, 28, 128)  512         conv3_block2_1_conv[0][0]        \n",
            "__________________________________________________________________________________________________\n",
            "conv3_block2_1_relu (Activation (None, 28, 28, 128)  0           conv3_block2_1_bn[0][0]          \n",
            "__________________________________________________________________________________________________\n",
            "conv3_block2_2_conv (Conv2D)    (None, 28, 28, 128)  147584      conv3_block2_1_relu[0][0]        \n",
            "__________________________________________________________________________________________________\n",
            "conv3_block2_2_bn (BatchNormali (None, 28, 28, 128)  512         conv3_block2_2_conv[0][0]        \n",
            "__________________________________________________________________________________________________\n",
            "conv3_block2_2_relu (Activation (None, 28, 28, 128)  0           conv3_block2_2_bn[0][0]          \n",
            "__________________________________________________________________________________________________\n",
            "conv3_block2_3_conv (Conv2D)    (None, 28, 28, 512)  66048       conv3_block2_2_relu[0][0]        \n",
            "__________________________________________________________________________________________________\n",
            "conv3_block2_3_bn (BatchNormali (None, 28, 28, 512)  2048        conv3_block2_3_conv[0][0]        \n",
            "__________________________________________________________________________________________________\n",
            "conv3_block2_add (Add)          (None, 28, 28, 512)  0           conv3_block1_out[0][0]           \n",
            "                                                                 conv3_block2_3_bn[0][0]          \n",
            "__________________________________________________________________________________________________\n",
            "conv3_block2_out (Activation)   (None, 28, 28, 512)  0           conv3_block2_add[0][0]           \n",
            "__________________________________________________________________________________________________\n",
            "conv3_block3_1_conv (Conv2D)    (None, 28, 28, 128)  65664       conv3_block2_out[0][0]           \n",
            "__________________________________________________________________________________________________\n",
            "conv3_block3_1_bn (BatchNormali (None, 28, 28, 128)  512         conv3_block3_1_conv[0][0]        \n",
            "__________________________________________________________________________________________________\n",
            "conv3_block3_1_relu (Activation (None, 28, 28, 128)  0           conv3_block3_1_bn[0][0]          \n",
            "__________________________________________________________________________________________________\n",
            "conv3_block3_2_conv (Conv2D)    (None, 28, 28, 128)  147584      conv3_block3_1_relu[0][0]        \n",
            "__________________________________________________________________________________________________\n",
            "conv3_block3_2_bn (BatchNormali (None, 28, 28, 128)  512         conv3_block3_2_conv[0][0]        \n",
            "__________________________________________________________________________________________________\n",
            "conv3_block3_2_relu (Activation (None, 28, 28, 128)  0           conv3_block3_2_bn[0][0]          \n",
            "__________________________________________________________________________________________________\n",
            "conv3_block3_3_conv (Conv2D)    (None, 28, 28, 512)  66048       conv3_block3_2_relu[0][0]        \n",
            "__________________________________________________________________________________________________\n",
            "conv3_block3_3_bn (BatchNormali (None, 28, 28, 512)  2048        conv3_block3_3_conv[0][0]        \n",
            "__________________________________________________________________________________________________\n",
            "conv3_block3_add (Add)          (None, 28, 28, 512)  0           conv3_block2_out[0][0]           \n",
            "                                                                 conv3_block3_3_bn[0][0]          \n",
            "__________________________________________________________________________________________________\n",
            "conv3_block3_out (Activation)   (None, 28, 28, 512)  0           conv3_block3_add[0][0]           \n",
            "__________________________________________________________________________________________________\n",
            "conv3_block4_1_conv (Conv2D)    (None, 28, 28, 128)  65664       conv3_block3_out[0][0]           \n",
            "__________________________________________________________________________________________________\n",
            "conv3_block4_1_bn (BatchNormali (None, 28, 28, 128)  512         conv3_block4_1_conv[0][0]        \n",
            "__________________________________________________________________________________________________\n",
            "conv3_block4_1_relu (Activation (None, 28, 28, 128)  0           conv3_block4_1_bn[0][0]          \n",
            "__________________________________________________________________________________________________\n",
            "conv3_block4_2_conv (Conv2D)    (None, 28, 28, 128)  147584      conv3_block4_1_relu[0][0]        \n",
            "__________________________________________________________________________________________________\n",
            "conv3_block4_2_bn (BatchNormali (None, 28, 28, 128)  512         conv3_block4_2_conv[0][0]        \n",
            "__________________________________________________________________________________________________\n",
            "conv3_block4_2_relu (Activation (None, 28, 28, 128)  0           conv3_block4_2_bn[0][0]          \n",
            "__________________________________________________________________________________________________\n",
            "conv3_block4_3_conv (Conv2D)    (None, 28, 28, 512)  66048       conv3_block4_2_relu[0][0]        \n",
            "__________________________________________________________________________________________________\n",
            "conv3_block4_3_bn (BatchNormali (None, 28, 28, 512)  2048        conv3_block4_3_conv[0][0]        \n",
            "__________________________________________________________________________________________________\n",
            "conv3_block4_add (Add)          (None, 28, 28, 512)  0           conv3_block3_out[0][0]           \n",
            "                                                                 conv3_block4_3_bn[0][0]          \n",
            "__________________________________________________________________________________________________\n",
            "conv3_block4_out (Activation)   (None, 28, 28, 512)  0           conv3_block4_add[0][0]           \n",
            "__________________________________________________________________________________________________\n",
            "conv4_block1_1_conv (Conv2D)    (None, 14, 14, 256)  131328      conv3_block4_out[0][0]           \n",
            "__________________________________________________________________________________________________\n",
            "conv4_block1_1_bn (BatchNormali (None, 14, 14, 256)  1024        conv4_block1_1_conv[0][0]        \n",
            "__________________________________________________________________________________________________\n",
            "conv4_block1_1_relu (Activation (None, 14, 14, 256)  0           conv4_block1_1_bn[0][0]          \n",
            "__________________________________________________________________________________________________\n",
            "conv4_block1_2_conv (Conv2D)    (None, 14, 14, 256)  590080      conv4_block1_1_relu[0][0]        \n",
            "__________________________________________________________________________________________________\n",
            "conv4_block1_2_bn (BatchNormali (None, 14, 14, 256)  1024        conv4_block1_2_conv[0][0]        \n",
            "__________________________________________________________________________________________________\n",
            "conv4_block1_2_relu (Activation (None, 14, 14, 256)  0           conv4_block1_2_bn[0][0]          \n",
            "__________________________________________________________________________________________________\n",
            "conv4_block1_0_conv (Conv2D)    (None, 14, 14, 1024) 525312      conv3_block4_out[0][0]           \n",
            "__________________________________________________________________________________________________\n",
            "conv4_block1_3_conv (Conv2D)    (None, 14, 14, 1024) 263168      conv4_block1_2_relu[0][0]        \n",
            "__________________________________________________________________________________________________\n",
            "conv4_block1_0_bn (BatchNormali (None, 14, 14, 1024) 4096        conv4_block1_0_conv[0][0]        \n",
            "__________________________________________________________________________________________________\n",
            "conv4_block1_3_bn (BatchNormali (None, 14, 14, 1024) 4096        conv4_block1_3_conv[0][0]        \n",
            "__________________________________________________________________________________________________\n",
            "conv4_block1_add (Add)          (None, 14, 14, 1024) 0           conv4_block1_0_bn[0][0]          \n",
            "                                                                 conv4_block1_3_bn[0][0]          \n",
            "__________________________________________________________________________________________________\n",
            "conv4_block1_out (Activation)   (None, 14, 14, 1024) 0           conv4_block1_add[0][0]           \n",
            "__________________________________________________________________________________________________\n",
            "conv4_block2_1_conv (Conv2D)    (None, 14, 14, 256)  262400      conv4_block1_out[0][0]           \n",
            "__________________________________________________________________________________________________\n",
            "conv4_block2_1_bn (BatchNormali (None, 14, 14, 256)  1024        conv4_block2_1_conv[0][0]        \n",
            "__________________________________________________________________________________________________\n",
            "conv4_block2_1_relu (Activation (None, 14, 14, 256)  0           conv4_block2_1_bn[0][0]          \n",
            "__________________________________________________________________________________________________\n",
            "conv4_block2_2_conv (Conv2D)    (None, 14, 14, 256)  590080      conv4_block2_1_relu[0][0]        \n",
            "__________________________________________________________________________________________________\n",
            "conv4_block2_2_bn (BatchNormali (None, 14, 14, 256)  1024        conv4_block2_2_conv[0][0]        \n",
            "__________________________________________________________________________________________________\n",
            "conv4_block2_2_relu (Activation (None, 14, 14, 256)  0           conv4_block2_2_bn[0][0]          \n",
            "__________________________________________________________________________________________________\n",
            "conv4_block2_3_conv (Conv2D)    (None, 14, 14, 1024) 263168      conv4_block2_2_relu[0][0]        \n",
            "__________________________________________________________________________________________________\n",
            "conv4_block2_3_bn (BatchNormali (None, 14, 14, 1024) 4096        conv4_block2_3_conv[0][0]        \n",
            "__________________________________________________________________________________________________\n",
            "conv4_block2_add (Add)          (None, 14, 14, 1024) 0           conv4_block1_out[0][0]           \n",
            "                                                                 conv4_block2_3_bn[0][0]          \n",
            "__________________________________________________________________________________________________\n",
            "conv4_block2_out (Activation)   (None, 14, 14, 1024) 0           conv4_block2_add[0][0]           \n",
            "__________________________________________________________________________________________________\n",
            "conv4_block3_1_conv (Conv2D)    (None, 14, 14, 256)  262400      conv4_block2_out[0][0]           \n",
            "__________________________________________________________________________________________________\n",
            "conv4_block3_1_bn (BatchNormali (None, 14, 14, 256)  1024        conv4_block3_1_conv[0][0]        \n",
            "__________________________________________________________________________________________________\n",
            "conv4_block3_1_relu (Activation (None, 14, 14, 256)  0           conv4_block3_1_bn[0][0]          \n",
            "__________________________________________________________________________________________________\n",
            "conv4_block3_2_conv (Conv2D)    (None, 14, 14, 256)  590080      conv4_block3_1_relu[0][0]        \n",
            "__________________________________________________________________________________________________\n",
            "conv4_block3_2_bn (BatchNormali (None, 14, 14, 256)  1024        conv4_block3_2_conv[0][0]        \n",
            "__________________________________________________________________________________________________\n",
            "conv4_block3_2_relu (Activation (None, 14, 14, 256)  0           conv4_block3_2_bn[0][0]          \n",
            "__________________________________________________________________________________________________\n",
            "conv4_block3_3_conv (Conv2D)    (None, 14, 14, 1024) 263168      conv4_block3_2_relu[0][0]        \n",
            "__________________________________________________________________________________________________\n",
            "conv4_block3_3_bn (BatchNormali (None, 14, 14, 1024) 4096        conv4_block3_3_conv[0][0]        \n",
            "__________________________________________________________________________________________________\n",
            "conv4_block3_add (Add)          (None, 14, 14, 1024) 0           conv4_block2_out[0][0]           \n",
            "                                                                 conv4_block3_3_bn[0][0]          \n",
            "__________________________________________________________________________________________________\n",
            "conv4_block3_out (Activation)   (None, 14, 14, 1024) 0           conv4_block3_add[0][0]           \n",
            "__________________________________________________________________________________________________\n",
            "conv4_block4_1_conv (Conv2D)    (None, 14, 14, 256)  262400      conv4_block3_out[0][0]           \n",
            "__________________________________________________________________________________________________\n",
            "conv4_block4_1_bn (BatchNormali (None, 14, 14, 256)  1024        conv4_block4_1_conv[0][0]        \n",
            "__________________________________________________________________________________________________\n",
            "conv4_block4_1_relu (Activation (None, 14, 14, 256)  0           conv4_block4_1_bn[0][0]          \n",
            "__________________________________________________________________________________________________\n",
            "conv4_block4_2_conv (Conv2D)    (None, 14, 14, 256)  590080      conv4_block4_1_relu[0][0]        \n",
            "__________________________________________________________________________________________________\n",
            "conv4_block4_2_bn (BatchNormali (None, 14, 14, 256)  1024        conv4_block4_2_conv[0][0]        \n",
            "__________________________________________________________________________________________________\n",
            "conv4_block4_2_relu (Activation (None, 14, 14, 256)  0           conv4_block4_2_bn[0][0]          \n",
            "__________________________________________________________________________________________________\n",
            "conv4_block4_3_conv (Conv2D)    (None, 14, 14, 1024) 263168      conv4_block4_2_relu[0][0]        \n",
            "__________________________________________________________________________________________________\n",
            "conv4_block4_3_bn (BatchNormali (None, 14, 14, 1024) 4096        conv4_block4_3_conv[0][0]        \n",
            "__________________________________________________________________________________________________\n",
            "conv4_block4_add (Add)          (None, 14, 14, 1024) 0           conv4_block3_out[0][0]           \n",
            "                                                                 conv4_block4_3_bn[0][0]          \n",
            "__________________________________________________________________________________________________\n",
            "conv4_block4_out (Activation)   (None, 14, 14, 1024) 0           conv4_block4_add[0][0]           \n",
            "__________________________________________________________________________________________________\n",
            "conv4_block5_1_conv (Conv2D)    (None, 14, 14, 256)  262400      conv4_block4_out[0][0]           \n",
            "__________________________________________________________________________________________________\n",
            "conv4_block5_1_bn (BatchNormali (None, 14, 14, 256)  1024        conv4_block5_1_conv[0][0]        \n",
            "__________________________________________________________________________________________________\n",
            "conv4_block5_1_relu (Activation (None, 14, 14, 256)  0           conv4_block5_1_bn[0][0]          \n",
            "__________________________________________________________________________________________________\n",
            "conv4_block5_2_conv (Conv2D)    (None, 14, 14, 256)  590080      conv4_block5_1_relu[0][0]        \n",
            "__________________________________________________________________________________________________\n",
            "conv4_block5_2_bn (BatchNormali (None, 14, 14, 256)  1024        conv4_block5_2_conv[0][0]        \n",
            "__________________________________________________________________________________________________\n",
            "conv4_block5_2_relu (Activation (None, 14, 14, 256)  0           conv4_block5_2_bn[0][0]          \n",
            "__________________________________________________________________________________________________\n",
            "conv4_block5_3_conv (Conv2D)    (None, 14, 14, 1024) 263168      conv4_block5_2_relu[0][0]        \n",
            "__________________________________________________________________________________________________\n",
            "conv4_block5_3_bn (BatchNormali (None, 14, 14, 1024) 4096        conv4_block5_3_conv[0][0]        \n",
            "__________________________________________________________________________________________________\n",
            "conv4_block5_add (Add)          (None, 14, 14, 1024) 0           conv4_block4_out[0][0]           \n",
            "                                                                 conv4_block5_3_bn[0][0]          \n",
            "__________________________________________________________________________________________________\n",
            "conv4_block5_out (Activation)   (None, 14, 14, 1024) 0           conv4_block5_add[0][0]           \n",
            "__________________________________________________________________________________________________\n",
            "conv4_block6_1_conv (Conv2D)    (None, 14, 14, 256)  262400      conv4_block5_out[0][0]           \n",
            "__________________________________________________________________________________________________\n",
            "conv4_block6_1_bn (BatchNormali (None, 14, 14, 256)  1024        conv4_block6_1_conv[0][0]        \n",
            "__________________________________________________________________________________________________\n",
            "conv4_block6_1_relu (Activation (None, 14, 14, 256)  0           conv4_block6_1_bn[0][0]          \n",
            "__________________________________________________________________________________________________\n",
            "conv4_block6_2_conv (Conv2D)    (None, 14, 14, 256)  590080      conv4_block6_1_relu[0][0]        \n",
            "__________________________________________________________________________________________________\n",
            "conv4_block6_2_bn (BatchNormali (None, 14, 14, 256)  1024        conv4_block6_2_conv[0][0]        \n",
            "__________________________________________________________________________________________________\n",
            "conv4_block6_2_relu (Activation (None, 14, 14, 256)  0           conv4_block6_2_bn[0][0]          \n",
            "__________________________________________________________________________________________________\n",
            "conv4_block6_3_conv (Conv2D)    (None, 14, 14, 1024) 263168      conv4_block6_2_relu[0][0]        \n",
            "__________________________________________________________________________________________________\n",
            "conv4_block6_3_bn (BatchNormali (None, 14, 14, 1024) 4096        conv4_block6_3_conv[0][0]        \n",
            "__________________________________________________________________________________________________\n",
            "conv4_block6_add (Add)          (None, 14, 14, 1024) 0           conv4_block5_out[0][0]           \n",
            "                                                                 conv4_block6_3_bn[0][0]          \n",
            "__________________________________________________________________________________________________\n",
            "conv4_block6_out (Activation)   (None, 14, 14, 1024) 0           conv4_block6_add[0][0]           \n",
            "__________________________________________________________________________________________________\n",
            "conv5_block1_1_conv (Conv2D)    (None, 7, 7, 512)    524800      conv4_block6_out[0][0]           \n",
            "__________________________________________________________________________________________________\n",
            "conv5_block1_1_bn (BatchNormali (None, 7, 7, 512)    2048        conv5_block1_1_conv[0][0]        \n",
            "__________________________________________________________________________________________________\n",
            "conv5_block1_1_relu (Activation (None, 7, 7, 512)    0           conv5_block1_1_bn[0][0]          \n",
            "__________________________________________________________________________________________________\n",
            "conv5_block1_2_conv (Conv2D)    (None, 7, 7, 512)    2359808     conv5_block1_1_relu[0][0]        \n",
            "__________________________________________________________________________________________________\n",
            "conv5_block1_2_bn (BatchNormali (None, 7, 7, 512)    2048        conv5_block1_2_conv[0][0]        \n",
            "__________________________________________________________________________________________________\n",
            "conv5_block1_2_relu (Activation (None, 7, 7, 512)    0           conv5_block1_2_bn[0][0]          \n",
            "__________________________________________________________________________________________________\n",
            "conv5_block1_0_conv (Conv2D)    (None, 7, 7, 2048)   2099200     conv4_block6_out[0][0]           \n",
            "__________________________________________________________________________________________________\n",
            "conv5_block1_3_conv (Conv2D)    (None, 7, 7, 2048)   1050624     conv5_block1_2_relu[0][0]        \n",
            "__________________________________________________________________________________________________\n",
            "conv5_block1_0_bn (BatchNormali (None, 7, 7, 2048)   8192        conv5_block1_0_conv[0][0]        \n",
            "__________________________________________________________________________________________________\n",
            "conv5_block1_3_bn (BatchNormali (None, 7, 7, 2048)   8192        conv5_block1_3_conv[0][0]        \n",
            "__________________________________________________________________________________________________\n",
            "conv5_block1_add (Add)          (None, 7, 7, 2048)   0           conv5_block1_0_bn[0][0]          \n",
            "                                                                 conv5_block1_3_bn[0][0]          \n",
            "__________________________________________________________________________________________________\n",
            "conv5_block1_out (Activation)   (None, 7, 7, 2048)   0           conv5_block1_add[0][0]           \n",
            "__________________________________________________________________________________________________\n",
            "conv5_block2_1_conv (Conv2D)    (None, 7, 7, 512)    1049088     conv5_block1_out[0][0]           \n",
            "__________________________________________________________________________________________________\n",
            "conv5_block2_1_bn (BatchNormali (None, 7, 7, 512)    2048        conv5_block2_1_conv[0][0]        \n",
            "__________________________________________________________________________________________________\n",
            "conv5_block2_1_relu (Activation (None, 7, 7, 512)    0           conv5_block2_1_bn[0][0]          \n",
            "__________________________________________________________________________________________________\n",
            "conv5_block2_2_conv (Conv2D)    (None, 7, 7, 512)    2359808     conv5_block2_1_relu[0][0]        \n",
            "__________________________________________________________________________________________________\n",
            "conv5_block2_2_bn (BatchNormali (None, 7, 7, 512)    2048        conv5_block2_2_conv[0][0]        \n",
            "__________________________________________________________________________________________________\n",
            "conv5_block2_2_relu (Activation (None, 7, 7, 512)    0           conv5_block2_2_bn[0][0]          \n",
            "__________________________________________________________________________________________________\n",
            "conv5_block2_3_conv (Conv2D)    (None, 7, 7, 2048)   1050624     conv5_block2_2_relu[0][0]        \n",
            "__________________________________________________________________________________________________\n",
            "conv5_block2_3_bn (BatchNormali (None, 7, 7, 2048)   8192        conv5_block2_3_conv[0][0]        \n",
            "__________________________________________________________________________________________________\n",
            "conv5_block2_add (Add)          (None, 7, 7, 2048)   0           conv5_block1_out[0][0]           \n",
            "                                                                 conv5_block2_3_bn[0][0]          \n",
            "__________________________________________________________________________________________________\n",
            "conv5_block2_out (Activation)   (None, 7, 7, 2048)   0           conv5_block2_add[0][0]           \n",
            "__________________________________________________________________________________________________\n",
            "conv5_block3_1_conv (Conv2D)    (None, 7, 7, 512)    1049088     conv5_block2_out[0][0]           \n",
            "__________________________________________________________________________________________________\n",
            "conv5_block3_1_bn (BatchNormali (None, 7, 7, 512)    2048        conv5_block3_1_conv[0][0]        \n",
            "__________________________________________________________________________________________________\n",
            "conv5_block3_1_relu (Activation (None, 7, 7, 512)    0           conv5_block3_1_bn[0][0]          \n",
            "__________________________________________________________________________________________________\n",
            "conv5_block3_2_conv (Conv2D)    (None, 7, 7, 512)    2359808     conv5_block3_1_relu[0][0]        \n",
            "__________________________________________________________________________________________________\n",
            "conv5_block3_2_bn (BatchNormali (None, 7, 7, 512)    2048        conv5_block3_2_conv[0][0]        \n",
            "__________________________________________________________________________________________________\n",
            "conv5_block3_2_relu (Activation (None, 7, 7, 512)    0           conv5_block3_2_bn[0][0]          \n",
            "__________________________________________________________________________________________________\n",
            "conv5_block3_3_conv (Conv2D)    (None, 7, 7, 2048)   1050624     conv5_block3_2_relu[0][0]        \n",
            "__________________________________________________________________________________________________\n",
            "conv5_block3_3_bn (BatchNormali (None, 7, 7, 2048)   8192        conv5_block3_3_conv[0][0]        \n",
            "__________________________________________________________________________________________________\n",
            "conv5_block3_add (Add)          (None, 7, 7, 2048)   0           conv5_block2_out[0][0]           \n",
            "                                                                 conv5_block3_3_bn[0][0]          \n",
            "__________________________________________________________________________________________________\n",
            "conv5_block3_out (Activation)   (None, 7, 7, 2048)   0           conv5_block3_add[0][0]           \n",
            "__________________________________________________________________________________________________\n",
            "global_average_pooling2d_15 (Gl (None, 2048)         0           conv5_block3_out[0][0]           \n",
            "__________________________________________________________________________________________________\n",
            "dense_30 (Dense)                (None, 128)          262272      global_average_pooling2d_15[0][0]\n",
            "__________________________________________________________________________________________________\n",
            "dropout_2 (Dropout)             (None, 128)          0           dense_30[0][0]                   \n",
            "==================================================================================================\n",
            "Total params: 23,849,984\n",
            "Trainable params: 23,796,864\n",
            "Non-trainable params: 53,120\n",
            "__________________________________________________________________________________________________\n"
          ],
          "name": "stdout"
        }
      ]
    },
    {
      "cell_type": "code",
      "metadata": {
        "id": "CLoYhcEMXOzp"
      },
      "source": [
        "class Siamese_Model(Model):\r\n",
        "    def __init__(self, base_imgs, labels):\r\n",
        "        super(Siamese_Model, self).__init__()\r\n",
        "        self.base_imgs = base_imgs\r\n",
        "        self.labels = labels\r\n",
        "        self.IMG_SHAPE = [100, 100, 3]\r\n",
        "        self.build_model()\r\n",
        "        self.base_imgs = list(map(lambda x : self.preprocess_img(x), self.base_imgs))\r\n",
        "    \r\n",
        "    \r\n",
        "    def preprocess_img(self, img):\r\n",
        "        # print((self.IMG_SHAPE[1], self.IMG_SHAPE[0]))\r\n",
        "        # print(img)\r\n",
        "        img = cv2.resize(img, (self.IMG_SHAPE[1], self.IMG_SHAPE[0]), interpolation = cv2.INTER_NEAREST)\r\n",
        "        img = cv2.cvtColor(img, cv2.COLOR_BGR2RGB)\r\n",
        "        return img\r\n",
        "    \r\n",
        "    def make_pairs(self, img, base_imgs):\r\n",
        "        pairs = []\r\n",
        "        img = self.preprocess_img(img)  \r\n",
        "        for base_img in base_imgs:\r\n",
        "            pairs.append([base_img, img])\r\n",
        "        return (np.array(pairs))\r\n",
        "\r\n",
        "    def show_base_imgs(self):\r\n",
        "        plt.figure(figsize = (20, 15))\r\n",
        "        for i in range(len(self.base_imgs)):\r\n",
        "            plt.subplot(1, len(self.base_imgs), i+1)\r\n",
        "            curImage = self.base_imgs[i]\r\n",
        "            # curImage = self.preprocess_img(curImage)\r\n",
        "            plt.title(self.labels[i])\r\n",
        "            plt.imshow(curImage)\r\n",
        "            plt.axis('off')\r\n",
        "        plt.show();\r\n",
        "\r\n",
        "    def build_model(self):\r\n",
        "        self.siameseNet = load_model(\"./SiameseNet_Weights/Siamese_Network_only_faces_AayAjiAraAshKomRpd.h5\")\r\n",
        "        print(self.siameseNet.summary())        \r\n",
        "        return self.siameseNet\r\n",
        "\r\n",
        "    def predict(self, img):\r\n",
        "        proba = []\r\n",
        "        self.pairs = self.make_pairs(img, self.base_imgs)\r\n",
        "        for i in range(len(self.base_imgs)):\r\n",
        "            pred = self.siameseNet.predict([np.array([self.pairs[i, 0]]), np.array([self.pairs[i, 1]])])[0][0]\r\n",
        "            proba.append(pred)\r\n",
        "        sum_proba = sum(proba)\r\n",
        "        proba_score = list(map(lambda x: x/sum_proba, proba))\r\n",
        "        proba_score = np.array(proba_score, dtype = 'float')\r\n",
        "        return proba_score\r\n",
        "    \r\n",
        "    def predict_classes(self, img):\r\n",
        "        class_name = self.labels[np.argmax(self.predict(img))]\r\n",
        "        return class_name\r\n",
        "\r\n",
        "\r\n",
        "    def __str__(self):\r\n",
        "        return \"____SIAMESE NETWORK____\"       \r\n"
      ],
      "execution_count": null,
      "outputs": []
    },
    {
      "cell_type": "code",
      "metadata": {
        "id": "dw9bQXac5krH",
        "colab": {
          "base_uri": "https://localhost:8080/"
        },
        "outputId": "eb811f9e-2552-4867-901b-93b9080546d4"
      },
      "source": [
        "siamese_Net = Siamese_Model(base_imgs, labels)"
      ],
      "execution_count": null,
      "outputs": [
        {
          "output_type": "stream",
          "text": [
            "Model: \"SiameseNetwork\"\n",
            "__________________________________________________________________________________________________\n",
            "Layer (type)                    Output Shape         Param #     Connected to                     \n",
            "==================================================================================================\n",
            "input_4 (InputLayer)            [(None, 100, 100, 3) 0                                            \n",
            "__________________________________________________________________________________________________\n",
            "input_5 (InputLayer)            [(None, 100, 100, 3) 0                                            \n",
            "__________________________________________________________________________________________________\n",
            "model_1 (Functional)            (None, 128)          25600       input_4[0][0]                    \n",
            "                                                                 input_5[0][0]                    \n",
            "__________________________________________________________________________________________________\n",
            "Euclidean_distance (Lambda)     (None, 1)            0           model_1[0][0]                    \n",
            "                                                                 model_1[1][0]                    \n",
            "__________________________________________________________________________________________________\n",
            "similarity (Dense)              (None, 1)            2           Euclidean_distance[0][0]         \n",
            "==================================================================================================\n",
            "Total params: 25,602\n",
            "Trainable params: 25,602\n",
            "Non-trainable params: 0\n",
            "__________________________________________________________________________________________________\n",
            "None\n"
          ],
          "name": "stdout"
        }
      ]
    },
    {
      "cell_type": "code",
      "metadata": {
        "id": "T2V4X476_t2u",
        "colab": {
          "base_uri": "https://localhost:8080/",
          "height": 206
        },
        "outputId": "50ba1c8d-8fcc-47af-c4b7-b410b7bb38b9"
      },
      "source": [
        "siamese_Net.show_base_imgs()"
      ],
      "execution_count": null,
      "outputs": [
        {
          "output_type": "display_data",
          "data": {
            "image/png": "[encoded data removed]",
            "text/plain": [
              "<Figure size 1440x1080 with 6 Axes>"
            ]
          },
          "metadata": {
            "tags": [],
            "needs_background": "light"
          }
        }
      ]
    },
    {
      "cell_type": "code",
      "metadata": {
        "id": "zEkNrNWEk8V1",
        "colab": {
          "base_uri": "https://localhost:8080/"
        },
        "outputId": "d7c34c4f-e82f-4a36-bed9-3e41879e3fde"
      },
      "source": [
        "gei_data = \"/content/drive/MyDrive/GEI_Ashish/GaitDataset\"\r\n",
        "paths = {}\r\n",
        "\r\n",
        "for i in range(0, 198, 18):\r\n",
        "  paths[f'gei_{i}'] = gei_data + \"/\" + '0'*(3-len(str(i))) + str(i)\r\n",
        "\r\n",
        "paths"
      ],
      "execution_count": null,
      "outputs": [
        {
          "output_type": "execute_result",
          "data": {
            "text/plain": [
              "{'gei_0': '/content/drive/MyDrive/GEI_Ashish/GaitDataset/000',\n",
              " 'gei_108': '/content/drive/MyDrive/GEI_Ashish/GaitDataset/108',\n",
              " 'gei_126': '/content/drive/MyDrive/GEI_Ashish/GaitDataset/126',\n",
              " 'gei_144': '/content/drive/MyDrive/GEI_Ashish/GaitDataset/144',\n",
              " 'gei_162': '/content/drive/MyDrive/GEI_Ashish/GaitDataset/162',\n",
              " 'gei_18': '/content/drive/MyDrive/GEI_Ashish/GaitDataset/018',\n",
              " 'gei_180': '/content/drive/MyDrive/GEI_Ashish/GaitDataset/180',\n",
              " 'gei_36': '/content/drive/MyDrive/GEI_Ashish/GaitDataset/036',\n",
              " 'gei_54': '/content/drive/MyDrive/GEI_Ashish/GaitDataset/054',\n",
              " 'gei_72': '/content/drive/MyDrive/GEI_Ashish/GaitDataset/072',\n",
              " 'gei_90': '/content/drive/MyDrive/GEI_Ashish/GaitDataset/090'}"
            ]
          },
          "metadata": {
            "tags": []
          },
          "execution_count": 12
        }
      ]
    },
    {
      "cell_type": "code",
      "metadata": {
        "colab": {
          "base_uri": "https://localhost:8080/"
        },
        "id": "4eX676sIRj7u",
        "outputId": "7b40824d-be49-4f95-e3f2-1ceec647dd5f"
      },
      "source": [
        "os.listdir(paths[\"gei_0\"]+'//'+'train')"
      ],
      "execution_count": null,
      "outputs": [
        {
          "output_type": "execute_result",
          "data": {
            "text/plain": [
              "['001', '003', '005', '002', '004', '006']"
            ]
          },
          "metadata": {
            "tags": []
          },
          "execution_count": 13
        }
      ]
    },
    {
      "cell_type": "markdown",
      "metadata": {
        "id": "-b0FxNljSC1l"
      },
      "source": [
        "# Preparing DataFrame"
      ]
    },
    {
      "cell_type": "markdown",
      "metadata": {
        "id": "eY5FMofHVByc"
      },
      "source": [
        "{\r\n",
        "\r\n",
        "'Aayush':'001',\r\n",
        "'Ajita':'002',\r\n",
        "'Aradhana':'003',\r\n",
        "'Ashish':'004',\r\n",
        "'Komal':'005',\r\n",
        "'Rudra':'006'\r\n",
        "\r\n",
        "}"
      ]
    },
    {
      "cell_type": "code",
      "metadata": {
        "colab": {
          "base_uri": "https://localhost:8080/"
        },
        "id": "dFbR-kKcSXqz",
        "outputId": "dc1118a6-f60d-44c4-d1fa-d98ea1788172"
      },
      "source": [
        "train_features_label = {'trainface':[],\r\n",
        "                  '0_deg':[],\r\n",
        "                  '54_deg':[],\r\n",
        "                  '90_deg':[],\r\n",
        "                  'label':[]\r\n",
        "                  }\r\n",
        "\r\n",
        "val_features_label = {'valface':[],\r\n",
        "                  '0_deg':[],\r\n",
        "                  '54_deg':[],\r\n",
        "                  '90_deg':[],\r\n",
        "                  'label':[]\r\n",
        "                  }\r\n",
        "\r\n",
        "test_features_label = {'testface':[],\r\n",
        "                  '0_deg':[],\r\n",
        "                  '54_deg':[],\r\n",
        "                  '90_deg':[],\r\n",
        "                  'label':[]\r\n",
        "                  }\r\n",
        "                  \r\n",
        "angles = [0, 54, 90]\r\n",
        "for angle in angles:\r\n",
        "    angle_count = 0\r\n",
        "    labels = []\r\n",
        "    print(f\"==============Doing for angle {angle}==============\")\r\n",
        "    for class_ in range(1,7):\r\n",
        "        img_dir = os.listdir(os.path.join(paths[f'gei_{angle}'], 'train', f'00{class_}'))\r\n",
        "        print(f\"Inside 00{class_} folder\")\r\n",
        "        i = 0\r\n",
        "        for img in img_dir:\r\n",
        "            i+=1\r\n",
        "            curImg = cv2.imread(os.path.join(paths[f'gei_{angle}'], 'train', f'00{class_}', img))\r\n",
        "            curImg = cv2.cvtColor(curImg, cv2.COLOR_BGR2RGB)\r\n",
        "            curImg = cv2.resize(curImg, (224, 224))\r\n",
        "            train_features_label[f'{angle}_deg'].append(curImg)\r\n",
        "            \r\n",
        "            if (len(train_features_label['label']) < 180):\r\n",
        "                train_features_label['label'].append(class_)  \r\n",
        "            if (i==30):\r\n",
        "                break\r\n",
        "\r\n",
        "        print(f\"Collected {i} images\")\r\n",
        "    angle_count += 1"
      ],
      "execution_count": null,
      "outputs": [
        {
          "output_type": "stream",
          "text": [
            "==============Doing for angle 0==============\n",
            "Inside 001 folder\n",
            "Collected 30 images\n",
            "Inside 002 folder\n",
            "Collected 30 images\n",
            "Inside 003 folder\n",
            "Collected 30 images\n",
            "Inside 004 folder\n",
            "Collected 30 images\n",
            "Inside 005 folder\n",
            "Collected 30 images\n",
            "Inside 006 folder\n",
            "Collected 30 images\n",
            "==============Doing for angle 54==============\n",
            "Inside 001 folder\n",
            "Collected 30 images\n",
            "Inside 002 folder\n",
            "Collected 30 images\n",
            "Inside 003 folder\n",
            "Collected 30 images\n",
            "Inside 004 folder\n",
            "Collected 30 images\n",
            "Inside 005 folder\n",
            "Collected 30 images\n",
            "Inside 006 folder\n",
            "Collected 30 images\n",
            "==============Doing for angle 90==============\n",
            "Inside 001 folder\n",
            "Collected 30 images\n",
            "Inside 002 folder\n",
            "Collected 30 images\n",
            "Inside 003 folder\n",
            "Collected 30 images\n",
            "Inside 004 folder\n",
            "Collected 30 images\n",
            "Inside 005 folder\n",
            "Collected 30 images\n",
            "Inside 006 folder\n",
            "Collected 30 images\n"
          ],
          "name": "stdout"
        }
      ]
    },
    {
      "cell_type": "code",
      "metadata": {
        "colab": {
          "base_uri": "https://localhost:8080/"
        },
        "id": "Jg-1sf4XLFZ3",
        "outputId": "08627220-8d5c-43a4-8e3a-fc3836150472"
      },
      "source": [
        "angles = [0, 54, 90]\r\n",
        "for angle in angles:\r\n",
        "    angle_count = 0\r\n",
        "    labels = []\r\n",
        "    print(f\"==============Doing for angle {angle}==============\")\r\n",
        "    for class_ in range(1,7):\r\n",
        "        img_dir = os.listdir(os.path.join(paths[f'gei_{angle}'], 'val', f'00{class_}'))\r\n",
        "        print(f\"Inside 00{class_} folder\")\r\n",
        "        i = 0\r\n",
        "        for img in img_dir:\r\n",
        "            i+=1\r\n",
        "            curImg = cv2.imread(os.path.join(paths[f'gei_{angle}'], 'val', f'00{class_}', img))\r\n",
        "            curImg = cv2.cvtColor(curImg, cv2.COLOR_BGR2RGB)\r\n",
        "            curImg = cv2.resize(curImg, (224, 224))\r\n",
        "            val_features_label[f'{angle}_deg'].append(curImg)\r\n",
        "            test_features_label[f'{angle}_deg'].append(curImg)\r\n",
        "            \r\n",
        "            if (len(val_features_label['label']) < 60):\r\n",
        "              val_features_label['label'].append(class_)  \r\n",
        "              test_features_label['label'].append(class_)\r\n",
        "\r\n",
        "            if (i==10):\r\n",
        "                break\r\n",
        "\r\n",
        "        print(f\"Collected {i} images\")\r\n",
        "    angle_count += 1"
      ],
      "execution_count": null,
      "outputs": [
        {
          "output_type": "stream",
          "text": [
            "==============Doing for angle 0==============\n",
            "Inside 001 folder\n",
            "Collected 10 images\n",
            "Inside 002 folder\n",
            "Collected 10 images\n",
            "Inside 003 folder\n",
            "Collected 10 images\n",
            "Inside 004 folder\n",
            "Collected 10 images\n",
            "Inside 005 folder\n",
            "Collected 10 images\n",
            "Inside 006 folder\n",
            "Collected 10 images\n",
            "==============Doing for angle 54==============\n",
            "Inside 001 folder\n",
            "Collected 10 images\n",
            "Inside 002 folder\n",
            "Collected 10 images\n",
            "Inside 003 folder\n",
            "Collected 10 images\n",
            "Inside 004 folder\n",
            "Collected 10 images\n",
            "Inside 005 folder\n",
            "Collected 10 images\n",
            "Inside 006 folder\n",
            "Collected 10 images\n",
            "==============Doing for angle 90==============\n",
            "Inside 001 folder\n",
            "Collected 10 images\n",
            "Inside 002 folder\n",
            "Collected 10 images\n",
            "Inside 003 folder\n",
            "Collected 10 images\n",
            "Inside 004 folder\n",
            "Collected 10 images\n",
            "Inside 005 folder\n",
            "Collected 10 images\n",
            "Inside 006 folder\n",
            "Collected 10 images\n"
          ],
          "name": "stdout"
        }
      ]
    },
    {
      "cell_type": "code",
      "metadata": {
        "colab": {
          "base_uri": "https://localhost:8080/"
        },
        "id": "J3BhGB97UxYn",
        "outputId": "02f82e1e-30bb-4481-d717-530f8681722b"
      },
      "source": [
        "Counter(test_features_label['label'])"
      ],
      "execution_count": null,
      "outputs": [
        {
          "output_type": "execute_result",
          "data": {
            "text/plain": [
              "Counter({1: 10, 2: 10, 3: 10, 4: 10, 5: 10, 6: 10})"
            ]
          },
          "metadata": {
            "tags": []
          },
          "execution_count": 16
        }
      ]
    },
    {
      "cell_type": "code",
      "metadata": {
        "colab": {
          "base_uri": "https://localhost:8080/"
        },
        "id": "EZoMXVDRO0KF",
        "outputId": "259a0180-585c-4d1c-c722-3b18d3a2662a"
      },
      "source": [
        "len(train_features_label['label'])"
      ],
      "execution_count": null,
      "outputs": [
        {
          "output_type": "execute_result",
          "data": {
            "text/plain": [
              "180"
            ]
          },
          "metadata": {
            "tags": []
          },
          "execution_count": 17
        }
      ]
    },
    {
      "cell_type": "code",
      "metadata": {
        "colab": {
          "base_uri": "https://localhost:8080/"
        },
        "id": "9cF4tPxJWHZ8",
        "outputId": "d841f5a6-b909-4607-d244-088967f6857e"
      },
      "source": [
        "train_path = \"./Face_dataset//train\"\r\n",
        "test_path = \"./Face_dataset//test\"\r\n",
        "val_path = \"./Face_dataset//val\"\r\n",
        "\r\n",
        "print(\"============================ Inside Training folder ============================\")\r\n",
        "for class_ in sorted(os.listdir(train_path)):\r\n",
        "    img_count = 0\r\n",
        "    for img in os.listdir(os.path.join(train_path, class_)):\r\n",
        "        img_count += 1\r\n",
        "        curImg = cv2.imread(os.path.join(train_path, class_, img))\r\n",
        "        curImg  = cv2.cvtColor(curImg, cv2.COLOR_BGR2RGB)\r\n",
        "        curImg = cv2.resize(curImg, (100, 100))\r\n",
        "        train_features_label['trainface'].append(curImg)\r\n",
        "    print(f\"Collected {img_count} images from {class_} folder\")\r\n",
        "\r\n",
        "print()\r\n",
        "\r\n",
        "print(\"============================ Inside Validation folder ============================\")\r\n",
        "for class_ in sorted(os.listdir(val_path)):\r\n",
        "    img_count = 0\r\n",
        "    for img in os.listdir(os.path.join(val_path, class_)):\r\n",
        "        img_count += 1\r\n",
        "        curImg = cv2.imread(os.path.join(val_path, class_, img))\r\n",
        "        curImg  = cv2.cvtColor(curImg, cv2.COLOR_BGR2RGB)\r\n",
        "        curImg = cv2.resize(curImg, (100, 100))\r\n",
        "        val_features_label['valface'].append(curImg)\r\n",
        "    print(f\"Collected {img_count} images from {class_} folder\")\r\n",
        "\r\n",
        "print()\r\n",
        "\r\n",
        "print(\"============================ Inside Testing folder ============================\")\r\n",
        "for class_ in sorted(os.listdir(test_path)):\r\n",
        "    img_count = 0\r\n",
        "    for img in os.listdir(os.path.join(test_path, class_)):\r\n",
        "        img_count += 1\r\n",
        "        curImg = cv2.imread(os.path.join(test_path, class_, img))\r\n",
        "        curImg  = cv2.cvtColor(curImg, cv2.COLOR_BGR2RGB)\r\n",
        "        curImg = cv2.resize(curImg, (100, 100))\r\n",
        "        test_features_label['testface'].append(curImg)\r\n",
        "    print(f\"Collected {img_count} images from {class_} folder\")\r\n"
      ],
      "execution_count": null,
      "outputs": [
        {
          "output_type": "stream",
          "text": [
            "============================ Inside Training folder ============================\n",
            "Collected 30 images from Aayush folder\n",
            "Collected 30 images from Ajita folder\n",
            "Collected 30 images from Aradhana folder\n",
            "Collected 30 images from Ashish folder\n",
            "Collected 30 images from Komal folder\n",
            "Collected 30 images from Rudra folder\n",
            "\n",
            "============================ Inside Validation folder ============================\n",
            "Collected 10 images from Aayush folder\n",
            "Collected 10 images from Ajita folder\n",
            "Collected 10 images from Aradhana folder\n",
            "Collected 10 images from Ashish folder\n",
            "Collected 10 images from Komal folder\n",
            "Collected 10 images from Rudra folder\n",
            "\n",
            "============================ Inside Testing folder ============================\n",
            "Collected 10 images from Aayush folder\n",
            "Collected 10 images from Ajita folder\n",
            "Collected 10 images from Aradhana folder\n",
            "Collected 10 images from Ashish folder\n",
            "Collected 10 images from Komal folder\n",
            "Collected 10 images from Rudra folder\n"
          ],
          "name": "stdout"
        }
      ]
    },
    {
      "cell_type": "code",
      "metadata": {
        "id": "oNZmJ0TOQpLD"
      },
      "source": [
        "train_data = pd.DataFrame(train_features_label)\r\n",
        "val_data = pd.DataFrame(val_features_label)\r\n",
        "test_data = pd.DataFrame(test_features_label)"
      ],
      "execution_count": null,
      "outputs": []
    },
    {
      "cell_type": "code",
      "metadata": {
        "id": "y08X0WGdixEF"
      },
      "source": [
        "train_data['label'] = train_data['label'].apply(lambda x : x-1)\r\n",
        "val_data['label'] = val_data['label'].apply(lambda x : x-1)\r\n",
        "test_data['label'] = test_data['label'].apply(lambda x: x-1)"
      ],
      "execution_count": null,
      "outputs": []
    },
    {
      "cell_type": "code",
      "metadata": {
        "colab": {
          "base_uri": "https://localhost:8080/",
          "height": 186
        },
        "id": "LrKKxkFARUsG",
        "outputId": "06befd76-2d31-438f-9612-e6714f86dcc6"
      },
      "source": [
        "train_data.sample(3)"
      ],
      "execution_count": null,
      "outputs": [
        {
          "output_type": "execute_result",
          "data": {
            "text/html": [
              "<div>\n",
              "<style scoped>\n",
              "    .dataframe tbody tr th:only-of-type {\n",
              "        vertical-align: middle;\n",
              "    }\n",
              "\n",
              "    .dataframe tbody tr th {\n",
              "        vertical-align: top;\n",
              "    }\n",
              "\n",
              "    .dataframe thead th {\n",
              "        text-align: right;\n",
              "    }\n",
              "</style>\n",
              "<table border=\"1\" class=\"dataframe\">\n",
              "  <thead>\n",
              "    <tr style=\"text-align: right;\">\n",
              "      <th></th>\n",
              "      <th>trainface</th>\n",
              "      <th>0_deg</th>\n",
              "      <th>54_deg</th>\n",
              "      <th>90_deg</th>\n",
              "      <th>label</th>\n",
              "    </tr>\n",
              "  </thead>\n",
              "  <tbody>\n",
              "    <tr>\n",
              "      <th>17</th>\n",
              "      <td>[[[13, 218, 6], [33, 204, 22], [32, 201, 28], ...</td>\n",
              "      <td>[[[0, 0, 0], [0, 0, 0], [0, 0, 0], [0, 0, 0], ...</td>\n",
              "      <td>[[[0, 0, 0], [0, 0, 0], [0, 0, 0], [0, 0, 0], ...</td>\n",
              "      <td>[[[0, 0, 0], [0, 0, 0], [0, 0, 0], [0, 0, 0], ...</td>\n",
              "      <td>0</td>\n",
              "    </tr>\n",
              "    <tr>\n",
              "      <th>70</th>\n",
              "      <td>[[[144, 96, 112], [100, 56, 71], [79, 39, 54],...</td>\n",
              "      <td>[[[0, 0, 0], [0, 0, 0], [0, 0, 0], [0, 0, 0], ...</td>\n",
              "      <td>[[[0, 0, 0], [0, 0, 0], [0, 0, 0], [0, 0, 0], ...</td>\n",
              "      <td>[[[0, 0, 0], [0, 0, 0], [0, 0, 0], [0, 0, 0], ...</td>\n",
              "      <td>2</td>\n",
              "    </tr>\n",
              "    <tr>\n",
              "      <th>78</th>\n",
              "      <td>[[[146, 98, 114], [97, 52, 67], [75, 35, 49], ...</td>\n",
              "      <td>[[[0, 0, 0], [0, 0, 0], [0, 0, 0], [0, 0, 0], ...</td>\n",
              "      <td>[[[0, 0, 0], [0, 0, 0], [0, 0, 0], [0, 0, 0], ...</td>\n",
              "      <td>[[[0, 0, 0], [0, 0, 0], [0, 0, 0], [0, 0, 0], ...</td>\n",
              "      <td>2</td>\n",
              "    </tr>\n",
              "  </tbody>\n",
              "</table>\n",
              "</div>"
            ],
            "text/plain": [
              "                                            trainface  ... label\n",
              "17  [[[13, 218, 6], [33, 204, 22], [32, 201, 28], ...  ...     0\n",
              "70  [[[144, 96, 112], [100, 56, 71], [79, 39, 54],...  ...     2\n",
              "78  [[[146, 98, 114], [97, 52, 67], [75, 35, 49], ...  ...     2\n",
              "\n",
              "[3 rows x 5 columns]"
            ]
          },
          "metadata": {
            "tags": []
          },
          "execution_count": 21
        }
      ]
    },
    {
      "cell_type": "code",
      "metadata": {
        "colab": {
          "base_uri": "https://localhost:8080/",
          "height": 186
        },
        "id": "4XeYNRu4RXGH",
        "outputId": "ed779511-3c69-4594-bbe6-848d518f70fa"
      },
      "source": [
        "val_data.sample(3)"
      ],
      "execution_count": null,
      "outputs": [
        {
          "output_type": "execute_result",
          "data": {
            "text/html": [
              "<div>\n",
              "<style scoped>\n",
              "    .dataframe tbody tr th:only-of-type {\n",
              "        vertical-align: middle;\n",
              "    }\n",
              "\n",
              "    .dataframe tbody tr th {\n",
              "        vertical-align: top;\n",
              "    }\n",
              "\n",
              "    .dataframe thead th {\n",
              "        text-align: right;\n",
              "    }\n",
              "</style>\n",
              "<table border=\"1\" class=\"dataframe\">\n",
              "  <thead>\n",
              "    <tr style=\"text-align: right;\">\n",
              "      <th></th>\n",
              "      <th>valface</th>\n",
              "      <th>0_deg</th>\n",
              "      <th>54_deg</th>\n",
              "      <th>90_deg</th>\n",
              "      <th>label</th>\n",
              "    </tr>\n",
              "  </thead>\n",
              "  <tbody>\n",
              "    <tr>\n",
              "      <th>8</th>\n",
              "      <td>[[[11, 219, 4], [31, 204, 22], [35, 204, 30], ...</td>\n",
              "      <td>[[[0, 0, 0], [0, 0, 0], [0, 0, 0], [0, 0, 0], ...</td>\n",
              "      <td>[[[0, 0, 0], [0, 0, 0], [0, 0, 0], [0, 0, 0], ...</td>\n",
              "      <td>[[[0, 0, 0], [0, 0, 0], [0, 0, 0], [0, 0, 0], ...</td>\n",
              "      <td>0</td>\n",
              "    </tr>\n",
              "    <tr>\n",
              "      <th>26</th>\n",
              "      <td>[[[178, 101, 107], [178, 107, 112], [139, 79, ...</td>\n",
              "      <td>[[[0, 0, 0], [0, 0, 0], [0, 0, 0], [0, 0, 0], ...</td>\n",
              "      <td>[[[0, 0, 0], [0, 0, 0], [0, 0, 0], [0, 0, 0], ...</td>\n",
              "      <td>[[[0, 0, 0], [0, 0, 0], [0, 0, 0], [0, 0, 0], ...</td>\n",
              "      <td>2</td>\n",
              "    </tr>\n",
              "    <tr>\n",
              "      <th>12</th>\n",
              "      <td>[[[113, 241, 251], [115, 242, 253], [118, 241,...</td>\n",
              "      <td>[[[0, 0, 0], [0, 0, 0], [0, 0, 0], [0, 0, 0], ...</td>\n",
              "      <td>[[[0, 0, 0], [0, 0, 0], [0, 0, 0], [0, 0, 0], ...</td>\n",
              "      <td>[[[0, 0, 0], [0, 0, 0], [0, 0, 0], [0, 0, 0], ...</td>\n",
              "      <td>1</td>\n",
              "    </tr>\n",
              "  </tbody>\n",
              "</table>\n",
              "</div>"
            ],
            "text/plain": [
              "                                              valface  ... label\n",
              "8   [[[11, 219, 4], [31, 204, 22], [35, 204, 30], ...  ...     0\n",
              "26  [[[178, 101, 107], [178, 107, 112], [139, 79, ...  ...     2\n",
              "12  [[[113, 241, 251], [115, 242, 253], [118, 241,...  ...     1\n",
              "\n",
              "[3 rows x 5 columns]"
            ]
          },
          "metadata": {
            "tags": []
          },
          "execution_count": 22
        }
      ]
    },
    {
      "cell_type": "code",
      "metadata": {
        "colab": {
          "base_uri": "https://localhost:8080/",
          "height": 186
        },
        "id": "LzefMZSLR8ik",
        "outputId": "0156ad14-8bd9-4cff-a769-09c80b8f70b4"
      },
      "source": [
        "test_data.sample(3)"
      ],
      "execution_count": null,
      "outputs": [
        {
          "output_type": "execute_result",
          "data": {
            "text/html": [
              "<div>\n",
              "<style scoped>\n",
              "    .dataframe tbody tr th:only-of-type {\n",
              "        vertical-align: middle;\n",
              "    }\n",
              "\n",
              "    .dataframe tbody tr th {\n",
              "        vertical-align: top;\n",
              "    }\n",
              "\n",
              "    .dataframe thead th {\n",
              "        text-align: right;\n",
              "    }\n",
              "</style>\n",
              "<table border=\"1\" class=\"dataframe\">\n",
              "  <thead>\n",
              "    <tr style=\"text-align: right;\">\n",
              "      <th></th>\n",
              "      <th>testface</th>\n",
              "      <th>0_deg</th>\n",
              "      <th>54_deg</th>\n",
              "      <th>90_deg</th>\n",
              "      <th>label</th>\n",
              "    </tr>\n",
              "  </thead>\n",
              "  <tbody>\n",
              "    <tr>\n",
              "      <th>51</th>\n",
              "      <td>[[[39, 24, 27], [40, 25, 28], [44, 26, 30], [5...</td>\n",
              "      <td>[[[0, 0, 0], [0, 0, 0], [0, 0, 0], [0, 0, 0], ...</td>\n",
              "      <td>[[[0, 0, 0], [0, 0, 0], [0, 0, 0], [0, 0, 0], ...</td>\n",
              "      <td>[[[0, 0, 0], [0, 0, 0], [0, 0, 0], [0, 0, 0], ...</td>\n",
              "      <td>5</td>\n",
              "    </tr>\n",
              "    <tr>\n",
              "      <th>46</th>\n",
              "      <td>[[[9, 220, 0], [13, 217, 8], [16, 213, 15], [1...</td>\n",
              "      <td>[[[0, 0, 0], [0, 0, 0], [0, 0, 0], [0, 0, 0], ...</td>\n",
              "      <td>[[[0, 0, 0], [0, 0, 0], [0, 0, 0], [0, 0, 0], ...</td>\n",
              "      <td>[[[0, 0, 0], [0, 0, 0], [0, 0, 0], [0, 0, 0], ...</td>\n",
              "      <td>4</td>\n",
              "    </tr>\n",
              "    <tr>\n",
              "      <th>16</th>\n",
              "      <td>[[[123, 241, 253], [122, 235, 246], [121, 225,...</td>\n",
              "      <td>[[[0, 0, 0], [0, 0, 0], [0, 0, 0], [0, 0, 0], ...</td>\n",
              "      <td>[[[0, 0, 0], [0, 0, 0], [0, 0, 0], [0, 0, 0], ...</td>\n",
              "      <td>[[[0, 0, 0], [0, 0, 0], [0, 0, 0], [0, 0, 0], ...</td>\n",
              "      <td>1</td>\n",
              "    </tr>\n",
              "  </tbody>\n",
              "</table>\n",
              "</div>"
            ],
            "text/plain": [
              "                                             testface  ... label\n",
              "51  [[[39, 24, 27], [40, 25, 28], [44, 26, 30], [5...  ...     5\n",
              "46  [[[9, 220, 0], [13, 217, 8], [16, 213, 15], [1...  ...     4\n",
              "16  [[[123, 241, 253], [122, 235, 246], [121, 225,...  ...     1\n",
              "\n",
              "[3 rows x 5 columns]"
            ]
          },
          "metadata": {
            "tags": []
          },
          "execution_count": 23
        }
      ]
    },
    {
      "cell_type": "code",
      "metadata": {
        "colab": {
          "base_uri": "https://localhost:8080/"
        },
        "id": "m2zbIYGnSpas",
        "outputId": "3c1c1c4f-f915-4410-8cd2-b31724d2393d"
      },
      "source": [
        "test_data.info()"
      ],
      "execution_count": null,
      "outputs": [
        {
          "output_type": "stream",
          "text": [
            "<class 'pandas.core.frame.DataFrame'>\n",
            "RangeIndex: 60 entries, 0 to 59\n",
            "Data columns (total 5 columns):\n",
            " #   Column    Non-Null Count  Dtype \n",
            "---  ------    --------------  ----- \n",
            " 0   testface  60 non-null     object\n",
            " 1   0_deg     60 non-null     object\n",
            " 2   54_deg    60 non-null     object\n",
            " 3   90_deg    60 non-null     object\n",
            " 4   label     60 non-null     int64 \n",
            "dtypes: int64(1), object(4)\n",
            "memory usage: 2.5+ KB\n"
          ],
          "name": "stdout"
        }
      ]
    },
    {
      "cell_type": "code",
      "metadata": {
        "colab": {
          "base_uri": "https://localhost:8080/"
        },
        "id": "AnneTsCmSs6F",
        "outputId": "b2e43d94-83dd-4acf-db7e-813fda51c785"
      },
      "source": [
        "val_data.info()"
      ],
      "execution_count": null,
      "outputs": [
        {
          "output_type": "stream",
          "text": [
            "<class 'pandas.core.frame.DataFrame'>\n",
            "RangeIndex: 60 entries, 0 to 59\n",
            "Data columns (total 5 columns):\n",
            " #   Column   Non-Null Count  Dtype \n",
            "---  ------   --------------  ----- \n",
            " 0   valface  60 non-null     object\n",
            " 1   0_deg    60 non-null     object\n",
            " 2   54_deg   60 non-null     object\n",
            " 3   90_deg   60 non-null     object\n",
            " 4   label    60 non-null     int64 \n",
            "dtypes: int64(1), object(4)\n",
            "memory usage: 2.5+ KB\n"
          ],
          "name": "stdout"
        }
      ]
    },
    {
      "cell_type": "code",
      "metadata": {
        "colab": {
          "base_uri": "https://localhost:8080/"
        },
        "id": "MQdGVlh0SvHN",
        "outputId": "7af2533b-8f23-4feb-fe59-966c2144c058"
      },
      "source": [
        "train_data.info()"
      ],
      "execution_count": null,
      "outputs": [
        {
          "output_type": "stream",
          "text": [
            "<class 'pandas.core.frame.DataFrame'>\n",
            "RangeIndex: 180 entries, 0 to 179\n",
            "Data columns (total 5 columns):\n",
            " #   Column     Non-Null Count  Dtype \n",
            "---  ------     --------------  ----- \n",
            " 0   trainface  180 non-null    object\n",
            " 1   0_deg      180 non-null    object\n",
            " 2   54_deg     180 non-null    object\n",
            " 3   90_deg     180 non-null    object\n",
            " 4   label      180 non-null    int64 \n",
            "dtypes: int64(1), object(4)\n",
            "memory usage: 7.2+ KB\n"
          ],
          "name": "stdout"
        }
      ]
    },
    {
      "cell_type": "code",
      "metadata": {
        "id": "1ArUofK6R1Sn"
      },
      "source": [
        "class_enc = {0:'Aayush', 1:'Ajita', 2:'Aradhana', 3:'Ashish', 4:'Komal', 5:'Rudra'}\r\n",
        "train_data[\"class_name\"] = train_data['label'].apply(lambda x: class_enc[x])\r\n",
        "val_data[\"class_name\"] = val_data['label'].apply(lambda x: class_enc[x])\r\n",
        "test_data['class_name'] = test_data['label'].apply(lambda x : class_enc[x])"
      ],
      "execution_count": null,
      "outputs": []
    },
    {
      "cell_type": "code",
      "metadata": {
        "colab": {
          "base_uri": "https://localhost:8080/",
          "height": 285
        },
        "id": "zr8U28vREZRN",
        "outputId": "b7845232-fb69-46b3-a7e8-f02f6f1c83e6"
      },
      "source": [
        "plt.imshow(test_data[\"90_deg\"][0])"
      ],
      "execution_count": null,
      "outputs": [
        {
          "output_type": "execute_result",
          "data": {
            "text/plain": [
              "<matplotlib.image.AxesImage at 0x7fb29675eb90>"
            ]
          },
          "metadata": {
            "tags": []
          },
          "execution_count": 25
        },
        {
          "output_type": "display_data",
          "data": {
            "image/png": "[encoded data removed]",
            "text/plain": [
              "<Figure size 432x288 with 1 Axes>"
            ]
          },
          "metadata": {
            "tags": [],
            "needs_background": "light"
          }
        }
      ]
    },
    {
      "cell_type": "code",
      "metadata": {
        "colab": {
          "base_uri": "https://localhost:8080/",
          "height": 262
        },
        "id": "Bf5V-isu-Hua",
        "outputId": "57b7ef23-ecd1-4983-f24d-eee583724fdf"
      },
      "source": [
        "num = np.random.randint(len(val_data))\r\n",
        "plt.figure(figsize = (25, 12))\r\n",
        "plt.subplot(1, 5, 1)\r\n",
        "plt.ylabel(val_data['class_name'][num])\r\n",
        "plt.title('val')\r\n",
        "plt.imshow(val_data['valface'][num])\r\n",
        "plt.subplot(1, 5, 2)\r\n",
        "plt.title(test_data['class_name'][num])\r\n",
        "plt.title('test')\r\n",
        "plt.imshow(test_data['testface'][num])\r\n",
        "plt.subplot(1, 5, 3)\r\n",
        "plt.title(test_data['class_name'][num])\r\n",
        "plt.title('0_deg')\r\n",
        "plt.imshow(test_data['0_deg'][num])\r\n",
        "plt.subplot(1, 5, 4)\r\n",
        "plt.title(test_data['class_name'][num])\r\n",
        "plt.title('54_deg')\r\n",
        "plt.imshow(test_data['54_deg'][num])\r\n",
        "plt.subplot(1, 5, 5)\r\n",
        "plt.title(test_data['class_name'][num])\r\n",
        "plt.title('90_deg')\r\n",
        "plt.imshow(test_data['90_deg'][num])\r\n",
        "\r\n",
        "plt.show();"
      ],
      "execution_count": null,
      "outputs": [
        {
          "output_type": "display_data",
          "data": {
            "image/png": "[encoded data removed]",
            "text/plain": [
              "<Figure size 1800x864 with 5 Axes>"
            ]
          },
          "metadata": {
            "tags": [],
            "needs_background": "light"
          }
        }
      ]
    },
    {
      "cell_type": "markdown",
      "metadata": {
        "id": "YGSahdtbUiwG"
      },
      "source": [
        "# Saving the data inside Drive"
      ]
    },
    {
      "cell_type": "code",
      "metadata": {
        "id": "SFNC5xn9Ud-K"
      },
      "source": [
        "if not os.path.exists(\".//drive//MyDrive//FaceGeiCombo_0_54_90\"):\r\n",
        "    os.mkdir(\".//drive//MyDrive//FaceGeiCombo_0_54_90\")\r\n",
        "    train_data.to_csv(\".//drive//MyDrive//FaceGeiCombo_0_54_90//train_gei_combo.csv\", index=False)\r\n",
        "    val_data.to_csv(\".//drive//MyDrive//FaceGeiCombo_0_54_90//val_gei_combo.csv\", index=False)\r\n",
        "    test_data.to_csv(\".//drive//MyDrive//FaceGeiCombo_0_54_90//test_gei_combo.csv\", index = False)"
      ],
      "execution_count": null,
      "outputs": []
    },
    {
      "cell_type": "code",
      "metadata": {
        "colab": {
          "base_uri": "https://localhost:8080/"
        },
        "id": "4aYFfYibX70U",
        "outputId": "0e6a47a8-455f-404d-8f40-0a5be22bd4ef"
      },
      "source": [
        "!ls -lh .//drive//MyDrive//FaceGeiCombo_0_54_90"
      ],
      "execution_count": null,
      "outputs": [
        {
          "output_type": "stream",
          "text": [
            "total 555K\n",
            "-rw------- 1 root root 111K Feb 22 15:19 test_gei_combo.csv\n",
            "-rw------- 1 root root 333K Feb 22 15:19 train_gei_combo.csv\n",
            "-rw------- 1 root root 111K Feb 22 15:19 val_gei_combo.csv\n"
          ],
          "name": "stdout"
        }
      ]
    },
    {
      "cell_type": "markdown",
      "metadata": {
        "id": "buEFsVppPR3x"
      },
      "source": [
        "# Fusion Approaches"
      ]
    },
    {
      "cell_type": "markdown",
      "metadata": {
        "id": "Hss_nC-BQvy9"
      },
      "source": [
        "## 1. NN models as feature extractors"
      ]
    },
    {
      "cell_type": "code",
      "metadata": {
        "id": "ClXsmxOSVhYX"
      },
      "source": [
        "train_vgg16_0_vecs = []; val_vgg16_0_vecs = []; test_vgg16_0_vecs = []\r\n",
        "train_resnet50_0_vecs = []; val_resnet50_0_vecs = []; test_resnet50_0_vecs = []\r\n",
        "train_vgg16Pretrained_0_vecs = []; val_vgg16Pretrained_0_vecs = []; test_vgg16Pretrained_0_vecs = []\r\n",
        "train_resnet50Pretrained_0_vecs = []; val_resnet50Pretrained_0_vecs = []; test_resnet50Pretrained_0_vecs = [] \r\n",
        "\r\n",
        "train_vgg16_54_vecs = []; val_vgg16_54_vecs = []; test_vgg16_54_vecs = []\r\n",
        "train_resnet50_54_vecs = []; val_resnet50_54_vecs = []; test_resnet50_54_vecs = []\r\n",
        "train_vgg16Pretrained_54_vecs = []; val_vgg16Pretrained_54_vecs = []; test_vgg16Pretrained_54_vecs = []\r\n",
        "train_resnet50Pretrained_54_vecs = []; val_resnet50Pretrained_54_vecs = []; test_resnet50Pretrained_54_vecs = [] \r\n",
        "\r\n",
        "train_vgg16_90_vecs = []; val_vgg16_90_vecs = []; test_vgg16_90_vecs = []\r\n",
        "train_resnet50_90_vecs = []; val_resnet50_90_vecs = []; test_resnet50_90_vecs = []\r\n",
        "train_vgg16Pretrained_90_vecs = []; val_vgg16Pretrained_90_vecs = []; test_vgg16Pretrained_90_vecs = []\r\n",
        "train_resnet50Pretrained_90_vecs = []; val_resnet50Pretrained_90_vecs = []; test_resnet50Pretrained_90_vecs = [] "
      ],
      "execution_count": null,
      "outputs": []
    },
    {
      "cell_type": "code",
      "metadata": {
        "colab": {
          "base_uri": "https://localhost:8080/"
        },
        "id": "dFF0R40oPi6G",
        "outputId": "0ce87521-d73d-4f2b-d85a-99d2d9cf1c7d"
      },
      "source": [
        "test_data.shape"
      ],
      "execution_count": null,
      "outputs": [
        {
          "output_type": "execute_result",
          "data": {
            "text/plain": [
              "(60, 6)"
            ]
          },
          "metadata": {
            "tags": []
          },
          "execution_count": 28
        }
      ]
    },
    {
      "cell_type": "code",
      "metadata": {
        "colab": {
          "base_uri": "https://localhost:8080/"
        },
        "id": "Efw-fnEpP6pw",
        "outputId": "efad4a25-9a48-483a-e12e-f83aadb32c4c"
      },
      "source": [
        "train_data.shape"
      ],
      "execution_count": null,
      "outputs": [
        {
          "output_type": "execute_result",
          "data": {
            "text/plain": [
              "(180, 6)"
            ]
          },
          "metadata": {
            "tags": []
          },
          "execution_count": 29
        }
      ]
    },
    {
      "cell_type": "code",
      "metadata": {
        "colab": {
          "base_uri": "https://localhost:8080/"
        },
        "id": "trIS0gBEVpzd",
        "outputId": "17280fd6-06a3-4904-fdb9-dfb4a9822af9"
      },
      "source": [
        "val_data.shape"
      ],
      "execution_count": null,
      "outputs": [
        {
          "output_type": "execute_result",
          "data": {
            "text/plain": [
              "(60, 6)"
            ]
          },
          "metadata": {
            "tags": []
          },
          "execution_count": 30
        }
      ]
    },
    {
      "cell_type": "code",
      "metadata": {
        "colab": {
          "base_uri": "https://localhost:8080/"
        },
        "id": "TH_q8uDNQke9",
        "outputId": "f2f330a8-0f01-46be-9c50-e6e05d987ff0"
      },
      "source": [
        "# Using encoder to get the face emeddings\r\n",
        "trainface_encoder_vecs = []; valface_encoder_vecs = []; testface_encoder_vecs = []\r\n",
        "\r\n",
        "for face in tqdm(train_features_label['trainface']):\r\n",
        "  fc = cv2.resize(face, (128, 128))\r\n",
        "  fc = np.array([fc])\r\n",
        "  _, _, z = encoder.predict(fc)\r\n",
        "  trainface_encoder_vecs.append(z[0])\r\n",
        "\r\n",
        "for face in tqdm(val_features_label['valface']):\r\n",
        "  fc = cv2.resize(face, (128, 128))\r\n",
        "  fc = np.array([fc])\r\n",
        "  _, _, z = encoder.predict(fc)\r\n",
        "  valface_encoder_vecs.append(z[0])\r\n",
        "\r\n",
        "for face in tqdm(list(test_features_label['testface'])):\r\n",
        "  fc = cv2.resize(face, (128, 128))\r\n",
        "  fc = np.array([fc])\r\n",
        "  _, _, z = encoder.predict(fc)\r\n",
        "  testface_encoder_vecs.append(z[0])\r\n",
        "  "
      ],
      "execution_count": null,
      "outputs": [
        {
          "output_type": "stream",
          "text": [
            "100%|██████████| 180/180 [00:12<00:00, 14.47it/s]\n",
            "100%|██████████| 60/60 [00:01<00:00, 31.36it/s]\n",
            "100%|██████████| 60/60 [00:01<00:00, 31.81it/s]\n"
          ],
          "name": "stderr"
        }
      ]
    },
    {
      "cell_type": "code",
      "metadata": {
        "colab": {
          "base_uri": "https://localhost:8080/"
        },
        "id": "k2-ksXwD5lfT",
        "outputId": "a3b2cb10-c99b-4d2a-8a1f-6ac5adebdb60"
      },
      "source": [
        "# Using resnet50 (trained from scratch) as feat extractor\r\n",
        "\r\n",
        "# train\r\n",
        "for img in tqdm(list(train_features_label['0_deg'])):\r\n",
        "  gei_img = np.array([img])\r\n",
        "  feat = cus_resnet50_0.predict(gei_img)\r\n",
        "  train_resnet50_0_vecs.append(feat[0])\r\n",
        "\r\n",
        "for img in tqdm(list(train_features_label['54_deg'])):\r\n",
        "  gei_img = np.array([img])\r\n",
        "  feat = cus_resnet50_54.predict(gei_img)\r\n",
        "  train_resnet50_54_vecs.append(feat[0])\r\n",
        "\r\n",
        "for img in tqdm(list(train_features_label['90_deg'])):\r\n",
        "  gei_img = np.array([img])\r\n",
        "  feat = cus_resnet50_90.predict(gei_img)\r\n",
        "  train_resnet50_90_vecs.append(feat[0])  \r\n",
        "\r\n",
        "# val & test\r\n",
        "for img in tqdm(list(val_features_label['0_deg'])):\r\n",
        "  gei_img = np.array([img])\r\n",
        "  feat = cus_resnet50_0.predict(gei_img)\r\n",
        "  val_resnet50_0_vecs.append(feat[0])\r\n",
        "  test_resnet50_0_vecs.append(feat[0])\r\n",
        "\r\n",
        "for img in tqdm(list(val_features_label['54_deg'])):\r\n",
        "  gei_img = np.array([img])\r\n",
        "  feat = cus_resnet50_54.predict(gei_img)\r\n",
        "  val_resnet50_54_vecs.append(feat[0])\r\n",
        "  test_resnet50_54_vecs.append(feat[0])\r\n",
        "\r\n",
        "for img in tqdm(list(val_features_label['90_deg'])):\r\n",
        "  gei_img = np.array([img])\r\n",
        "  feat = cus_resnet50_90.predict(gei_img)\r\n",
        "  val_resnet50_90_vecs.append(feat[0]) \r\n",
        "  test_resnet50_90_vecs.append(feat[0])\r\n"
      ],
      "execution_count": null,
      "outputs": [
        {
          "output_type": "stream",
          "text": [
            "100%|██████████| 180/180 [00:08<00:00, 20.06it/s]\n",
            "100%|██████████| 180/180 [00:08<00:00, 20.64it/s]\n",
            "100%|██████████| 180/180 [00:09<00:00, 19.99it/s]\n",
            "100%|██████████| 60/60 [00:02<00:00, 22.38it/s]\n",
            "100%|██████████| 60/60 [00:02<00:00, 22.19it/s]\n",
            "100%|██████████| 60/60 [00:02<00:00, 22.50it/s]\n"
          ],
          "name": "stderr"
        }
      ]
    },
    {
      "cell_type": "code",
      "metadata": {
        "colab": {
          "base_uri": "https://localhost:8080/"
        },
        "id": "4s_8XnbXQkbP",
        "outputId": "39dda8fb-bca9-470c-cb54-4ec783a8c491"
      },
      "source": [
        "# Using Vgg16 (trained from scratch) as feat extractor\r\n",
        "\r\n",
        "# train\r\n",
        "for img in tqdm(list(train_features_label['0_deg'])):\r\n",
        "  gei_img = np.array([img])\r\n",
        "  feat = cus_vgg16_0.predict(gei_img)\r\n",
        "  train_vgg16_0_vecs.append(feat[0])\r\n",
        "\r\n",
        "for img in tqdm(list(train_features_label['54_deg'])):\r\n",
        "  gei_img = np.array([img])\r\n",
        "  feat = cus_vgg16_54.predict(gei_img)\r\n",
        "  train_vgg16_54_vecs.append(feat[0])\r\n",
        "\r\n",
        "for img in tqdm(list(train_features_label['90_deg'])):\r\n",
        "  gei_img = np.array([img])\r\n",
        "  feat = cus_vgg16_90.predict(gei_img)\r\n",
        "  train_vgg16_90_vecs.append(feat[0])  \r\n",
        "\r\n",
        "# val & test\r\n",
        "for img in tqdm(list(val_features_label['0_deg'])):\r\n",
        "  gei_img = np.array([img])\r\n",
        "  feat = cus_vgg16_0.predict(gei_img)\r\n",
        "  val_vgg16_0_vecs.append(feat[0])\r\n",
        "  test_vgg16_0_vecs.append(feat[0])\r\n",
        "\r\n",
        "for img in tqdm(list(val_features_label['54_deg'])):\r\n",
        "  gei_img = np.array([img])\r\n",
        "  feat = cus_vgg16_54.predict(gei_img)\r\n",
        "  val_vgg16_54_vecs.append(feat[0])\r\n",
        "  test_vgg16_54_vecs.append(feat[0])\r\n",
        "\r\n",
        "for img in tqdm(list(val_features_label['90_deg'])):\r\n",
        "  gei_img = np.array([img])\r\n",
        "  feat = cus_vgg16_90.predict(gei_img)\r\n",
        "  val_vgg16_90_vecs.append(feat[0]) \r\n",
        "  test_vgg16_90_vecs.append(feat[0])\r\n"
      ],
      "execution_count": null,
      "outputs": [
        {
          "output_type": "stream",
          "text": [
            "100%|██████████| 180/180 [00:07<00:00, 23.27it/s]\n",
            "100%|██████████| 180/180 [00:07<00:00, 23.47it/s]\n",
            "100%|██████████| 180/180 [00:07<00:00, 23.32it/s]\n",
            "100%|██████████| 60/60 [00:02<00:00, 21.47it/s]\n",
            "100%|██████████| 60/60 [00:02<00:00, 23.14it/s]\n",
            "100%|██████████| 60/60 [00:02<00:00, 22.95it/s]\n"
          ],
          "name": "stderr"
        }
      ]
    },
    {
      "cell_type": "code",
      "metadata": {
        "id": "zBNkKSU-A-jC"
      },
      "source": [
        "# Face - train, val, test\r\n",
        "trainface_encoder_vecs = np.array(trainface_encoder_vecs)\r\n",
        "valface_encoder_vecs = np.array(valface_encoder_vecs)\r\n",
        "testface_encoder_vecs = np.array(testface_encoder_vecs)\r\n",
        "\r\n",
        "# Gait - train, val, test\r\n",
        "train_vgg16_0_vecs = np.array(train_vgg16_0_vecs)\r\n",
        "train_vgg16_54_vecs = np.array(train_vgg16_54_vecs)\r\n",
        "train_vgg16_90_vecs = np.array(train_vgg16_90_vecs)\r\n",
        "\r\n",
        "train_resnet50_0_vecs = np.array(train_resnet50_0_vecs)\r\n",
        "train_resnet50_54_vecs = np.array(train_resnet50_54_vecs)\r\n",
        "train_resnet50_90_vecs = np.array(train_resnet50_90_vecs)\r\n",
        "\r\n",
        "val_vgg16_0_vecs = np.array(val_vgg16_0_vecs)\r\n",
        "val_vgg16_54_vecs = np.array(val_vgg16_54_vecs)\r\n",
        "val_vgg16_90_vecs = np.array(val_vgg16_90_vecs)\r\n",
        "\r\n",
        "val_resnet50_0_vecs = np.array(val_resnet50_0_vecs)\r\n",
        "val_resnet50_54_vecs = np.array(val_resnet50_54_vecs)\r\n",
        "val_resnet50_90_vecs = np.array(val_resnet50_90_vecs)\r\n",
        "\r\n",
        "\r\n",
        "test_vgg16_0_vecs = np.array(test_vgg16_0_vecs)\r\n",
        "test_vgg16_54_vecs = np.array(test_vgg16_54_vecs)\r\n",
        "test_vgg16_90_vecs = np.array(test_vgg16_90_vecs)\r\n",
        "\r\n",
        "test_resnet50_0_vecs = np.array(test_resnet50_0_vecs)\r\n",
        "test_resnet50_54_vecs = np.array(test_resnet50_54_vecs)\r\n",
        "test_resnet50_90_vecs = np.array(test_resnet50_90_vecs)"
      ],
      "execution_count": null,
      "outputs": []
    },
    {
      "cell_type": "code",
      "metadata": {
        "id": "89aCcQTgjiAI"
      },
      "source": [
        "train_y = train_data['label'].values.astype('float32')\r\n",
        "test_y = test_data['label'].values.astype('float32')"
      ],
      "execution_count": null,
      "outputs": []
    },
    {
      "cell_type": "code",
      "metadata": {
        "colab": {
          "base_uri": "https://localhost:8080/"
        },
        "id": "6awVg00tkBH0",
        "outputId": "06969bc3-81b2-4f98-c85d-df5144e80057"
      },
      "source": [
        "train_y.dtype"
      ],
      "execution_count": null,
      "outputs": [
        {
          "output_type": "execute_result",
          "data": {
            "text/plain": [
              "dtype('float32')"
            ]
          },
          "metadata": {
            "tags": []
          },
          "execution_count": 36
        }
      ]
    },
    {
      "cell_type": "markdown",
      "metadata": {
        "id": "SWpgOxjyXyd5"
      },
      "source": [
        "### VAE + ResNet "
      ]
    },
    {
      "cell_type": "markdown",
      "metadata": {
        "id": "gW3tea-0Awdz"
      },
      "source": [
        "#### 1. Averaging all gait features"
      ]
    },
    {
      "cell_type": "code",
      "metadata": {
        "id": "INojUmudVWk8",
        "colab": {
          "base_uri": "https://localhost:8080/"
        },
        "outputId": "c4445171-df5f-48f9-8939-4d0238707480"
      },
      "source": [
        "train_vgg16_0_vecs.shape"
      ],
      "execution_count": null,
      "outputs": [
        {
          "output_type": "execute_result",
          "data": {
            "text/plain": [
              "(180, 128)"
            ]
          },
          "metadata": {
            "tags": []
          },
          "execution_count": 38
        }
      ]
    },
    {
      "cell_type": "code",
      "metadata": {
        "colab": {
          "base_uri": "https://localhost:8080/"
        },
        "id": "a2qbboT0DX50",
        "outputId": "8dfad550-5cd9-418b-8e7a-aa0af7f71fad"
      },
      "source": [
        "train_vgg16_54_vecs[0]"
      ],
      "execution_count": null,
      "outputs": [
        {
          "output_type": "execute_result",
          "data": {
            "text/plain": [
              "array([ 0.       ,  0.       ,  0.       ,  0.       ,  0.       ,\n",
              "        0.       ,  0.       ,  0.       ,  0.       ,  0.       ,\n",
              "        0.       ,  0.       ,  0.       ,  0.       ,  0.       ,\n",
              "        0.       ,  7.675671 ,  0.       ,  0.       ,  0.       ,\n",
              "        0.       ,  0.       ,  0.       ,  0.       ,  0.       ,\n",
              "        0.       ,  0.       ,  0.       ,  0.       ,  0.       ,\n",
              "        0.       , 16.315947 ,  0.       ,  0.       ,  0.       ,\n",
              "        0.       ,  0.       ,  0.       ,  0.       ,  0.       ,\n",
              "        0.       ,  0.       ,  0.       ,  0.       ,  0.       ,\n",
              "        0.       ,  0.       ,  0.       ,  0.       ,  0.       ,\n",
              "        0.       ,  0.       ,  0.       ,  0.       ,  5.8485217,\n",
              "        0.       ,  0.       , 23.488247 ,  0.       ,  0.       ,\n",
              "        0.       ,  0.       ,  0.       ,  0.       ,  0.       ,\n",
              "        0.       ,  0.       ,  0.       ,  0.       ,  0.       ,\n",
              "        0.       ,  0.       ,  0.       ,  0.       ,  0.       ,\n",
              "        0.       ,  0.       ,  0.       ,  0.       ,  0.       ,\n",
              "       34.349667 ,  0.       ,  0.       ,  0.       ,  0.       ,\n",
              "        0.       ,  0.       ,  0.       ,  0.       ,  0.       ,\n",
              "        0.       ,  0.       ,  0.       ,  0.       ,  0.       ,\n",
              "        0.       ,  0.       ,  0.       ,  0.       ,  0.       ,\n",
              "        0.       ,  0.       ,  3.0367835,  0.       ,  0.       ,\n",
              "        0.       , 13.094772 ,  0.       ,  0.       ,  0.       ,\n",
              "        0.       ,  0.       ,  0.       ,  0.       ,  0.       ,\n",
              "        0.       ,  0.       ,  0.       ,  0.       ,  0.       ,\n",
              "       17.652977 ,  0.       ,  0.       ,  0.       ,  0.       ,\n",
              "        0.       ,  0.       ,  0.       ], dtype=float32)"
            ]
          },
          "metadata": {
            "tags": []
          },
          "execution_count": 39
        }
      ]
    },
    {
      "cell_type": "code",
      "metadata": {
        "id": "AT07nRsaCqq8"
      },
      "source": [
        "# Taking the mean of 3 gait features\r\n",
        "train_resnet50_gait_avgFeatures = np.divide(np.add(train_resnet50_0_vecs, np.add(train_resnet50_54_vecs, train_resnet50_90_vecs)), 3)\r\n",
        "val_resnet50_gait_avgFeatures = np.divide(np.add(val_resnet50_0_vecs, np.add(val_resnet50_54_vecs, val_resnet50_90_vecs)), 3)\r\n",
        "test_resnet50_gait_avgFeatures = np.divide(np.add(test_resnet50_0_vecs, np.add(test_resnet50_54_vecs, test_resnet50_90_vecs)), 3)\r\n",
        "\r\n",
        "train_avg_resnet50_vae_ff = np.hstack([trainface_encoder_vecs, train_resnet50_gait_avgFeatures])\r\n",
        "val_avg_resnet50_vae_ff = np.hstack([valface_encoder_vecs, val_resnet50_gait_avgFeatures])\r\n",
        "test_avg_resnet50_vae_ff = np.hstack([testface_encoder_vecs, test_resnet50_gait_avgFeatures])"
      ],
      "execution_count": null,
      "outputs": []
    },
    {
      "cell_type": "code",
      "metadata": {
        "colab": {
          "base_uri": "https://localhost:8080/"
        },
        "id": "2KXYg-37kjms",
        "outputId": "1e93d2b6-b121-416f-a2e7-abf038ba9fe3"
      },
      "source": [
        "train_avg_resnet50_vae_ff.shape"
      ],
      "execution_count": null,
      "outputs": [
        {
          "output_type": "execute_result",
          "data": {
            "text/plain": [
              "(180, 256)"
            ]
          },
          "metadata": {
            "tags": []
          },
          "execution_count": 41
        }
      ]
    },
    {
      "cell_type": "code",
      "metadata": {
        "id": "pFIGcCVIj5En"
      },
      "source": [
        "train_avg_resnet50_vae_ff = pd.DataFrame(train_avg_resnet50_vae_ff)\r\n",
        "val_avg_resnet50_vae_ff = pd.DataFrame(val_avg_resnet50_vae_ff)\r\n",
        "test_avg_resnet50_vae_ff = pd.DataFrame(test_avg_resnet50_vae_ff)"
      ],
      "execution_count": null,
      "outputs": []
    },
    {
      "cell_type": "code",
      "metadata": {
        "id": "B04aSQAgsGzn"
      },
      "source": [
        "train_avg_resnet50_vae_ff.replace([np.inf, np.nan, -np.inf], 0, inplace = True)\r\n",
        "val_avg_resnet50_vae_ff.replace([np.inf, np.nan, -np.inf], 0, inplace = True)\r\n",
        "test_avg_resnet50_vae_ff.replace([np.inf, np.nan, -np.inf], 0, inplace = True)"
      ],
      "execution_count": null,
      "outputs": []
    },
    {
      "cell_type": "code",
      "metadata": {
        "id": "t6fnu37tYyvr"
      },
      "source": [
        "from sklearn.metrics import *"
      ],
      "execution_count": null,
      "outputs": []
    },
    {
      "cell_type": "markdown",
      "metadata": {
        "id": "g49MeBC-6WRJ"
      },
      "source": [
        "#### Only Face"
      ]
    },
    {
      "cell_type": "code",
      "metadata": {
        "id": "Pw64RS8t7dLl"
      },
      "source": [
        "face_train = trainface_encoder_vecs\r\n",
        "face_val = valface_encoder_vecs\r\n",
        "face_test = testface_encoder_vecs\r\n",
        "\r\n",
        "face_train = pd.DataFrame(face_train)\r\n",
        "face_val = pd.DataFrame(face_val)\r\n",
        "face_test = pd.DataFrame(face_test)\r\n",
        "\r\n",
        "face_train.replace([np.inf, np.nan, -np.inf], 0, inplace = True)\r\n",
        "face_val.replace([np.inf, np.nan, -np.inf], 0, inplace = True)\r\n",
        "face_test.replace([np.inf, np.nan, -np.inf], 0, inplace = True)"
      ],
      "execution_count": null,
      "outputs": []
    },
    {
      "cell_type": "markdown",
      "metadata": {
        "id": "LGYKiyqH72cJ"
      },
      "source": [
        "###### RandomForestClassifier"
      ]
    },
    {
      "cell_type": "code",
      "metadata": {
        "colab": {
          "base_uri": "https://localhost:8080/"
        },
        "id": "89Q8aR_S72cK",
        "outputId": "e186b1ff-d610-48fb-f8ab-c9116208f439"
      },
      "source": [
        "from sklearn.ensemble import RandomForestClassifier\r\n",
        "rFC = RandomForestClassifier()\r\n",
        "rFC.fit(face_train, train_y)\r\n",
        "\r\n",
        "print('Random_Forest_Classification_Report_Validation')\r\n",
        "target=['Aayush', 'Ajita', 'Aradhana', 'Ashish', 'Komal', 'Rudra']\r\n",
        "rFC_val_pred = rFC.predict(face_val)\r\n",
        "rFC_val_prob=rFC.predict_proba(face_val)\r\n",
        "print('Accuracy score is :',np.round(accuracy_score(test_y, rFC_val_pred),4)*100)\r\n",
        "print('Precision score is :',np.round(precision_score(test_y, rFC_val_pred, average='weighted'),2))\r\n",
        "print('Recall score is :',np.round(recall_score(test_y, rFC_val_pred, average='weighted'),2))\r\n",
        "print('F1-score is :',np.round(f1_score(test_y, rFC_val_pred, average='weighted'),2))\r\n",
        "print('Cohen_Kappa score is :',np.round(cohen_kappa_score(test_y, rFC_val_pred),2))\r\n",
        "print('ROC AUC Score is :', np.round(roc_auc_score(test_y, rFC_val_prob,multi_class='ovo', average='weighted'),4))\r\n",
        "print('Classififcation_Report :')\r\n",
        "print(classification_report(test_y, rFC_val_pred,target_names=target))\r\n",
        "\r\n",
        "print(\"=============================================================\")\r\n",
        "\r\n",
        "print('Random_Forest_Classification_Report_Test')\r\n",
        "target=['Aayush', 'Ajita', 'Aradhana', 'Ashish', 'Komal', 'Rudra']\r\n",
        "rFC_test_pred = rFC.predict(face_test)\r\n",
        "rFC_test_prob=rFC.predict_proba(face_test)\r\n",
        "print('Accuracy score is :',np.round(accuracy_score(test_y, rFC_test_pred),4)*100)\r\n",
        "print('Precision score is :',np.round(precision_score(test_y, rFC_test_pred, average='weighted'),2))\r\n",
        "print('Recall score is :',np.round(recall_score(test_y, rFC_test_pred, average='weighted'),2))\r\n",
        "print('F1-score is :',np.round(f1_score(test_y, rFC_test_pred, average='weighted'),2))\r\n",
        "print('Cohen_Kappa score is :',np.round(cohen_kappa_score(test_y, rFC_test_pred),2))\r\n",
        "print('ROC AUC Score is :', np.round(roc_auc_score(test_y, rFC_test_prob,multi_class='ovo', average='weighted'),4))\r\n",
        "print('Classififcation_Report :')\r\n",
        "print(classification_report(test_y, rFC_test_pred,target_names=target))"
      ],
      "execution_count": null,
      "outputs": [
        {
          "output_type": "stream",
          "text": [
            "Random_Forest_Classification_Report_Validation\n",
            "Accuracy score is : 91.67\n",
            "Precision score is : 0.94\n",
            "Recall score is : 0.92\n",
            "F1-score is : 0.91\n",
            "Cohen_Kappa score is : 0.9\n",
            "ROC AUC Score is : 0.9983\n",
            "Classififcation_Report :\n",
            "              precision    recall  f1-score   support\n",
            "\n",
            "      Aayush       0.91      1.00      0.95        10\n",
            "       Ajita       1.00      0.60      0.75        10\n",
            "    Aradhana       1.00      1.00      1.00        10\n",
            "      Ashish       1.00      0.90      0.95        10\n",
            "       Komal       1.00      1.00      1.00        10\n",
            "       Rudra       0.71      1.00      0.83        10\n",
            "\n",
            "    accuracy                           0.92        60\n",
            "   macro avg       0.94      0.92      0.91        60\n",
            "weighted avg       0.94      0.92      0.91        60\n",
            "\n",
            "=============================================================\n",
            "Random_Forest_Classification_Report_Test\n",
            "Accuracy score is : 40.0\n",
            "Precision score is : 0.42\n",
            "Recall score is : 0.4\n",
            "F1-score is : 0.33\n",
            "Cohen_Kappa score is : 0.28\n",
            "ROC AUC Score is : 0.8325\n",
            "Classififcation_Report :\n",
            "              precision    recall  f1-score   support\n",
            "\n",
            "      Aayush       0.00      0.00      0.00        10\n",
            "       Ajita       0.86      0.60      0.71        10\n",
            "    Aradhana       1.00      0.20      0.33        10\n",
            "      Ashish       0.00      0.00      0.00        10\n",
            "       Komal       0.33      1.00      0.50        10\n",
            "       Rudra       0.32      0.60      0.41        10\n",
            "\n",
            "    accuracy                           0.40        60\n",
            "   macro avg       0.42      0.40      0.33        60\n",
            "weighted avg       0.42      0.40      0.33        60\n",
            "\n"
          ],
          "name": "stdout"
        }
      ]
    },
    {
      "cell_type": "markdown",
      "metadata": {
        "id": "j2UJITG272cL"
      },
      "source": [
        "###### XGBoost Classification"
      ]
    },
    {
      "cell_type": "code",
      "metadata": {
        "colab": {
          "base_uri": "https://localhost:8080/"
        },
        "id": "l80pDGfK72cL",
        "outputId": "b93078ca-a34d-4c52-d7f6-55ff2c5f0b2f"
      },
      "source": [
        "from xgboost import XGBClassifier\r\n",
        "xgb = XGBClassifier()\r\n",
        "xgb.fit(face_train, train_y)\r\n",
        "\r\n",
        "print('xgboost_Classification_Report_Val')\r\n",
        "target=['Aayush', 'Ajita', 'Aradhana', 'Ashish', 'Komal', 'Rudra']\r\n",
        "xgb_val_pred = xgb.predict(face_val)\r\n",
        "xgb_val_prob=xgb.predict_proba(face_val)\r\n",
        "print('Accuracy score is :',np.round(accuracy_score(test_y, xgb_val_pred),4)*100)\r\n",
        "print('Precision score is :',np.round(precision_score(test_y, xgb_val_pred, average='weighted'),2))\r\n",
        "print('Recall score is :',np.round(recall_score(test_y, xgb_val_pred, average='weighted'),2))\r\n",
        "print('F1-score is :',np.round(f1_score(test_y, xgb_val_pred, average='weighted'),2))\r\n",
        "print('Cohen_Kappa score is :',np.round(cohen_kappa_score(test_y, xgb_val_pred),2))\r\n",
        "print('ROC AUC Score is :', np.round(roc_auc_score(test_y, xgb_val_prob,multi_class='ovo', average='weighted'),4))\r\n",
        "print('Classififcation_Report :')\r\n",
        "print(classification_report(test_y, xgb_val_pred,target_names=target))\r\n",
        "\r\n",
        "print(\"====================================================\")\r\n",
        "\r\n",
        "print('XGboost_Classification_Report_Test')\r\n",
        "target=['Aayush', 'Ajita', 'Aradhana', 'Ashish', 'Komal', 'Rudra']\r\n",
        "xgb_test_pred = xgb.predict(face_test)\r\n",
        "xgb_test_prob=xgb.predict_proba(face_test)\r\n",
        "print('Accuracy score is :',np.round(accuracy_score(test_y,xgb_test_pred),4)*100)\r\n",
        "print('Precision score is :',np.round(precision_score(test_y,xgb_test_pred, average='weighted'),2))\r\n",
        "print('Recall score is :',np.round(recall_score(test_y,xgb_test_pred, average='weighted'),2))\r\n",
        "print('F1-score is :',np.round(f1_score(test_y,xgb_test_pred, average='weighted'),2))\r\n",
        "print('Cohen_Kappa score is :',np.round(cohen_kappa_score(test_y,xgb_test_pred),2))\r\n",
        "print('ROC AUC Score is :', np.round(roc_auc_score(test_y, xgb_test_prob,multi_class='ovo', average='weighted'),4))\r\n",
        "print('Classififcation_Report :')\r\n",
        "print(classification_report(test_y,xgb_test_pred,target_names=target))\r\n",
        "\r\n"
      ],
      "execution_count": null,
      "outputs": [
        {
          "output_type": "stream",
          "text": [
            "xgboost_Classification_Report_Val\n",
            "Accuracy score is : 73.33\n",
            "Precision score is : 0.76\n",
            "Recall score is : 0.73\n",
            "F1-score is : 0.71\n",
            "Cohen_Kappa score is : 0.68\n",
            "ROC AUC Score is : 0.921\n",
            "Classififcation_Report :\n",
            "              precision    recall  f1-score   support\n",
            "\n",
            "      Aayush       1.00      0.90      0.95        10\n",
            "       Ajita       0.53      1.00      0.69        10\n",
            "    Aradhana       1.00      1.00      1.00        10\n",
            "      Ashish       0.14      0.10      0.12        10\n",
            "       Komal       0.91      1.00      0.95        10\n",
            "       Rudra       1.00      0.40      0.57        10\n",
            "\n",
            "    accuracy                           0.73        60\n",
            "   macro avg       0.76      0.73      0.71        60\n",
            "weighted avg       0.76      0.73      0.71        60\n",
            "\n",
            "====================================================\n",
            "XGboost_Classification_Report_Test\n",
            "Accuracy score is : 35.0\n",
            "Precision score is : 0.31\n",
            "Recall score is : 0.35\n",
            "F1-score is : 0.23\n",
            "Cohen_Kappa score is : 0.22\n",
            "ROC AUC Score is : 0.655\n",
            "Classififcation_Report :\n",
            "              precision    recall  f1-score   support\n",
            "\n",
            "      Aayush       0.00      0.00      0.00        10\n",
            "       Ajita       0.32      1.00      0.49        10\n",
            "    Aradhana       0.00      0.00      0.00        10\n",
            "      Ashish       1.00      0.10      0.18        10\n",
            "       Komal       0.53      1.00      0.69        10\n",
            "       Rudra       0.00      0.00      0.00        10\n",
            "\n",
            "    accuracy                           0.35        60\n",
            "   macro avg       0.31      0.35      0.23        60\n",
            "weighted avg       0.31      0.35      0.23        60\n",
            "\n"
          ],
          "name": "stdout"
        }
      ]
    },
    {
      "cell_type": "markdown",
      "metadata": {
        "id": "Qlh1r_9U72cM"
      },
      "source": [
        "##### LightGBM"
      ]
    },
    {
      "cell_type": "code",
      "metadata": {
        "colab": {
          "base_uri": "https://localhost:8080/"
        },
        "id": "KqjPpGDb72cM",
        "outputId": "84cdb998-57a4-459b-cfd0-a40ef2aa1d01"
      },
      "source": [
        "from lightgbm import LGBMClassifier\r\n",
        "lgbm = LGBMClassifier()\r\n",
        "lgbm.fit(face_train, train_y)\r\n",
        "\r\n",
        "print('LGBM_Forest_Classification_Report_Val')\r\n",
        "target=['Aayush', 'Ajita', 'Aradhana', 'Ashish', 'Komal', 'Rudra']\r\n",
        "lgbm_val_pred = lgbm.predict(face_val)\r\n",
        "lgbm_val_prob=lgbm.predict_proba(face_val)\r\n",
        "print('Accuracy score is :',np.round(accuracy_score(test_y, lgbm_val_pred),4)*100)\r\n",
        "print('Precision score is :',np.round(precision_score(test_y, lgbm_val_pred, average='weighted'),2))\r\n",
        "print('Recall score is :',np.round(recall_score(test_y, lgbm_val_pred, average='weighted'),2))\r\n",
        "print('F1-score is :',np.round(f1_score(test_y, lgbm_val_pred, average='weighted'),2))\r\n",
        "print('Cohen_Kappa score is :',np.round(cohen_kappa_score(test_y, lgbm_val_pred),2))\r\n",
        "print('ROC AUC Score is :', np.round(roc_auc_score(test_y, lgbm_val_prob,multi_class='ovo', average='weighted'),4))\r\n",
        "print('Classififcation_Report :')\r\n",
        "print(classification_report(test_y, lgbm_val_pred,target_names=target))\r\n",
        "\r\n",
        "print(\"====================================================\")\r\n",
        "\r\n",
        "print('LGBM_Classification_Report_Test')\r\n",
        "target=['Aayush', 'Ajita', 'Aradhana', 'Ashish', 'Komal', 'Rudra']\r\n",
        "lgbm_test_pred = lgbm.predict(face_test)\r\n",
        "lgbm_test_prob=lgbm.predict_proba(face_test)\r\n",
        "print('Accuracy score is :',np.round(accuracy_score(test_y, lgbm_test_pred),4)*100)\r\n",
        "print('Precision score is :',np.round(precision_score(test_y, lgbm_test_pred, average='weighted'),2))\r\n",
        "print('Recall score is :',np.round(recall_score(test_y, lgbm_test_pred, average='weighted'),2))\r\n",
        "print('F1-score is :',np.round(f1_score(test_y, lgbm_test_pred, average='weighted'),2))\r\n",
        "print('Cohen_Kappa score is :',np.round(cohen_kappa_score(test_y, lgbm_test_pred),2))\r\n",
        "print('ROC AUC Score is :', np.round(roc_auc_score(test_y, lgbm_test_prob,multi_class='ovo', average='weighted'),4))\r\n",
        "print('Classififcation_Report :')\r\n",
        "print(classification_report(test_y, lgbm_test_pred,target_names=target))"
      ],
      "execution_count": null,
      "outputs": [
        {
          "output_type": "stream",
          "text": [
            "LGBM_Forest_Classification_Report_Val\n",
            "Accuracy score is : 80.0\n",
            "Precision score is : 0.83\n",
            "Recall score is : 0.8\n",
            "F1-score is : 0.79\n",
            "Cohen_Kappa score is : 0.76\n",
            "ROC AUC Score is : 0.968\n",
            "Classififcation_Report :\n",
            "              precision    recall  f1-score   support\n",
            "\n",
            "      Aayush       1.00      1.00      1.00        10\n",
            "       Ajita       0.59      1.00      0.74        10\n",
            "    Aradhana       1.00      1.00      1.00        10\n",
            "      Ashish       0.38      0.30      0.33        10\n",
            "       Komal       1.00      1.00      1.00        10\n",
            "       Rudra       1.00      0.50      0.67        10\n",
            "\n",
            "    accuracy                           0.80        60\n",
            "   macro avg       0.83      0.80      0.79        60\n",
            "weighted avg       0.83      0.80      0.79        60\n",
            "\n",
            "====================================================\n",
            "LGBM_Classification_Report_Test\n",
            "Accuracy score is : 41.67\n",
            "Precision score is : 0.31\n",
            "Recall score is : 0.42\n",
            "F1-score is : 0.33\n",
            "Cohen_Kappa score is : 0.3\n",
            "ROC AUC Score is : 0.6823\n",
            "Classififcation_Report :\n",
            "              precision    recall  f1-score   support\n",
            "\n",
            "      Aayush       0.00      0.00      0.00        10\n",
            "       Ajita       0.31      1.00      0.48        10\n",
            "    Aradhana       0.00      0.00      0.00        10\n",
            "      Ashish       0.11      0.10      0.11        10\n",
            "       Komal       1.00      1.00      1.00        10\n",
            "       Rudra       0.44      0.40      0.42        10\n",
            "\n",
            "    accuracy                           0.42        60\n",
            "   macro avg       0.31      0.42      0.33        60\n",
            "weighted avg       0.31      0.42      0.33        60\n",
            "\n"
          ],
          "name": "stdout"
        }
      ]
    },
    {
      "cell_type": "markdown",
      "metadata": {
        "id": "Ethxs-oz72cM"
      },
      "source": [
        "##### DecisionTreeClassifier"
      ]
    },
    {
      "cell_type": "code",
      "metadata": {
        "colab": {
          "base_uri": "https://localhost:8080/"
        },
        "id": "9WYf4r8b72cN",
        "outputId": "96e89753-7262-4b0f-d6fd-d4ed1ee1bed5"
      },
      "source": [
        "from sklearn.tree import DecisionTreeClassifier\r\n",
        "dtc=DecisionTreeClassifier()\r\n",
        "dtc.fit(face_train, train_y)\r\n",
        "\r\n",
        "print('DecisionTree_Classification_Report_Val')\r\n",
        "target=['Aayush', 'Ajita', 'Aradhana', 'Ashish', 'Komal', 'Rudra']\r\n",
        "dtc_val_pred = dtc.predict(face_val)\r\n",
        "dtc_val_prob=dtc.predict_proba(face_val)\r\n",
        "print('Accuracy score is :',np.round(accuracy_score(test_y, dtc_val_pred),4)*100)\r\n",
        "print('Precision score is :',np.round(precision_score(test_y, dtc_val_pred, average='weighted'),2))\r\n",
        "print('Recall score is :',np.round(recall_score(test_y, dtc_val_pred, average='weighted'),2))\r\n",
        "print('F1-score is :',np.round(f1_score(test_y, dtc_val_pred, average='weighted'),2))\r\n",
        "print('Cohen_Kappa score is :',np.round(cohen_kappa_score(test_y, dtc_val_pred),2))\r\n",
        "print('ROC AUC Score is :', np.round(roc_auc_score(test_y, lgbm_val_prob,multi_class='ovo', average='weighted'),4))\r\n",
        "print('Classififcation_Report :')\r\n",
        "print(classification_report(test_y, dtc_val_pred,target_names=target))\r\n",
        "\r\n",
        "print(\"======================================================\")\r\n",
        "\r\n",
        "print('DecisionTree_Classification_Report_Test')\r\n",
        "target=['Aayush', 'Ajita', 'Aradhana', 'Ashish', 'Komal', 'Rudra']\r\n",
        "dtc_test_pred = dtc.predict(face_test)\r\n",
        "dtc_test_prob=dtc.predict_proba(face_test)\r\n",
        "print('Accuracy score is :',np.round(accuracy_score(test_y, dtc_test_pred),4)*100)\r\n",
        "print('Precision score is :',np.round(precision_score(test_y, dtc_test_pred, average='weighted'),2))\r\n",
        "print('Recall score is :',np.round(recall_score(test_y, dtc_test_pred, average='weighted'),2))\r\n",
        "print('F1-score is :',np.round(f1_score(test_y, dtc_test_pred, average='weighted'),2))\r\n",
        "print('Cohen_Kappa score is :',np.round(cohen_kappa_score(test_y, dtc_test_pred),2))\r\n",
        "print('ROC AUC Score is :', np.round(roc_auc_score(test_y, dtc_test_prob,multi_class='ovo', average='weighted'),4))\r\n",
        "print('Classififcation_Report :')\r\n",
        "print(classification_report(test_y, dtc_test_pred,target_names=target))\r\n"
      ],
      "execution_count": null,
      "outputs": [
        {
          "output_type": "stream",
          "text": [
            "DecisionTree_Classification_Report_Val\n",
            "Accuracy score is : 91.67\n",
            "Precision score is : 0.92\n",
            "Recall score is : 0.92\n",
            "F1-score is : 0.92\n",
            "Cohen_Kappa score is : 0.9\n",
            "ROC AUC Score is : 0.968\n",
            "Classififcation_Report :\n",
            "              precision    recall  f1-score   support\n",
            "\n",
            "      Aayush       0.78      0.70      0.74        10\n",
            "       Ajita       1.00      1.00      1.00        10\n",
            "    Aradhana       1.00      1.00      1.00        10\n",
            "      Ashish       0.73      0.80      0.76        10\n",
            "       Komal       1.00      1.00      1.00        10\n",
            "       Rudra       1.00      1.00      1.00        10\n",
            "\n",
            "    accuracy                           0.92        60\n",
            "   macro avg       0.92      0.92      0.92        60\n",
            "weighted avg       0.92      0.92      0.92        60\n",
            "\n",
            "======================================================\n",
            "DecisionTree_Classification_Report_Test\n",
            "Accuracy score is : 21.67\n",
            "Precision score is : 0.21\n",
            "Recall score is : 0.22\n",
            "F1-score is : 0.14\n",
            "Cohen_Kappa score is : 0.06\n",
            "ROC AUC Score is : 0.53\n",
            "Classififcation_Report :\n",
            "              precision    recall  f1-score   support\n",
            "\n",
            "      Aayush       0.00      0.00      0.00        10\n",
            "       Ajita       0.24      1.00      0.38        10\n",
            "    Aradhana       0.00      0.00      0.00        10\n",
            "      Ashish       0.00      0.00      0.00        10\n",
            "       Komal       1.00      0.30      0.46        10\n",
            "       Rudra       0.00      0.00      0.00        10\n",
            "\n",
            "    accuracy                           0.22        60\n",
            "   macro avg       0.21      0.22      0.14        60\n",
            "weighted avg       0.21      0.22      0.14        60\n",
            "\n"
          ],
          "name": "stdout"
        }
      ]
    },
    {
      "cell_type": "markdown",
      "metadata": {
        "id": "KBMXmOOw72cN"
      },
      "source": [
        "##### AdaboostClassifier"
      ]
    },
    {
      "cell_type": "code",
      "metadata": {
        "colab": {
          "base_uri": "https://localhost:8080/"
        },
        "id": "9oyyU6XJ72cO",
        "outputId": "b4db81b6-b43d-4cee-ab3e-92cf3a1648d5"
      },
      "source": [
        "from sklearn.ensemble import AdaBoostClassifier\r\n",
        "adc=AdaBoostClassifier()\r\n",
        "adc.fit(face_train, train_y)\r\n",
        "\r\n",
        "print('Adaboost_Classification_Report_Val')\r\n",
        "target=['Aayush', 'Ajita', 'Aradhana', 'Ashish', 'Komal', 'Rudra']\r\n",
        "adc_val_pred = adc.predict(face_val)\r\n",
        "adc_val_prob=adc.predict_proba(face_val)\r\n",
        "print('Accuracy score is :',np.round(accuracy_score(test_y, adc_val_pred),4)*100)\r\n",
        "print('Precision score is :',np.round(precision_score(test_y, adc_val_pred, average='weighted'),2))\r\n",
        "print('Recall score is :',np.round(recall_score(test_y, adc_val_pred, average='weighted'),2))\r\n",
        "print('F1-score is :',np.round(f1_score(test_y, adc_val_pred, average='weighted'),2))\r\n",
        "print('Cohen_Kappa score is :',np.round(cohen_kappa_score(test_y, adc_val_pred),2))\r\n",
        "print('ROC AUC Score is :', np.round(roc_auc_score(test_y, lgbm_val_prob,multi_class='ovo', average='weighted'),4))\r\n",
        "print('Classififcation_Report :')\r\n",
        "print(classification_report(test_y, adc_val_pred,target_names=target))\r\n",
        "\r\n",
        "print(\"=============================================\")\r\n",
        "\r\n",
        "print('AdaBoost_Classification_Report_Test')\r\n",
        "target=['Aayush', 'Ajita', 'Aradhana', 'Ashish', 'Komal', 'Rudra']\r\n",
        "adc_test_pred = adc.predict(face_test)\r\n",
        "adc_test_prob=adc.predict_proba(face_test)\r\n",
        "print('Accuracy score is :',np.round(accuracy_score(test_y, adc_test_pred),4)*100)\r\n",
        "print('Precision score is :',np.round(precision_score(test_y, adc_test_pred, average='weighted'),2))\r\n",
        "print('Recall score is :',np.round(recall_score(test_y, adc_test_pred, average='weighted'),2))\r\n",
        "print('F1-score is :',np.round(f1_score(test_y, adc_test_pred, average='weighted'),2))\r\n",
        "print('Cohen_Kappa score is :',np.round(cohen_kappa_score(test_y, adc_test_pred),2))\r\n",
        "print('ROC AUC Score is :', np.round(roc_auc_score(test_y, adc_test_prob,multi_class='ovo', average='weighted'),4))\r\n",
        "print('Classififcation_Report :')\r\n",
        "print(classification_report(test_y, adc_test_pred,target_names=target))"
      ],
      "execution_count": null,
      "outputs": [
        {
          "output_type": "stream",
          "text": [
            "Adaboost_Classification_Report_Val\n",
            "Accuracy score is : 50.0\n",
            "Precision score is : 0.31\n",
            "Recall score is : 0.5\n",
            "F1-score is : 0.36\n",
            "Cohen_Kappa score is : 0.4\n",
            "ROC AUC Score is : 0.968\n",
            "Classififcation_Report :\n",
            "              precision    recall  f1-score   support\n",
            "\n",
            "      Aayush       0.32      1.00      0.49        10\n",
            "       Ajita       0.53      1.00      0.69        10\n",
            "    Aradhana       1.00      1.00      1.00        10\n",
            "      Ashish       0.00      0.00      0.00        10\n",
            "       Komal       0.00      0.00      0.00        10\n",
            "       Rudra       0.00      0.00      0.00        10\n",
            "\n",
            "    accuracy                           0.50        60\n",
            "   macro avg       0.31      0.50      0.36        60\n",
            "weighted avg       0.31      0.50      0.36        60\n",
            "\n",
            "=============================================\n",
            "AdaBoost_Classification_Report_Test\n",
            "Accuracy score is : 18.33\n",
            "Precision score is : 0.06\n",
            "Recall score is : 0.18\n",
            "F1-score is : 0.09\n",
            "Cohen_Kappa score is : 0.02\n",
            "ROC AUC Score is : 0.5333\n",
            "Classififcation_Report :\n",
            "              precision    recall  f1-score   support\n",
            "\n",
            "      Aayush       0.03      0.10      0.05        10\n",
            "       Ajita       0.32      1.00      0.49        10\n",
            "    Aradhana       0.00      0.00      0.00        10\n",
            "      Ashish       0.00      0.00      0.00        10\n",
            "       Komal       0.00      0.00      0.00        10\n",
            "       Rudra       0.00      0.00      0.00        10\n",
            "\n",
            "    accuracy                           0.18        60\n",
            "   macro avg       0.06      0.18      0.09        60\n",
            "weighted avg       0.06      0.18      0.09        60\n",
            "\n"
          ],
          "name": "stdout"
        }
      ]
    },
    {
      "cell_type": "markdown",
      "metadata": {
        "id": "P0xX3Afl72cO"
      },
      "source": [
        "##### KNearestNeibours Classifier"
      ]
    },
    {
      "cell_type": "code",
      "metadata": {
        "id": "No-qKtBm72cO"
      },
      "source": [
        "from sklearn.preprocessing import StandardScaler, MinMaxScaler\r\n",
        "mms = MinMaxScaler()\r\n",
        "mms.fit(face_train)\r\n",
        "\r\n",
        "face_mms_train = face_train.copy()\r\n",
        "face_mms_val = face_val.copy()\r\n",
        "face_mms_test = face_test.copy()\r\n",
        "\r\n",
        "face_mms_train = mms.transform(face_mms_train)\r\n",
        "face_mms_val = mms.transform(face_mms_val)\r\n",
        "face_mms_test = mms.transform(face_mms_test)"
      ],
      "execution_count": null,
      "outputs": []
    },
    {
      "cell_type": "code",
      "metadata": {
        "colab": {
          "base_uri": "https://localhost:8080/"
        },
        "id": "4zER-U9E72cP",
        "outputId": "8e0e1a57-2f31-45ed-93b2-7e796a502a32"
      },
      "source": [
        "from sklearn.neighbors import KNeighborsClassifier\r\n",
        "for k in range(5, 55, 5):\r\n",
        "  print(\"~~~~~~~~~~~~~~~~~~~~~~~~~~~~~~~~~~~\")\r\n",
        "  print(f\"SHOWING RESULTS FOR K = {k}\")\r\n",
        "  print(\"~~~~~~~~~~~~~~~~~~~~~~~~~~~~~~~~~~~\")\r\n",
        "  knn=KNeighborsClassifier(n_neighbors=k)\r\n",
        "  knn.fit(face_mms_train, train_y)\r\n",
        "\r\n",
        "  print('KNN_Classification_Report_Val')\r\n",
        "  target=['Aayush', 'Ajita', 'Aradhana', 'Ashish', 'Komal', 'Rudra']\r\n",
        "  knn_val_pred = knn.predict(face_mms_val)\r\n",
        "  knn_val_prob=knn.predict_proba(face_mms_val)\r\n",
        "  print('Accuracy score is :',np.round(accuracy_score(test_y, knn_val_pred),4)*100)\r\n",
        "  print('Precision score is :',np.round(precision_score(test_y, knn_val_pred, average='weighted'),2))\r\n",
        "  print('Recall score is :',np.round(recall_score(test_y, knn_val_pred, average='weighted'),2))\r\n",
        "  print('F1-score is :',np.round(f1_score(test_y, knn_val_pred, average='weighted'),2))\r\n",
        "  print('Cohen_Kappa score is :',np.round(cohen_kappa_score(test_y, knn_val_pred),2))\r\n",
        "  print('ROC AUC Score is :', np.round(roc_auc_score(test_y, lgbm_val_prob,multi_class='ovo', average='weighted'),4))\r\n",
        "  print('Classififcation_Report :')\r\n",
        "  print(classification_report(test_y, knn_val_pred,target_names=target))\r\n",
        "\r\n",
        "  print(\"==============================================================\")\r\n",
        "\r\n",
        "  print('KNN_Forest_Classification_Report_Test')\r\n",
        "  target=['Aayush', 'Ajita', 'Aradhana', 'Ashish', 'Komal', 'Rudra']\r\n",
        "  knn_test_pred = knn.predict(face_mms_test)\r\n",
        "  knn_test_prob=knn.predict_proba(face_mms_test)\r\n",
        "  print('Accuracy score is :',np.round(accuracy_score(test_y, knn_test_pred),4)*100)\r\n",
        "  print('Precision score is :',np.round(precision_score(test_y, knn_test_pred, average='weighted'),2))\r\n",
        "  print('Recall score is :',np.round(recall_score(test_y, knn_test_pred, average='weighted'),2))\r\n",
        "  print('F1-score is :',np.round(f1_score(test_y, knn_test_pred, average='weighted'),2))\r\n",
        "  print('Cohen_Kappa score is :',np.round(cohen_kappa_score(test_y, knn_test_pred),2))\r\n",
        "  print('ROC AUC Score is :', np.round(roc_auc_score(test_y, knn_test_prob,multi_class='ovo', average='weighted'),4))\r\n",
        "  print('Classififcation_Report :')\r\n",
        "  print(classification_report(test_y, knn_test_pred,target_names=target))\r\n"
      ],
      "execution_count": null,
      "outputs": [
        {
          "output_type": "stream",
          "text": [
            "~~~~~~~~~~~~~~~~~~~~~~~~~~~~~~~~~~~\n",
            "SHOWING RESULTS FOR K = 5\n",
            "~~~~~~~~~~~~~~~~~~~~~~~~~~~~~~~~~~~\n",
            "KNN_Classification_Report_Val\n",
            "Accuracy score is : 90.0\n",
            "Precision score is : 0.94\n",
            "Recall score is : 0.9\n",
            "F1-score is : 0.89\n",
            "Cohen_Kappa score is : 0.88\n",
            "ROC AUC Score is : 0.968\n",
            "Classififcation_Report :\n",
            "              precision    recall  f1-score   support\n",
            "\n",
            "      Aayush       1.00      1.00      1.00        10\n",
            "       Ajita       1.00      1.00      1.00        10\n",
            "    Aradhana       1.00      1.00      1.00        10\n",
            "      Ashish       1.00      0.40      0.57        10\n",
            "       Komal       1.00      1.00      1.00        10\n",
            "       Rudra       0.62      1.00      0.77        10\n",
            "\n",
            "    accuracy                           0.90        60\n",
            "   macro avg       0.94      0.90      0.89        60\n",
            "weighted avg       0.94      0.90      0.89        60\n",
            "\n",
            "==============================================================\n",
            "KNN_Forest_Classification_Report_Test\n",
            "Accuracy score is : 38.33\n",
            "Precision score is : 0.38\n",
            "Recall score is : 0.38\n",
            "F1-score is : 0.3\n",
            "Cohen_Kappa score is : 0.26\n",
            "ROC AUC Score is : 0.7095\n",
            "Classififcation_Report :\n",
            "              precision    recall  f1-score   support\n",
            "\n",
            "      Aayush       1.00      0.20      0.33        10\n",
            "       Ajita       0.42      0.80      0.55        10\n",
            "    Aradhana       0.34      1.00      0.51        10\n",
            "      Ashish       0.00      0.00      0.00        10\n",
            "       Komal       0.50      0.30      0.37        10\n",
            "       Rudra       0.00      0.00      0.00        10\n",
            "\n",
            "    accuracy                           0.38        60\n",
            "   macro avg       0.38      0.38      0.30        60\n",
            "weighted avg       0.38      0.38      0.30        60\n",
            "\n",
            "~~~~~~~~~~~~~~~~~~~~~~~~~~~~~~~~~~~\n",
            "SHOWING RESULTS FOR K = 10\n",
            "~~~~~~~~~~~~~~~~~~~~~~~~~~~~~~~~~~~\n",
            "KNN_Classification_Report_Val\n",
            "Accuracy score is : 86.67\n",
            "Precision score is : 0.92\n",
            "Recall score is : 0.87\n",
            "F1-score is : 0.84\n",
            "Cohen_Kappa score is : 0.84\n",
            "ROC AUC Score is : 0.968\n",
            "Classififcation_Report :\n",
            "              precision    recall  f1-score   support\n",
            "\n",
            "      Aayush       1.00      1.00      1.00        10\n",
            "       Ajita       0.91      1.00      0.95        10\n",
            "    Aradhana       1.00      1.00      1.00        10\n",
            "      Ashish       1.00      0.20      0.33        10\n",
            "       Komal       1.00      1.00      1.00        10\n",
            "       Rudra       0.59      1.00      0.74        10\n",
            "\n",
            "    accuracy                           0.87        60\n",
            "   macro avg       0.92      0.87      0.84        60\n",
            "weighted avg       0.92      0.87      0.84        60\n",
            "\n",
            "==============================================================\n",
            "KNN_Forest_Classification_Report_Test\n",
            "Accuracy score is : 38.33\n",
            "Precision score is : 0.38\n",
            "Recall score is : 0.38\n",
            "F1-score is : 0.29\n",
            "Cohen_Kappa score is : 0.26\n",
            "ROC AUC Score is : 0.6698\n",
            "Classififcation_Report :\n",
            "              precision    recall  f1-score   support\n",
            "\n",
            "      Aayush       1.00      0.20      0.33        10\n",
            "       Ajita       0.42      0.80      0.55        10\n",
            "    Aradhana       0.33      1.00      0.50        10\n",
            "      Ashish       0.00      0.00      0.00        10\n",
            "       Komal       0.50      0.30      0.37        10\n",
            "       Rudra       0.00      0.00      0.00        10\n",
            "\n",
            "    accuracy                           0.38        60\n",
            "   macro avg       0.38      0.38      0.29        60\n",
            "weighted avg       0.38      0.38      0.29        60\n",
            "\n",
            "~~~~~~~~~~~~~~~~~~~~~~~~~~~~~~~~~~~\n",
            "SHOWING RESULTS FOR K = 15\n",
            "~~~~~~~~~~~~~~~~~~~~~~~~~~~~~~~~~~~\n",
            "KNN_Classification_Report_Val\n",
            "Accuracy score is : 85.0\n",
            "Precision score is : 0.91\n",
            "Recall score is : 0.85\n",
            "F1-score is : 0.81\n",
            "Cohen_Kappa score is : 0.82\n",
            "ROC AUC Score is : 0.968\n",
            "Classififcation_Report :\n",
            "              precision    recall  f1-score   support\n",
            "\n",
            "      Aayush       1.00      1.00      1.00        10\n",
            "       Ajita       0.91      1.00      0.95        10\n",
            "    Aradhana       1.00      1.00      1.00        10\n",
            "      Ashish       1.00      0.10      0.18        10\n",
            "       Komal       1.00      1.00      1.00        10\n",
            "       Rudra       0.56      1.00      0.71        10\n",
            "\n",
            "    accuracy                           0.85        60\n",
            "   macro avg       0.91      0.85      0.81        60\n",
            "weighted avg       0.91      0.85      0.81        60\n",
            "\n",
            "==============================================================\n",
            "KNN_Forest_Classification_Report_Test\n",
            "Accuracy score is : 35.0\n",
            "Precision score is : 0.25\n",
            "Recall score is : 0.35\n",
            "F1-score is : 0.26\n",
            "Cohen_Kappa score is : 0.22\n",
            "ROC AUC Score is : 0.6345\n",
            "Classififcation_Report :\n",
            "              precision    recall  f1-score   support\n",
            "\n",
            "      Aayush       0.40      0.20      0.27        10\n",
            "       Ajita       0.40      0.80      0.53        10\n",
            "    Aradhana       0.29      0.80      0.42        10\n",
            "      Ashish       0.00      0.00      0.00        10\n",
            "       Komal       0.43      0.30      0.35        10\n",
            "       Rudra       0.00      0.00      0.00        10\n",
            "\n",
            "    accuracy                           0.35        60\n",
            "   macro avg       0.25      0.35      0.26        60\n",
            "weighted avg       0.25      0.35      0.26        60\n",
            "\n",
            "~~~~~~~~~~~~~~~~~~~~~~~~~~~~~~~~~~~\n",
            "SHOWING RESULTS FOR K = 20\n",
            "~~~~~~~~~~~~~~~~~~~~~~~~~~~~~~~~~~~\n",
            "KNN_Classification_Report_Val\n",
            "Accuracy score is : 83.33\n",
            "Precision score is : 0.88\n",
            "Recall score is : 0.83\n",
            "F1-score is : 0.79\n",
            "Cohen_Kappa score is : 0.8\n",
            "ROC AUC Score is : 0.968\n",
            "Classififcation_Report :\n",
            "              precision    recall  f1-score   support\n",
            "\n",
            "      Aayush       0.91      1.00      0.95        10\n",
            "       Ajita       0.83      1.00      0.91        10\n",
            "    Aradhana       1.00      1.00      1.00        10\n",
            "      Ashish       1.00      0.10      0.18        10\n",
            "       Komal       1.00      1.00      1.00        10\n",
            "       Rudra       0.56      0.90      0.69        10\n",
            "\n",
            "    accuracy                           0.83        60\n",
            "   macro avg       0.88      0.83      0.79        60\n",
            "weighted avg       0.88      0.83      0.79        60\n",
            "\n",
            "==============================================================\n",
            "KNN_Forest_Classification_Report_Test\n",
            "Accuracy score is : 38.33\n",
            "Precision score is : 0.28\n",
            "Recall score is : 0.38\n",
            "F1-score is : 0.3\n",
            "Cohen_Kappa score is : 0.26\n",
            "ROC AUC Score is : 0.6565\n",
            "Classififcation_Report :\n",
            "              precision    recall  f1-score   support\n",
            "\n",
            "      Aayush       0.57      0.40      0.47        10\n",
            "       Ajita       0.40      0.80      0.53        10\n",
            "    Aradhana       0.32      0.80      0.46        10\n",
            "      Ashish       0.00      0.00      0.00        10\n",
            "       Komal       0.38      0.30      0.33        10\n",
            "       Rudra       0.00      0.00      0.00        10\n",
            "\n",
            "    accuracy                           0.38        60\n",
            "   macro avg       0.28      0.38      0.30        60\n",
            "weighted avg       0.28      0.38      0.30        60\n",
            "\n",
            "~~~~~~~~~~~~~~~~~~~~~~~~~~~~~~~~~~~\n",
            "SHOWING RESULTS FOR K = 25\n",
            "~~~~~~~~~~~~~~~~~~~~~~~~~~~~~~~~~~~\n",
            "KNN_Classification_Report_Val\n",
            "Accuracy score is : 81.67\n",
            "Precision score is : 0.86\n",
            "Recall score is : 0.82\n",
            "F1-score is : 0.79\n",
            "Cohen_Kappa score is : 0.78\n",
            "ROC AUC Score is : 0.968\n",
            "Classififcation_Report :\n",
            "              precision    recall  f1-score   support\n",
            "\n",
            "      Aayush       0.91      1.00      0.95        10\n",
            "       Ajita       0.67      1.00      0.80        10\n",
            "    Aradhana       1.00      1.00      1.00        10\n",
            "      Ashish       1.00      0.20      0.33        10\n",
            "       Komal       1.00      1.00      1.00        10\n",
            "       Rudra       0.58      0.70      0.64        10\n",
            "\n",
            "    accuracy                           0.82        60\n",
            "   macro avg       0.86      0.82      0.79        60\n",
            "weighted avg       0.86      0.82      0.79        60\n",
            "\n",
            "==============================================================\n",
            "KNN_Forest_Classification_Report_Test\n",
            "Accuracy score is : 40.0\n",
            "Precision score is : 0.28\n",
            "Recall score is : 0.4\n",
            "F1-score is : 0.31\n",
            "Cohen_Kappa score is : 0.28\n",
            "ROC AUC Score is : 0.6363\n",
            "Classififcation_Report :\n",
            "              precision    recall  f1-score   support\n",
            "\n",
            "      Aayush       0.40      0.20      0.27        10\n",
            "       Ajita       0.41      0.90      0.56        10\n",
            "    Aradhana       0.00      0.00      0.00        10\n",
            "      Ashish       0.00      0.00      0.00        10\n",
            "       Komal       0.30      0.30      0.30        10\n",
            "       Rudra       0.56      1.00      0.71        10\n",
            "\n",
            "    accuracy                           0.40        60\n",
            "   macro avg       0.28      0.40      0.31        60\n",
            "weighted avg       0.28      0.40      0.31        60\n",
            "\n",
            "~~~~~~~~~~~~~~~~~~~~~~~~~~~~~~~~~~~\n",
            "SHOWING RESULTS FOR K = 30\n",
            "~~~~~~~~~~~~~~~~~~~~~~~~~~~~~~~~~~~\n",
            "KNN_Classification_Report_Val\n",
            "Accuracy score is : 80.0\n",
            "Precision score is : 0.85\n",
            "Recall score is : 0.8\n",
            "F1-score is : 0.77\n",
            "Cohen_Kappa score is : 0.76\n",
            "ROC AUC Score is : 0.968\n",
            "Classififcation_Report :\n",
            "              precision    recall  f1-score   support\n",
            "\n",
            "      Aayush       0.90      0.90      0.90        10\n",
            "       Ajita       0.62      1.00      0.77        10\n",
            "    Aradhana       1.00      1.00      1.00        10\n",
            "      Ashish       1.00      0.20      0.33        10\n",
            "       Komal       1.00      1.00      1.00        10\n",
            "       Rudra       0.58      0.70      0.64        10\n",
            "\n",
            "    accuracy                           0.80        60\n",
            "   macro avg       0.85      0.80      0.77        60\n",
            "weighted avg       0.85      0.80      0.77        60\n",
            "\n",
            "==============================================================\n",
            "KNN_Forest_Classification_Report_Test\n",
            "Accuracy score is : 40.0\n",
            "Precision score is : 0.28\n",
            "Recall score is : 0.4\n",
            "F1-score is : 0.31\n",
            "Cohen_Kappa score is : 0.28\n",
            "ROC AUC Score is : 0.641\n",
            "Classififcation_Report :\n",
            "              precision    recall  f1-score   support\n",
            "\n",
            "      Aayush       0.40      0.20      0.27        10\n",
            "       Ajita       0.41      0.90      0.56        10\n",
            "    Aradhana       0.00      0.00      0.00        10\n",
            "      Ashish       0.00      0.00      0.00        10\n",
            "       Komal       0.30      0.30      0.30        10\n",
            "       Rudra       0.56      1.00      0.71        10\n",
            "\n",
            "    accuracy                           0.40        60\n",
            "   macro avg       0.28      0.40      0.31        60\n",
            "weighted avg       0.28      0.40      0.31        60\n",
            "\n",
            "~~~~~~~~~~~~~~~~~~~~~~~~~~~~~~~~~~~\n",
            "SHOWING RESULTS FOR K = 35\n",
            "~~~~~~~~~~~~~~~~~~~~~~~~~~~~~~~~~~~\n",
            "KNN_Classification_Report_Val\n",
            "Accuracy score is : 80.0\n",
            "Precision score is : 0.85\n",
            "Recall score is : 0.8\n",
            "F1-score is : 0.77\n",
            "Cohen_Kappa score is : 0.76\n",
            "ROC AUC Score is : 0.968\n",
            "Classififcation_Report :\n",
            "              precision    recall  f1-score   support\n",
            "\n",
            "      Aayush       0.90      0.90      0.90        10\n",
            "       Ajita       0.62      1.00      0.77        10\n",
            "    Aradhana       1.00      1.00      1.00        10\n",
            "      Ashish       1.00      0.20      0.33        10\n",
            "       Komal       1.00      1.00      1.00        10\n",
            "       Rudra       0.58      0.70      0.64        10\n",
            "\n",
            "    accuracy                           0.80        60\n",
            "   macro avg       0.85      0.80      0.77        60\n",
            "weighted avg       0.85      0.80      0.77        60\n",
            "\n",
            "==============================================================\n",
            "KNN_Forest_Classification_Report_Test\n",
            "Accuracy score is : 36.67\n",
            "Precision score is : 0.21\n",
            "Recall score is : 0.37\n",
            "F1-score is : 0.26\n",
            "Cohen_Kappa score is : 0.24\n",
            "ROC AUC Score is : 0.6337\n",
            "Classififcation_Report :\n",
            "              precision    recall  f1-score   support\n",
            "\n",
            "      Aayush       0.00      0.00      0.00        10\n",
            "       Ajita       0.39      0.90      0.55        10\n",
            "    Aradhana       0.00      0.00      0.00        10\n",
            "      Ashish       0.00      0.00      0.00        10\n",
            "       Komal       0.30      0.30      0.30        10\n",
            "       Rudra       0.56      1.00      0.71        10\n",
            "\n",
            "    accuracy                           0.37        60\n",
            "   macro avg       0.21      0.37      0.26        60\n",
            "weighted avg       0.21      0.37      0.26        60\n",
            "\n",
            "~~~~~~~~~~~~~~~~~~~~~~~~~~~~~~~~~~~\n",
            "SHOWING RESULTS FOR K = 40\n",
            "~~~~~~~~~~~~~~~~~~~~~~~~~~~~~~~~~~~\n",
            "KNN_Classification_Report_Val\n",
            "Accuracy score is : 78.33\n",
            "Precision score is : 0.85\n",
            "Recall score is : 0.78\n",
            "F1-score is : 0.76\n",
            "Cohen_Kappa score is : 0.74\n",
            "ROC AUC Score is : 0.968\n",
            "Classififcation_Report :\n",
            "              precision    recall  f1-score   support\n",
            "\n",
            "      Aayush       0.90      0.90      0.90        10\n",
            "       Ajita       0.56      1.00      0.71        10\n",
            "    Aradhana       1.00      0.90      0.95        10\n",
            "      Ashish       1.00      0.20      0.33        10\n",
            "       Komal       1.00      1.00      1.00        10\n",
            "       Rudra       0.64      0.70      0.67        10\n",
            "\n",
            "    accuracy                           0.78        60\n",
            "   macro avg       0.85      0.78      0.76        60\n",
            "weighted avg       0.85      0.78      0.76        60\n",
            "\n",
            "==============================================================\n",
            "KNN_Forest_Classification_Report_Test\n",
            "Accuracy score is : 35.0\n",
            "Precision score is : 0.2\n",
            "Recall score is : 0.35\n",
            "F1-score is : 0.25\n",
            "Cohen_Kappa score is : 0.22\n",
            "ROC AUC Score is : 0.6077\n",
            "Classififcation_Report :\n",
            "              precision    recall  f1-score   support\n",
            "\n",
            "      Aayush       0.00      0.00      0.00        10\n",
            "       Ajita       0.36      0.80      0.50        10\n",
            "    Aradhana       0.00      0.00      0.00        10\n",
            "      Ashish       0.00      0.00      0.00        10\n",
            "       Komal       0.30      0.30      0.30        10\n",
            "       Rudra       0.56      1.00      0.71        10\n",
            "\n",
            "    accuracy                           0.35        60\n",
            "   macro avg       0.20      0.35      0.25        60\n",
            "weighted avg       0.20      0.35      0.25        60\n",
            "\n",
            "~~~~~~~~~~~~~~~~~~~~~~~~~~~~~~~~~~~\n",
            "SHOWING RESULTS FOR K = 45\n",
            "~~~~~~~~~~~~~~~~~~~~~~~~~~~~~~~~~~~\n",
            "KNN_Classification_Report_Val\n",
            "Accuracy score is : 71.67\n",
            "Precision score is : 0.83\n",
            "Recall score is : 0.72\n",
            "F1-score is : 0.69\n",
            "Cohen_Kappa score is : 0.66\n",
            "ROC AUC Score is : 0.968\n",
            "Classififcation_Report :\n",
            "              precision    recall  f1-score   support\n",
            "\n",
            "      Aayush       0.90      0.90      0.90        10\n",
            "       Ajita       0.48      1.00      0.65        10\n",
            "    Aradhana       1.00      0.60      0.75        10\n",
            "      Ashish       1.00      0.10      0.18        10\n",
            "       Komal       1.00      1.00      1.00        10\n",
            "       Rudra       0.58      0.70      0.64        10\n",
            "\n",
            "    accuracy                           0.72        60\n",
            "   macro avg       0.83      0.72      0.69        60\n",
            "weighted avg       0.83      0.72      0.69        60\n",
            "\n",
            "==============================================================\n",
            "KNN_Forest_Classification_Report_Test\n",
            "Accuracy score is : 33.33\n",
            "Precision score is : 0.19\n",
            "Recall score is : 0.33\n",
            "F1-score is : 0.24\n",
            "Cohen_Kappa score is : 0.2\n",
            "ROC AUC Score is : 0.6095\n",
            "Classififcation_Report :\n",
            "              precision    recall  f1-score   support\n",
            "\n",
            "      Aayush       0.00      0.00      0.00        10\n",
            "       Ajita       0.37      0.70      0.48        10\n",
            "    Aradhana       0.00      0.00      0.00        10\n",
            "      Ashish       0.00      0.00      0.00        10\n",
            "       Komal       0.30      0.30      0.30        10\n",
            "       Rudra       0.50      1.00      0.67        10\n",
            "\n",
            "    accuracy                           0.33        60\n",
            "   macro avg       0.19      0.33      0.24        60\n",
            "weighted avg       0.19      0.33      0.24        60\n",
            "\n",
            "~~~~~~~~~~~~~~~~~~~~~~~~~~~~~~~~~~~\n",
            "SHOWING RESULTS FOR K = 50\n",
            "~~~~~~~~~~~~~~~~~~~~~~~~~~~~~~~~~~~\n",
            "KNN_Classification_Report_Val\n",
            "Accuracy score is : 63.33\n",
            "Precision score is : 0.82\n",
            "Recall score is : 0.63\n",
            "F1-score is : 0.59\n",
            "Cohen_Kappa score is : 0.56\n",
            "ROC AUC Score is : 0.968\n",
            "Classififcation_Report :\n",
            "              precision    recall  f1-score   support\n",
            "\n",
            "      Aayush       0.90      0.90      0.90        10\n",
            "       Ajita       0.37      1.00      0.54        10\n",
            "    Aradhana       1.00      0.20      0.33        10\n",
            "      Ashish       1.00      0.10      0.18        10\n",
            "       Komal       1.00      0.90      0.95        10\n",
            "       Rudra       0.64      0.70      0.67        10\n",
            "\n",
            "    accuracy                           0.63        60\n",
            "   macro avg       0.82      0.63      0.59        60\n",
            "weighted avg       0.82      0.63      0.59        60\n",
            "\n",
            "==============================================================\n",
            "KNN_Forest_Classification_Report_Test\n",
            "Accuracy score is : 13.33\n",
            "Precision score is : 0.1\n",
            "Recall score is : 0.13\n",
            "F1-score is : 0.11\n",
            "Cohen_Kappa score is : -0.04\n",
            "ROC AUC Score is : 0.5757\n",
            "Classififcation_Report :\n",
            "              precision    recall  f1-score   support\n",
            "\n",
            "      Aayush       0.00      0.00      0.00        10\n",
            "       Ajita       0.29      0.50      0.37        10\n",
            "    Aradhana       0.00      0.00      0.00        10\n",
            "      Ashish       0.00      0.00      0.00        10\n",
            "       Komal       0.33      0.30      0.32        10\n",
            "       Rudra       0.00      0.00      0.00        10\n",
            "\n",
            "    accuracy                           0.13        60\n",
            "   macro avg       0.10      0.13      0.11        60\n",
            "weighted avg       0.10      0.13      0.11        60\n",
            "\n"
          ],
          "name": "stdout"
        }
      ]
    },
    {
      "cell_type": "markdown",
      "metadata": {
        "id": "mehPVzEy72cP"
      },
      "source": [
        "##### Logistic Regression"
      ]
    },
    {
      "cell_type": "code",
      "metadata": {
        "colab": {
          "base_uri": "https://localhost:8080/"
        },
        "id": "XWXOlbnC72cQ",
        "outputId": "1a8ea64b-530a-427c-9ba1-691d3977364d"
      },
      "source": [
        "from sklearn.linear_model import LogisticRegression\r\n",
        "\r\n",
        "logR=LogisticRegression(multi_class = \"auto\")\r\n",
        "logR.fit(knn_train, train_y)\r\n",
        "\r\n",
        "print('logR_Classification_Report_Val')\r\n",
        "target=['Aayush', 'Ajita', 'Aradhana', 'Ashish', 'Komal', 'Rudra']\r\n",
        "logR_val_pred = logR.predict(knn_val)\r\n",
        "logR_val_prob=logR.predict_proba(knn_val)\r\n",
        "print('Accuracy score is :',np.round(accuracy_score(test_y, logR_val_pred),4)*100)\r\n",
        "print('Precision score is :',np.round(precision_score(test_y, logR_val_pred, average='weighted'),2))\r\n",
        "print('Recall score is :',np.round(recall_score(test_y, logR_val_pred, average='weighted'),2))\r\n",
        "print('F1-score is :',np.round(f1_score(test_y, logR_val_pred, average='weighted'),2))\r\n",
        "print('Cohen_Kappa score is :',np.round(cohen_kappa_score(test_y, logR_val_pred),2))\r\n",
        "print('ROC AUC Score is :', np.round(roc_auc_score(test_y, lgbm_val_prob,multi_class='ovo', average='weighted'),4))\r\n",
        "print('Classififcation_Report :')\r\n",
        "print(classification_report(test_y, logR_val_pred,target_names=target))\r\n",
        "\r\n",
        "print(\"==============================================================\")\r\n",
        "\r\n",
        "print('logR_Forest_Classification_Report_Test')\r\n",
        "target=['Aayush', 'Ajita', 'Aradhana', 'Ashish', 'Komal', 'Rudra']\r\n",
        "logR_test_pred = logR.predict(knn_test)\r\n",
        "logR_test_prob=logR.predict_proba(knn_test)\r\n",
        "print('Accuracy score is :',np.round(accuracy_score(test_y, logR_test_pred),4)*100)\r\n",
        "print('Precision score is :',np.round(precision_score(test_y, logR_test_pred, average='weighted'),2))\r\n",
        "print('Recall score is :',np.round(recall_score(test_y, logR_test_pred, average='weighted'),2))\r\n",
        "print('F1-score is :',np.round(f1_score(test_y, logR_test_pred, average='weighted'),2))\r\n",
        "print('Cohen_Kappa score is :',np.round(cohen_kappa_score(test_y, logR_test_pred),2))\r\n",
        "print('ROC AUC Score is :', np.round(roc_auc_score(test_y, logR_test_prob,multi_class='ovo', average='weighted'),4))\r\n",
        "print('Classififcation_Report :')\r\n",
        "print(classification_report(test_y, logR_test_pred,target_names=target))"
      ],
      "execution_count": null,
      "outputs": [
        {
          "output_type": "stream",
          "text": [
            "logR_Classification_Report_Val\n",
            "Accuracy score is : 90.0\n",
            "Precision score is : 0.94\n",
            "Recall score is : 0.9\n",
            "F1-score is : 0.89\n",
            "Cohen_Kappa score is : 0.88\n",
            "ROC AUC Score is : 0.9763\n",
            "Classififcation_Report :\n",
            "              precision    recall  f1-score   support\n",
            "\n",
            "      Aayush       1.00      1.00      1.00        10\n",
            "       Ajita       1.00      1.00      1.00        10\n",
            "    Aradhana       1.00      0.40      0.57        10\n",
            "      Ashish       0.62      1.00      0.77        10\n",
            "       Komal       1.00      1.00      1.00        10\n",
            "       Rudra       1.00      1.00      1.00        10\n",
            "\n",
            "    accuracy                           0.90        60\n",
            "   macro avg       0.94      0.90      0.89        60\n",
            "weighted avg       0.94      0.90      0.89        60\n",
            "\n",
            "==============================================================\n",
            "logR_Forest_Classification_Report_Test\n",
            "Accuracy score is : 33.33\n",
            "Precision score is : 0.41\n",
            "Recall score is : 0.33\n",
            "F1-score is : 0.36\n",
            "Cohen_Kappa score is : 0.2\n",
            "ROC AUC Score is : 0.5817\n",
            "Classififcation_Report :\n",
            "              precision    recall  f1-score   support\n",
            "\n",
            "      Aayush       0.45      0.50      0.48        10\n",
            "       Ajita       0.43      0.30      0.35        10\n",
            "    Aradhana       0.71      0.50      0.59        10\n",
            "      Ashish       0.07      0.10      0.08        10\n",
            "       Komal       0.67      0.40      0.50        10\n",
            "       Rudra       0.13      0.20      0.16        10\n",
            "\n",
            "    accuracy                           0.33        60\n",
            "   macro avg       0.41      0.33      0.36        60\n",
            "weighted avg       0.41      0.33      0.36        60\n",
            "\n"
          ],
          "name": "stdout"
        }
      ]
    },
    {
      "cell_type": "markdown",
      "metadata": {
        "id": "2r8RYPhK72cQ"
      },
      "source": [
        "##### Support Vector Machine"
      ]
    },
    {
      "cell_type": "code",
      "metadata": {
        "colab": {
          "base_uri": "https://localhost:8080/"
        },
        "id": "BBtVxAG072cQ",
        "outputId": "5e3a7e30-e3dd-42ed-a8b9-2064d12eb8f8"
      },
      "source": [
        "from sklearn.svm import SVC\r\n",
        "\r\n",
        "lsvc=SVC(kernel = \"linear\", probability = True)\r\n",
        "lsvc.fit(face_mms_train, train_y)\r\n",
        "\r\n",
        "print('lsvc_Classification_Report_Val')\r\n",
        "target=['Aayush', 'Ajita', 'Aradhana', 'Ashish', 'Komal', 'Rudra']\r\n",
        "lsvc_val_pred = lsvc.predict(face_mms_val)\r\n",
        "lsvc_val_prob=lsvc.predict_proba(face_mms_val)\r\n",
        "print('Accuracy score is :',np.round(accuracy_score(test_y, lsvc_val_pred),4)*100)\r\n",
        "print('Precision score is :',np.round(precision_score(test_y, lsvc_val_pred, average='weighted'),2))\r\n",
        "print('Recall score is :',np.round(recall_score(test_y, lsvc_val_pred, average='weighted'),2))\r\n",
        "print('F1-score is :',np.round(f1_score(test_y, lsvc_val_pred, average='weighted'),2))\r\n",
        "print('Cohen_Kappa score is :',np.round(cohen_kappa_score(test_y, lsvc_val_pred),2))\r\n",
        "print('ROC AUC Score is :', np.round(roc_auc_score(test_y, lgbm_val_prob,multi_class='ovo', average='weighted'),4))\r\n",
        "print('Classififcation_Report :')\r\n",
        "print(classification_report(test_y, lsvc_val_pred,target_names=target))\r\n",
        "\r\n",
        "print(\"==============================================================\")\r\n",
        "\r\n",
        "print('lsvc_Forest_Classification_Report_Test')\r\n",
        "target=['Aayush', 'Ajita', 'Aradhana', 'Ashish', 'Komal', 'Rudra']\r\n",
        "lsvc_test_pred = lsvc.predict(face_mms_test)\r\n",
        "lsvc_test_prob=lsvc.predict_proba(face_mms_test)\r\n",
        "print('Accuracy score is :',np.round(accuracy_score(test_y, lsvc_test_pred),4)*100)\r\n",
        "print('Precision score is :',np.round(precision_score(test_y, lsvc_test_pred, average='weighted'),2))\r\n",
        "print('Recall score is :',np.round(recall_score(test_y, lsvc_test_pred, average='weighted'),2))\r\n",
        "print('F1-score is :',np.round(f1_score(test_y, lsvc_test_pred, average='weighted'),2))\r\n",
        "print('Cohen_Kappa score is :',np.round(cohen_kappa_score(test_y, lsvc_test_pred),2))\r\n",
        "print('ROC AUC Score is :', np.round(roc_auc_score(test_y, lsvc_test_prob,multi_class='ovo', average='weighted'),4))\r\n",
        "print('Classififcation_Report :')\r\n",
        "print(classification_report(test_y, lsvc_test_pred,target_names=target))"
      ],
      "execution_count": null,
      "outputs": [
        {
          "output_type": "stream",
          "text": [
            "lsvc_Classification_Report_Val\n",
            "Accuracy score is : 96.67\n",
            "Precision score is : 0.97\n",
            "Recall score is : 0.97\n",
            "F1-score is : 0.97\n",
            "Cohen_Kappa score is : 0.96\n",
            "ROC AUC Score is : 0.968\n",
            "Classififcation_Report :\n",
            "              precision    recall  f1-score   support\n",
            "\n",
            "      Aayush       1.00      1.00      1.00        10\n",
            "       Ajita       1.00      1.00      1.00        10\n",
            "    Aradhana       1.00      1.00      1.00        10\n",
            "      Ashish       1.00      0.80      0.89        10\n",
            "       Komal       0.91      1.00      0.95        10\n",
            "       Rudra       0.91      1.00      0.95        10\n",
            "\n",
            "    accuracy                           0.97        60\n",
            "   macro avg       0.97      0.97      0.97        60\n",
            "weighted avg       0.97      0.97      0.97        60\n",
            "\n",
            "==============================================================\n",
            "lsvc_Forest_Classification_Report_Test\n",
            "Accuracy score is : 13.33\n",
            "Precision score is : 0.14\n",
            "Recall score is : 0.13\n",
            "F1-score is : 0.13\n",
            "Cohen_Kappa score is : -0.04\n",
            "ROC AUC Score is : 0.484\n",
            "Classififcation_Report :\n",
            "              precision    recall  f1-score   support\n",
            "\n",
            "      Aayush       0.08      0.10      0.09        10\n",
            "       Ajita       0.10      0.10      0.10        10\n",
            "    Aradhana       0.00      0.00      0.00        10\n",
            "      Ashish       0.50      0.30      0.37        10\n",
            "       Komal       0.14      0.30      0.19        10\n",
            "       Rudra       0.00      0.00      0.00        10\n",
            "\n",
            "    accuracy                           0.13        60\n",
            "   macro avg       0.14      0.13      0.13        60\n",
            "weighted avg       0.14      0.13      0.13        60\n",
            "\n"
          ],
          "name": "stdout"
        }
      ]
    },
    {
      "cell_type": "markdown",
      "metadata": {
        "id": "drLw7TTS6Q1P"
      },
      "source": [
        "#### Fusion\r\n"
      ]
    },
    {
      "cell_type": "markdown",
      "metadata": {
        "id": "tNl_I5gUGfKi"
      },
      "source": [
        "###### RandomForestClassifier"
      ]
    },
    {
      "cell_type": "code",
      "metadata": {
        "colab": {
          "base_uri": "https://localhost:8080/"
        },
        "id": "Ryss74FrKjme",
        "outputId": "bd52eb69-2ddb-4c0a-b8e0-7f1624f4bd40"
      },
      "source": [
        "from sklearn.ensemble import RandomForestClassifier\r\n",
        "rFC = RandomForestClassifier()\r\n",
        "rFC.fit(train_avg_resnet50_vae_ff, train_y)\r\n",
        "\r\n",
        "print('Random_Forest_Classification_Report_Validation')\r\n",
        "target=['Aayush', 'Ajita', 'Aradhana', 'Ashish', 'Komal', 'Rudra']\r\n",
        "rFC_val_pred = rFC.predict(val_avg_resnet50_vae_ff)\r\n",
        "rFC_val_prob=rFC.predict_proba(val_avg_resnet50_vae_ff)\r\n",
        "print('Accuracy score is :',np.round(accuracy_score(test_y, rFC_val_pred),4)*100)\r\n",
        "print('Precision score is :',np.round(precision_score(test_y, rFC_val_pred, average='weighted'),2))\r\n",
        "print('Recall score is :',np.round(recall_score(test_y, rFC_val_pred, average='weighted'),2))\r\n",
        "print('F1-score is :',np.round(f1_score(test_y, rFC_val_pred, average='weighted'),2))\r\n",
        "print('Cohen_Kappa score is :',np.round(cohen_kappa_score(test_y, rFC_val_pred),2))\r\n",
        "print('ROC AUC Score is :', np.round(roc_auc_score(test_y, rFC_val_prob,multi_class='ovo', average='weighted'),4))\r\n",
        "print('Classififcation_Report :')\r\n",
        "print(classification_report(test_y, rFC_val_pred,target_names=target))\r\n",
        "\r\n",
        "print(\"=============================================================\")\r\n",
        "\r\n",
        "print('Random_Forest_Classification_Report_Test')\r\n",
        "target=['Aayush', 'Ajita', 'Aradhana', 'Ashish', 'Komal', 'Rudra']\r\n",
        "rFC_test_pred = rFC.predict(test_avg_resnet50_vae_ff)\r\n",
        "rFC_test_prob=rFC.predict_proba(test_avg_resnet50_vae_ff)\r\n",
        "print('Accuracy score is :',np.round(accuracy_score(test_y, rFC_test_pred),4)*100)\r\n",
        "print('Precision score is :',np.round(precision_score(test_y, rFC_test_pred, average='weighted'),2))\r\n",
        "print('Recall score is :',np.round(recall_score(test_y, rFC_test_pred, average='weighted'),2))\r\n",
        "print('F1-score is :',np.round(f1_score(test_y, rFC_test_pred, average='weighted'),2))\r\n",
        "print('Cohen_Kappa score is :',np.round(cohen_kappa_score(test_y, rFC_test_pred),2))\r\n",
        "print('ROC AUC Score is :', np.round(roc_auc_score(test_y, rFC_test_prob,multi_class='ovo', average='weighted'),4))\r\n",
        "print('Classififcation_Report :')\r\n",
        "print(classification_report(test_y, rFC_test_pred,target_names=target))"
      ],
      "execution_count": null,
      "outputs": [
        {
          "output_type": "stream",
          "text": [
            "Random_Forest_Classification_Report_Validation\n",
            "Accuracy score is : 91.67\n",
            "Precision score is : 0.94\n",
            "Recall score is : 0.92\n",
            "F1-score is : 0.91\n",
            "Cohen_Kappa score is : 0.9\n",
            "ROC AUC Score is : 1.0\n",
            "Classififcation_Report :\n",
            "              precision    recall  f1-score   support\n",
            "\n",
            "      Aayush       0.67      1.00      0.80        10\n",
            "       Ajita       1.00      1.00      1.00        10\n",
            "    Aradhana       1.00      0.50      0.67        10\n",
            "      Ashish       1.00      1.00      1.00        10\n",
            "       Komal       1.00      1.00      1.00        10\n",
            "       Rudra       1.00      1.00      1.00        10\n",
            "\n",
            "    accuracy                           0.92        60\n",
            "   macro avg       0.94      0.92      0.91        60\n",
            "weighted avg       0.94      0.92      0.91        60\n",
            "\n",
            "=============================================================\n",
            "Random_Forest_Classification_Report_Test\n",
            "Accuracy score is : 83.33\n",
            "Precision score is : 0.75\n",
            "Recall score is : 0.83\n",
            "F1-score is : 0.78\n",
            "Cohen_Kappa score is : 0.8\n",
            "ROC AUC Score is : 1.0\n",
            "Classififcation_Report :\n",
            "              precision    recall  f1-score   support\n",
            "\n",
            "      Aayush       0.50      1.00      0.67        10\n",
            "       Ajita       1.00      1.00      1.00        10\n",
            "    Aradhana       0.00      0.00      0.00        10\n",
            "      Ashish       1.00      1.00      1.00        10\n",
            "       Komal       1.00      1.00      1.00        10\n",
            "       Rudra       1.00      1.00      1.00        10\n",
            "\n",
            "    accuracy                           0.83        60\n",
            "   macro avg       0.75      0.83      0.78        60\n",
            "weighted avg       0.75      0.83      0.78        60\n",
            "\n"
          ],
          "name": "stdout"
        }
      ]
    },
    {
      "cell_type": "markdown",
      "metadata": {
        "id": "BeBvgjY5-cJX"
      },
      "source": [
        "###### XGBoost Classification"
      ]
    },
    {
      "cell_type": "code",
      "metadata": {
        "colab": {
          "base_uri": "https://localhost:8080/"
        },
        "id": "J5w0cn97QGjY",
        "outputId": "ad8ac10f-f432-434e-a798-03c367d4219d"
      },
      "source": [
        "from xgboost import XGBClassifier\r\n",
        "xgb = XGBClassifier()\r\n",
        "xgb.fit(train_avg_resnet50_vae_ff, train_y)\r\n",
        "\r\n",
        "print('xgboost_Classification_Report_Val')\r\n",
        "target=['Aayush', 'Ajita', 'Aradhana', 'Ashish', 'Komal', 'Rudra']\r\n",
        "xgb_val_pred = xgb.predict(val_avg_resnet50_vae_ff)\r\n",
        "xgb_val_prob=xgb.predict_proba(val_avg_resnet50_vae_ff)\r\n",
        "print('Accuracy score is :',np.round(accuracy_score(test_y, xgb_val_pred),4)*100)\r\n",
        "print('Precision score is :',np.round(precision_score(test_y, xgb_val_pred, average='weighted'),2))\r\n",
        "print('Recall score is :',np.round(recall_score(test_y, xgb_val_pred, average='weighted'),2))\r\n",
        "print('F1-score is :',np.round(f1_score(test_y, xgb_val_pred, average='weighted'),2))\r\n",
        "print('Cohen_Kappa score is :',np.round(cohen_kappa_score(test_y, xgb_val_pred),2))\r\n",
        "print('ROC AUC Score is :', np.round(roc_auc_score(test_y, xgb_val_prob,multi_class='ovo', average='weighted'),4))\r\n",
        "print('Classififcation_Report :')\r\n",
        "print(classification_report(test_y, xgb_val_pred,target_names=target))\r\n",
        "\r\n",
        "print(\"====================================================\")\r\n",
        "\r\n",
        "print('XGboost_Classification_Report_Test')\r\n",
        "target=['Aayush', 'Ajita', 'Aradhana', 'Ashish', 'Komal', 'Rudra']\r\n",
        "xgb_test_pred = xgb.predict(test_avg_resnet50_vae_ff)\r\n",
        "xgb_test_prob=xgb.predict_proba(test_avg_resnet50_vae_ff)\r\n",
        "print('Accuracy score is :',np.round(accuracy_score(test_y,xgb_test_pred),4)*100)\r\n",
        "print('Precision score is :',np.round(precision_score(test_y,xgb_test_pred, average='weighted'),2))\r\n",
        "print('Recall score is :',np.round(recall_score(test_y,xgb_test_pred, average='weighted'),2))\r\n",
        "print('F1-score is :',np.round(f1_score(test_y,xgb_test_pred, average='weighted'),2))\r\n",
        "print('Cohen_Kappa score is :',np.round(cohen_kappa_score(test_y,xgb_test_pred),2))\r\n",
        "print('ROC AUC Score is :', np.round(roc_auc_score(test_y, xgb_test_prob,multi_class='ovo', average='weighted'),4))\r\n",
        "print('Classififcation_Report :')\r\n",
        "print(classification_report(test_y,xgb_test_pred,target_names=target))\r\n",
        "\r\n"
      ],
      "execution_count": null,
      "outputs": [
        {
          "output_type": "stream",
          "text": [
            "xgboost_Classification_Report_Val\n",
            "Accuracy score is : 76.67\n",
            "Precision score is : 0.87\n",
            "Recall score is : 0.77\n",
            "F1-score is : 0.72\n",
            "Cohen_Kappa score is : 0.72\n",
            "ROC AUC Score is : 0.9617\n",
            "Classififcation_Report :\n",
            "              precision    recall  f1-score   support\n",
            "\n",
            "      Aayush       1.00      0.50      0.67        10\n",
            "       Ajita       0.53      1.00      0.69        10\n",
            "    Aradhana       1.00      1.00      1.00        10\n",
            "      Ashish       1.00      0.10      0.18        10\n",
            "       Komal       0.67      1.00      0.80        10\n",
            "       Rudra       1.00      1.00      1.00        10\n",
            "\n",
            "    accuracy                           0.77        60\n",
            "   macro avg       0.87      0.77      0.72        60\n",
            "weighted avg       0.87      0.77      0.72        60\n",
            "\n",
            "====================================================\n",
            "XGboost_Classification_Report_Test\n",
            "Accuracy score is : 58.330000000000005\n",
            "Precision score is : 0.6\n",
            "Recall score is : 0.58\n",
            "F1-score is : 0.53\n",
            "Cohen_Kappa score is : 0.5\n",
            "ROC AUC Score is : 0.8842\n",
            "Classififcation_Report :\n",
            "              precision    recall  f1-score   support\n",
            "\n",
            "      Aayush       0.56      0.50      0.53        10\n",
            "       Ajita       0.38      1.00      0.56        10\n",
            "    Aradhana       0.00      0.00      0.00        10\n",
            "      Ashish       1.00      0.60      0.75        10\n",
            "       Komal       0.67      1.00      0.80        10\n",
            "       Rudra       1.00      0.40      0.57        10\n",
            "\n",
            "    accuracy                           0.58        60\n",
            "   macro avg       0.60      0.58      0.53        60\n",
            "weighted avg       0.60      0.58      0.53        60\n",
            "\n"
          ],
          "name": "stdout"
        }
      ]
    },
    {
      "cell_type": "markdown",
      "metadata": {
        "id": "lMTG0e-4_H2R"
      },
      "source": [
        "##### LightGBM"
      ]
    },
    {
      "cell_type": "code",
      "metadata": {
        "colab": {
          "base_uri": "https://localhost:8080/"
        },
        "id": "02IKh8PTQnPO",
        "outputId": "7f153683-f346-4875-e9b9-f0f2b587e1cb"
      },
      "source": [
        "from lightgbm import LGBMClassifier\r\n",
        "lgbm = LGBMClassifier()\r\n",
        "lgbm.fit(train_avg_resnet50_vae_ff, train_y)\r\n",
        "\r\n",
        "print('LGBM_Forest_Classification_Report_Val')\r\n",
        "target=['Aayush', 'Ajita', 'Aradhana', 'Ashish', 'Komal', 'Rudra']\r\n",
        "lgbm_val_pred = lgbm.predict(val_avg_resnet50_vae_ff)\r\n",
        "lgbm_val_prob=lgbm.predict_proba(val_avg_resnet50_vae_ff)\r\n",
        "print('Accuracy score is :',np.round(accuracy_score(test_y, lgbm_val_pred),4)*100)\r\n",
        "print('Precision score is :',np.round(precision_score(test_y, lgbm_val_pred, average='weighted'),2))\r\n",
        "print('Recall score is :',np.round(recall_score(test_y, lgbm_val_pred, average='weighted'),2))\r\n",
        "print('F1-score is :',np.round(f1_score(test_y, lgbm_val_pred, average='weighted'),2))\r\n",
        "print('Cohen_Kappa score is :',np.round(cohen_kappa_score(test_y, lgbm_val_pred),2))\r\n",
        "print('ROC AUC Score is :', np.round(roc_auc_score(test_y, lgbm_val_prob,multi_class='ovo', average='weighted'),4))\r\n",
        "print('Classififcation_Report :')\r\n",
        "print(classification_report(test_y, lgbm_val_pred,target_names=target))\r\n",
        "\r\n",
        "print(\"====================================================\")\r\n",
        "\r\n",
        "print('LGBM_Classification_Report_Test')\r\n",
        "target=['Aayush', 'Ajita', 'Aradhana', 'Ashish', 'Komal', 'Rudra']\r\n",
        "lgbm_test_pred = lgbm.predict(test_avg_resnet50_vae_ff)\r\n",
        "lgbm_test_prob=lgbm.predict_proba(test_avg_resnet50_vae_ff)\r\n",
        "print('Accuracy score is :',np.round(accuracy_score(test_y, lgbm_test_pred),4)*100)\r\n",
        "print('Precision score is :',np.round(precision_score(test_y, lgbm_test_pred, average='weighted'),2))\r\n",
        "print('Recall score is :',np.round(recall_score(test_y, lgbm_test_pred, average='weighted'),2))\r\n",
        "print('F1-score is :',np.round(f1_score(test_y, lgbm_test_pred, average='weighted'),2))\r\n",
        "print('Cohen_Kappa score is :',np.round(cohen_kappa_score(test_y, lgbm_test_pred),2))\r\n",
        "print('ROC AUC Score is :', np.round(roc_auc_score(test_y, lgbm_test_prob,multi_class='ovo', average='weighted'),4))\r\n",
        "print('Classififcation_Report :')\r\n",
        "print(classification_report(test_y, lgbm_test_pred,target_names=target))"
      ],
      "execution_count": null,
      "outputs": [
        {
          "output_type": "stream",
          "text": [
            "LGBM_Forest_Classification_Report_Val\n",
            "Accuracy score is : 91.67\n",
            "Precision score is : 0.94\n",
            "Recall score is : 0.92\n",
            "F1-score is : 0.91\n",
            "Cohen_Kappa score is : 0.9\n",
            "ROC AUC Score is : 0.9763\n",
            "Classififcation_Report :\n",
            "              precision    recall  f1-score   support\n",
            "\n",
            "      Aayush       1.00      0.50      0.67        10\n",
            "       Ajita       1.00      1.00      1.00        10\n",
            "    Aradhana       1.00      1.00      1.00        10\n",
            "      Ashish       1.00      1.00      1.00        10\n",
            "       Komal       0.67      1.00      0.80        10\n",
            "       Rudra       1.00      1.00      1.00        10\n",
            "\n",
            "    accuracy                           0.92        60\n",
            "   macro avg       0.94      0.92      0.91        60\n",
            "weighted avg       0.94      0.92      0.91        60\n",
            "\n",
            "====================================================\n",
            "LGBM_Classification_Report_Test\n",
            "Accuracy score is : 83.33\n",
            "Precision score is : 0.92\n",
            "Recall score is : 0.83\n",
            "F1-score is : 0.83\n",
            "Cohen_Kappa score is : 0.8\n",
            "ROC AUC Score is : 0.934\n",
            "Classififcation_Report :\n",
            "              precision    recall  f1-score   support\n",
            "\n",
            "      Aayush       1.00      0.50      0.67        10\n",
            "       Ajita       1.00      1.00      1.00        10\n",
            "    Aradhana       1.00      0.50      0.67        10\n",
            "      Ashish       1.00      1.00      1.00        10\n",
            "       Komal       0.50      1.00      0.67        10\n",
            "       Rudra       1.00      1.00      1.00        10\n",
            "\n",
            "    accuracy                           0.83        60\n",
            "   macro avg       0.92      0.83      0.83        60\n",
            "weighted avg       0.92      0.83      0.83        60\n",
            "\n"
          ],
          "name": "stdout"
        }
      ]
    },
    {
      "cell_type": "markdown",
      "metadata": {
        "id": "nMHBLtkx_1Eu"
      },
      "source": [
        "##### DecisionTreeClassifier"
      ]
    },
    {
      "cell_type": "code",
      "metadata": {
        "colab": {
          "base_uri": "https://localhost:8080/"
        },
        "id": "Z35-MABCA19T",
        "outputId": "63d8f251-7802-450c-b100-936d2eced6c1"
      },
      "source": [
        "from sklearn.tree import DecisionTreeClassifier\r\n",
        "dtc=DecisionTreeClassifier()\r\n",
        "dtc.fit(train_avg_resnet50_vae_ff, train_y)\r\n",
        "\r\n",
        "print('DecisionTree_Classification_Report_Val')\r\n",
        "target=['Aayush', 'Ajita', 'Aradhana', 'Ashish', 'Komal', 'Rudra']\r\n",
        "dtc_val_pred = dtc.predict(val_avg_resnet50_vae_ff)\r\n",
        "dtc_val_prob=dtc.predict_proba(val_avg_resnet50_vae_ff)\r\n",
        "print('Accuracy score is :',np.round(accuracy_score(test_y, dtc_val_pred),4)*100)\r\n",
        "print('Precision score is :',np.round(precision_score(test_y, dtc_val_pred, average='weighted'),2))\r\n",
        "print('Recall score is :',np.round(recall_score(test_y, dtc_val_pred, average='weighted'),2))\r\n",
        "print('F1-score is :',np.round(f1_score(test_y, dtc_val_pred, average='weighted'),2))\r\n",
        "print('Cohen_Kappa score is :',np.round(cohen_kappa_score(test_y, dtc_val_pred),2))\r\n",
        "print('ROC AUC Score is :', np.round(roc_auc_score(test_y, lgbm_val_prob,multi_class='ovo', average='weighted'),4))\r\n",
        "print('Classififcation_Report :')\r\n",
        "print(classification_report(test_y, dtc_val_pred,target_names=target))\r\n",
        "\r\n",
        "print(\"======================================================\")\r\n",
        "\r\n",
        "print('DecisionTree_Classification_Report_Test')\r\n",
        "target=['Aayush', 'Ajita', 'Aradhana', 'Ashish', 'Komal', 'Rudra']\r\n",
        "dtc_test_pred = dtc.predict(test_avg_resnet50_vae_ff)\r\n",
        "dtc_test_prob=dtc.predict_proba(test_avg_resnet50_vae_ff)\r\n",
        "print('Accuracy score is :',np.round(accuracy_score(test_y, dtc_test_pred),4)*100)\r\n",
        "print('Precision score is :',np.round(precision_score(test_y, dtc_test_pred, average='weighted'),2))\r\n",
        "print('Recall score is :',np.round(recall_score(test_y, dtc_test_pred, average='weighted'),2))\r\n",
        "print('F1-score is :',np.round(f1_score(test_y, dtc_test_pred, average='weighted'),2))\r\n",
        "print('Cohen_Kappa score is :',np.round(cohen_kappa_score(test_y, dtc_test_pred),2))\r\n",
        "print('ROC AUC Score is :', np.round(roc_auc_score(test_y, dtc_test_prob,multi_class='ovo', average='weighted'),4))\r\n",
        "print('Classififcation_Report :')\r\n",
        "print(classification_report(test_y, dtc_test_pred,target_names=target))\r\n"
      ],
      "execution_count": null,
      "outputs": [
        {
          "output_type": "stream",
          "text": [
            "DecisionTree_Classification_Report_Val\n",
            "Accuracy score is : 83.33\n",
            "Precision score is : 0.75\n",
            "Recall score is : 0.83\n",
            "F1-score is : 0.78\n",
            "Cohen_Kappa score is : 0.8\n",
            "ROC AUC Score is : 0.9763\n",
            "Classififcation_Report :\n",
            "              precision    recall  f1-score   support\n",
            "\n",
            "      Aayush       1.00      1.00      1.00        10\n",
            "       Ajita       0.50      1.00      0.67        10\n",
            "    Aradhana       0.00      0.00      0.00        10\n",
            "      Ashish       1.00      1.00      1.00        10\n",
            "       Komal       1.00      1.00      1.00        10\n",
            "       Rudra       1.00      1.00      1.00        10\n",
            "\n",
            "    accuracy                           0.83        60\n",
            "   macro avg       0.75      0.83      0.78        60\n",
            "weighted avg       0.75      0.83      0.78        60\n",
            "\n",
            "======================================================\n",
            "DecisionTree_Classification_Report_Test\n",
            "Accuracy score is : 76.67\n",
            "Precision score is : 0.69\n",
            "Recall score is : 0.77\n",
            "F1-score is : 0.71\n",
            "Cohen_Kappa score is : 0.72\n",
            "ROC AUC Score is : 0.86\n",
            "Classififcation_Report :\n",
            "              precision    recall  f1-score   support\n",
            "\n",
            "      Aayush       0.75      0.90      0.82        10\n",
            "       Ajita       0.50      1.00      0.67        10\n",
            "    Aradhana       0.00      0.00      0.00        10\n",
            "      Ashish       1.00      1.00      1.00        10\n",
            "       Komal       1.00      1.00      1.00        10\n",
            "       Rudra       0.88      0.70      0.78        10\n",
            "\n",
            "    accuracy                           0.77        60\n",
            "   macro avg       0.69      0.77      0.71        60\n",
            "weighted avg       0.69      0.77      0.71        60\n",
            "\n"
          ],
          "name": "stdout"
        }
      ]
    },
    {
      "cell_type": "markdown",
      "metadata": {
        "id": "Ya7lXReNBlMa"
      },
      "source": [
        "##### AdaboostClassifier"
      ]
    },
    {
      "cell_type": "code",
      "metadata": {
        "colab": {
          "base_uri": "https://localhost:8080/"
        },
        "id": "78xKsHGrRps2",
        "outputId": "b7169899-ffe0-4833-8841-8dade715a5b1"
      },
      "source": [
        "from sklearn.ensemble import AdaBoostClassifier\r\n",
        "adc=AdaBoostClassifier(base_estimator = dTC)\r\n",
        "adc.fit(train_avg_resnet50_vae_ff, train_y)\r\n",
        "\r\n",
        "print('Adaboost_Classification_Report_Val')\r\n",
        "target=['Aayush', 'Ajita', 'Aradhana', 'Ashish', 'Komal', 'Rudra']\r\n",
        "adc_val_pred = adc.predict(val_avg_resnet50_vae_ff)\r\n",
        "adc_val_prob=adc.predict_proba(val_avg_resnet50_vae_ff)\r\n",
        "print('Accuracy score is :',np.round(accuracy_score(test_y, adc_val_pred),4)*100)\r\n",
        "print('Precision score is :',np.round(precision_score(test_y, adc_val_pred, average='weighted'),2))\r\n",
        "print('Recall score is :',np.round(recall_score(test_y, adc_val_pred, average='weighted'),2))\r\n",
        "print('F1-score is :',np.round(f1_score(test_y, adc_val_pred, average='weighted'),2))\r\n",
        "print('Cohen_Kappa score is :',np.round(cohen_kappa_score(test_y, adc_val_pred),2))\r\n",
        "print('ROC AUC Score is :', np.round(roc_auc_score(test_y, lgbm_val_prob,multi_class='ovo', average='weighted'),4))\r\n",
        "print('Classififcation_Report :')\r\n",
        "print(classification_report(test_y, adc_val_pred,target_names=target))\r\n",
        "\r\n",
        "print(\"=============================================\")\r\n",
        "\r\n",
        "print('AdaBoost_Classification_Report_Test')\r\n",
        "target=['Aayush', 'Ajita', 'Aradhana', 'Ashish', 'Komal', 'Rudra']\r\n",
        "adc_test_pred = adc.predict(test_avg_resnet50_vae_ff)\r\n",
        "adc_test_prob=adc.predict_proba(test_avg_resnet50_vae_ff)\r\n",
        "print('Accuracy score is :',np.round(accuracy_score(test_y, adc_test_pred),4)*100)\r\n",
        "print('Precision score is :',np.round(precision_score(test_y, adc_test_pred, average='weighted'),2))\r\n",
        "print('Recall score is :',np.round(recall_score(test_y, adc_test_pred, average='weighted'),2))\r\n",
        "print('F1-score is :',np.round(f1_score(test_y, adc_test_pred, average='weighted'),2))\r\n",
        "print('Cohen_Kappa score is :',np.round(cohen_kappa_score(test_y, adc_test_pred),2))\r\n",
        "print('ROC AUC Score is :', np.round(roc_auc_score(test_y, adc_test_prob,multi_class='ovo', average='weighted'),4))\r\n",
        "print('Classififcation_Report :')\r\n",
        "print(classification_report(test_y, adc_test_pred,target_names=target))"
      ],
      "execution_count": null,
      "outputs": [
        {
          "output_type": "stream",
          "text": [
            "Adaboost_Classification_Report_Val\n",
            "Accuracy score is : 91.67\n",
            "Precision score is : 0.94\n",
            "Recall score is : 0.92\n",
            "F1-score is : 0.91\n",
            "Cohen_Kappa score is : 0.9\n",
            "ROC AUC Score is : 0.9763\n",
            "Classififcation_Report :\n",
            "              precision    recall  f1-score   support\n",
            "\n",
            "      Aayush       0.67      1.00      0.80        10\n",
            "       Ajita       1.00      0.50      0.67        10\n",
            "    Aradhana       1.00      1.00      1.00        10\n",
            "      Ashish       1.00      1.00      1.00        10\n",
            "       Komal       1.00      1.00      1.00        10\n",
            "       Rudra       1.00      1.00      1.00        10\n",
            "\n",
            "    accuracy                           0.92        60\n",
            "   macro avg       0.94      0.92      0.91        60\n",
            "weighted avg       0.94      0.92      0.91        60\n",
            "\n",
            "=============================================\n",
            "AdaBoost_Classification_Report_Test\n",
            "Accuracy score is : 75.0\n",
            "Precision score is : 0.69\n",
            "Recall score is : 0.75\n",
            "F1-score is : 0.69\n",
            "Cohen_Kappa score is : 0.7\n",
            "ROC AUC Score is : 0.85\n",
            "Classififcation_Report :\n",
            "              precision    recall  f1-score   support\n",
            "\n",
            "      Aayush       0.50      1.00      0.67        10\n",
            "       Ajita       1.00      0.50      0.67        10\n",
            "    Aradhana       0.00      0.00      0.00        10\n",
            "      Ashish       1.00      1.00      1.00        10\n",
            "       Komal       1.00      1.00      1.00        10\n",
            "       Rudra       0.67      1.00      0.80        10\n",
            "\n",
            "    accuracy                           0.75        60\n",
            "   macro avg       0.69      0.75      0.69        60\n",
            "weighted avg       0.69      0.75      0.69        60\n",
            "\n"
          ],
          "name": "stdout"
        }
      ]
    },
    {
      "cell_type": "markdown",
      "metadata": {
        "id": "bHl86WRGNK-U"
      },
      "source": [
        "##### KNearestNeibours Classifier"
      ]
    },
    {
      "cell_type": "code",
      "metadata": {
        "id": "9orLjq4UQY1F"
      },
      "source": [
        "from sklearn.preprocessing import StandardScaler, MinMaxScaler\r\n",
        "knn_mms = MinMaxScaler()\r\n",
        "knn_mms.fit(train_avg_resnet50_vae_ff)\r\n",
        "\r\n",
        "knn_train = train_avg_resnet50_vae_ff.copy()\r\n",
        "knn_val = val_avg_resnet50_vae_ff.copy()\r\n",
        "knn_test = test_avg_resnet50_vae_ff.copy()\r\n",
        "\r\n",
        "knn_train = knn_mms.transform(knn_train)\r\n",
        "knn_val = knn_mms.transform(knn_val)\r\n",
        "knn_test = knn_mms.transform(knn_test)"
      ],
      "execution_count": null,
      "outputs": []
    },
    {
      "cell_type": "code",
      "metadata": {
        "colab": {
          "base_uri": "https://localhost:8080/"
        },
        "id": "zzCUP8G-S2Cq",
        "outputId": "5e6d52fa-4f19-4381-fd1c-61358e2d502d"
      },
      "source": [
        "from sklearn.neighbors import KNeighborsClassifier\r\n",
        "for k in range(5, 55, 5):\r\n",
        "  print(\"~~~~~~~~~~~~~~~~~~~~~~~~~~~~~~~~~~~\")\r\n",
        "  print(f\"SHOWING RESULTS FOR K = {k}\")\r\n",
        "  print(\"~~~~~~~~~~~~~~~~~~~~~~~~~~~~~~~~~~~\")\r\n",
        "  knn=KNeighborsClassifier(n_neighbors=k)\r\n",
        "  knn.fit(knn_train, train_y)\r\n",
        "\r\n",
        "  print('KNN_Classification_Report_Val')\r\n",
        "  target=['Aayush', 'Ajita', 'Aradhana', 'Ashish', 'Komal', 'Rudra']\r\n",
        "  knn_val_pred = knn.predict(knn_val)\r\n",
        "  knn_val_prob=knn.predict_proba(knn_val)\r\n",
        "  print('Accuracy score is :',np.round(accuracy_score(test_y, knn_val_pred),4)*100)\r\n",
        "  print('Precision score is :',np.round(precision_score(test_y, knn_val_pred, average='weighted'),2))\r\n",
        "  print('Recall score is :',np.round(recall_score(test_y, knn_val_pred, average='weighted'),2))\r\n",
        "  print('F1-score is :',np.round(f1_score(test_y, knn_val_pred, average='weighted'),2))\r\n",
        "  print('Cohen_Kappa score is :',np.round(cohen_kappa_score(test_y, knn_val_pred),2))\r\n",
        "  print('ROC AUC Score is :', np.round(roc_auc_score(test_y, lgbm_val_prob,multi_class='ovo', average='weighted'),4))\r\n",
        "  print('Classififcation_Report :')\r\n",
        "  print(classification_report(test_y, knn_val_pred,target_names=target))\r\n",
        "\r\n",
        "  print(\"==============================================================\")\r\n",
        "\r\n",
        "  print('KNN_Forest_Classification_Report_Test')\r\n",
        "  target=['Aayush', 'Ajita', 'Aradhana', 'Ashish', 'Komal', 'Rudra']\r\n",
        "  knn_test_pred = knn.predict(knn_test)\r\n",
        "  knn_test_prob=knn.predict_proba(knn_test)\r\n",
        "  print('Accuracy score is :',np.round(accuracy_score(test_y, knn_test_pred),4)*100)\r\n",
        "  print('Precision score is :',np.round(precision_score(test_y, knn_test_pred, average='weighted'),2))\r\n",
        "  print('Recall score is :',np.round(recall_score(test_y, knn_test_pred, average='weighted'),2))\r\n",
        "  print('F1-score is :',np.round(f1_score(test_y, knn_test_pred, average='weighted'),2))\r\n",
        "  print('Cohen_Kappa score is :',np.round(cohen_kappa_score(test_y, knn_test_pred),2))\r\n",
        "  print('ROC AUC Score is :', np.round(roc_auc_score(test_y, knn_test_prob,multi_class='ovo', average='weighted'),4))\r\n",
        "  print('Classififcation_Report :')\r\n",
        "  print(classification_report(test_y, knn_test_pred,target_names=target))\r\n"
      ],
      "execution_count": null,
      "outputs": [
        {
          "output_type": "stream",
          "text": [
            "~~~~~~~~~~~~~~~~~~~~~~~~~~~~~~~~~~~\n",
            "SHOWING RESULTS FOR K = 5\n",
            "~~~~~~~~~~~~~~~~~~~~~~~~~~~~~~~~~~~\n",
            "KNN_Classification_Report_Val\n",
            "Accuracy score is : 100.0\n",
            "Precision score is : 1.0\n",
            "Recall score is : 1.0\n",
            "F1-score is : 1.0\n",
            "Cohen_Kappa score is : 1.0\n",
            "ROC AUC Score is : 0.9763\n",
            "Classififcation_Report :\n",
            "              precision    recall  f1-score   support\n",
            "\n",
            "      Aayush       1.00      1.00      1.00        10\n",
            "       Ajita       1.00      1.00      1.00        10\n",
            "    Aradhana       1.00      1.00      1.00        10\n",
            "      Ashish       1.00      1.00      1.00        10\n",
            "       Komal       1.00      1.00      1.00        10\n",
            "       Rudra       1.00      1.00      1.00        10\n",
            "\n",
            "    accuracy                           1.00        60\n",
            "   macro avg       1.00      1.00      1.00        60\n",
            "weighted avg       1.00      1.00      1.00        60\n",
            "\n",
            "==============================================================\n",
            "KNN_Forest_Classification_Report_Test\n",
            "Accuracy score is : 48.33\n",
            "Precision score is : 0.48\n",
            "Recall score is : 0.48\n",
            "F1-score is : 0.43\n",
            "Cohen_Kappa score is : 0.38\n",
            "ROC AUC Score is : 0.7077\n",
            "Classififcation_Report :\n",
            "              precision    recall  f1-score   support\n",
            "\n",
            "      Aayush       1.00      0.30      0.46        10\n",
            "       Ajita       0.39      0.70      0.50        10\n",
            "    Aradhana       0.27      0.30      0.29        10\n",
            "      Ashish       0.00      0.00      0.00        10\n",
            "       Komal       0.67      0.60      0.63        10\n",
            "       Rudra       0.56      1.00      0.71        10\n",
            "\n",
            "    accuracy                           0.48        60\n",
            "   macro avg       0.48      0.48      0.43        60\n",
            "weighted avg       0.48      0.48      0.43        60\n",
            "\n",
            "~~~~~~~~~~~~~~~~~~~~~~~~~~~~~~~~~~~\n",
            "SHOWING RESULTS FOR K = 10\n",
            "~~~~~~~~~~~~~~~~~~~~~~~~~~~~~~~~~~~\n",
            "KNN_Classification_Report_Val\n",
            "Accuracy score is : 100.0\n",
            "Precision score is : 1.0\n",
            "Recall score is : 1.0\n",
            "F1-score is : 1.0\n",
            "Cohen_Kappa score is : 1.0\n",
            "ROC AUC Score is : 0.9763\n",
            "Classififcation_Report :\n",
            "              precision    recall  f1-score   support\n",
            "\n",
            "      Aayush       1.00      1.00      1.00        10\n",
            "       Ajita       1.00      1.00      1.00        10\n",
            "    Aradhana       1.00      1.00      1.00        10\n",
            "      Ashish       1.00      1.00      1.00        10\n",
            "       Komal       1.00      1.00      1.00        10\n",
            "       Rudra       1.00      1.00      1.00        10\n",
            "\n",
            "    accuracy                           1.00        60\n",
            "   macro avg       1.00      1.00      1.00        60\n",
            "weighted avg       1.00      1.00      1.00        60\n",
            "\n",
            "==============================================================\n",
            "KNN_Forest_Classification_Report_Test\n",
            "Accuracy score is : 50.0\n",
            "Precision score is : 0.47\n",
            "Recall score is : 0.5\n",
            "F1-score is : 0.45\n",
            "Cohen_Kappa score is : 0.4\n",
            "ROC AUC Score is : 0.6932\n",
            "Classififcation_Report :\n",
            "              precision    recall  f1-score   support\n",
            "\n",
            "      Aayush       1.00      0.50      0.67        10\n",
            "       Ajita       0.39      0.70      0.50        10\n",
            "    Aradhana       0.25      0.20      0.22        10\n",
            "      Ashish       0.00      0.00      0.00        10\n",
            "       Komal       0.60      0.60      0.60        10\n",
            "       Rudra       0.56      1.00      0.71        10\n",
            "\n",
            "    accuracy                           0.50        60\n",
            "   macro avg       0.47      0.50      0.45        60\n",
            "weighted avg       0.47      0.50      0.45        60\n",
            "\n",
            "~~~~~~~~~~~~~~~~~~~~~~~~~~~~~~~~~~~\n",
            "SHOWING RESULTS FOR K = 15\n",
            "~~~~~~~~~~~~~~~~~~~~~~~~~~~~~~~~~~~\n",
            "KNN_Classification_Report_Val\n",
            "Accuracy score is : 100.0\n",
            "Precision score is : 1.0\n",
            "Recall score is : 1.0\n",
            "F1-score is : 1.0\n",
            "Cohen_Kappa score is : 1.0\n",
            "ROC AUC Score is : 0.9763\n",
            "Classififcation_Report :\n",
            "              precision    recall  f1-score   support\n",
            "\n",
            "      Aayush       1.00      1.00      1.00        10\n",
            "       Ajita       1.00      1.00      1.00        10\n",
            "    Aradhana       1.00      1.00      1.00        10\n",
            "      Ashish       1.00      1.00      1.00        10\n",
            "       Komal       1.00      1.00      1.00        10\n",
            "       Rudra       1.00      1.00      1.00        10\n",
            "\n",
            "    accuracy                           1.00        60\n",
            "   macro avg       1.00      1.00      1.00        60\n",
            "weighted avg       1.00      1.00      1.00        60\n",
            "\n",
            "==============================================================\n",
            "KNN_Forest_Classification_Report_Test\n",
            "Accuracy score is : 48.33\n",
            "Precision score is : 0.46\n",
            "Recall score is : 0.48\n",
            "F1-score is : 0.44\n",
            "Cohen_Kappa score is : 0.38\n",
            "ROC AUC Score is : 0.6693\n",
            "Classififcation_Report :\n",
            "              precision    recall  f1-score   support\n",
            "\n",
            "      Aayush       1.00      0.50      0.67        10\n",
            "       Ajita       0.39      0.70      0.50        10\n",
            "    Aradhana       0.29      0.20      0.24        10\n",
            "      Ashish       0.00      0.00      0.00        10\n",
            "       Komal       0.56      0.50      0.53        10\n",
            "       Rudra       0.53      1.00      0.69        10\n",
            "\n",
            "    accuracy                           0.48        60\n",
            "   macro avg       0.46      0.48      0.44        60\n",
            "weighted avg       0.46      0.48      0.44        60\n",
            "\n",
            "~~~~~~~~~~~~~~~~~~~~~~~~~~~~~~~~~~~\n",
            "SHOWING RESULTS FOR K = 20\n",
            "~~~~~~~~~~~~~~~~~~~~~~~~~~~~~~~~~~~\n",
            "KNN_Classification_Report_Val\n",
            "Accuracy score is : 100.0\n",
            "Precision score is : 1.0\n",
            "Recall score is : 1.0\n",
            "F1-score is : 1.0\n",
            "Cohen_Kappa score is : 1.0\n",
            "ROC AUC Score is : 0.9763\n",
            "Classififcation_Report :\n",
            "              precision    recall  f1-score   support\n",
            "\n",
            "      Aayush       1.00      1.00      1.00        10\n",
            "       Ajita       1.00      1.00      1.00        10\n",
            "    Aradhana       1.00      1.00      1.00        10\n",
            "      Ashish       1.00      1.00      1.00        10\n",
            "       Komal       1.00      1.00      1.00        10\n",
            "       Rudra       1.00      1.00      1.00        10\n",
            "\n",
            "    accuracy                           1.00        60\n",
            "   macro avg       1.00      1.00      1.00        60\n",
            "weighted avg       1.00      1.00      1.00        60\n",
            "\n",
            "==============================================================\n",
            "KNN_Forest_Classification_Report_Test\n",
            "Accuracy score is : 48.33\n",
            "Precision score is : 0.44\n",
            "Recall score is : 0.48\n",
            "F1-score is : 0.43\n",
            "Cohen_Kappa score is : 0.38\n",
            "ROC AUC Score is : 0.7272\n",
            "Classififcation_Report :\n",
            "              precision    recall  f1-score   support\n",
            "\n",
            "      Aayush       1.00      0.50      0.67        10\n",
            "       Ajita       0.40      0.80      0.53        10\n",
            "    Aradhana       0.17      0.10      0.12        10\n",
            "      Ashish       0.00      0.00      0.00        10\n",
            "       Komal       0.50      0.50      0.50        10\n",
            "       Rudra       0.59      1.00      0.74        10\n",
            "\n",
            "    accuracy                           0.48        60\n",
            "   macro avg       0.44      0.48      0.43        60\n",
            "weighted avg       0.44      0.48      0.43        60\n",
            "\n",
            "~~~~~~~~~~~~~~~~~~~~~~~~~~~~~~~~~~~\n",
            "SHOWING RESULTS FOR K = 25\n",
            "~~~~~~~~~~~~~~~~~~~~~~~~~~~~~~~~~~~\n",
            "KNN_Classification_Report_Val\n",
            "Accuracy score is : 100.0\n",
            "Precision score is : 1.0\n",
            "Recall score is : 1.0\n",
            "F1-score is : 1.0\n",
            "Cohen_Kappa score is : 1.0\n",
            "ROC AUC Score is : 0.9763\n",
            "Classififcation_Report :\n",
            "              precision    recall  f1-score   support\n",
            "\n",
            "      Aayush       1.00      1.00      1.00        10\n",
            "       Ajita       1.00      1.00      1.00        10\n",
            "    Aradhana       1.00      1.00      1.00        10\n",
            "      Ashish       1.00      1.00      1.00        10\n",
            "       Komal       1.00      1.00      1.00        10\n",
            "       Rudra       1.00      1.00      1.00        10\n",
            "\n",
            "    accuracy                           1.00        60\n",
            "   macro avg       1.00      1.00      1.00        60\n",
            "weighted avg       1.00      1.00      1.00        60\n",
            "\n",
            "==============================================================\n",
            "KNN_Forest_Classification_Report_Test\n",
            "Accuracy score is : 53.33\n",
            "Precision score is : 0.47\n",
            "Recall score is : 0.53\n",
            "F1-score is : 0.46\n",
            "Cohen_Kappa score is : 0.44\n",
            "ROC AUC Score is : 0.7335\n",
            "Classififcation_Report :\n",
            "              precision    recall  f1-score   support\n",
            "\n",
            "      Aayush       1.00      0.60      0.75        10\n",
            "       Ajita       0.45      1.00      0.62        10\n",
            "    Aradhana       0.33      0.10      0.15        10\n",
            "      Ashish       0.00      0.00      0.00        10\n",
            "       Komal       0.50      0.50      0.50        10\n",
            "       Rudra       0.56      1.00      0.71        10\n",
            "\n",
            "    accuracy                           0.53        60\n",
            "   macro avg       0.47      0.53      0.46        60\n",
            "weighted avg       0.47      0.53      0.46        60\n",
            "\n",
            "~~~~~~~~~~~~~~~~~~~~~~~~~~~~~~~~~~~\n",
            "SHOWING RESULTS FOR K = 30\n",
            "~~~~~~~~~~~~~~~~~~~~~~~~~~~~~~~~~~~\n",
            "KNN_Classification_Report_Val\n",
            "Accuracy score is : 100.0\n",
            "Precision score is : 1.0\n",
            "Recall score is : 1.0\n",
            "F1-score is : 1.0\n",
            "Cohen_Kappa score is : 1.0\n",
            "ROC AUC Score is : 0.9763\n",
            "Classififcation_Report :\n",
            "              precision    recall  f1-score   support\n",
            "\n",
            "      Aayush       1.00      1.00      1.00        10\n",
            "       Ajita       1.00      1.00      1.00        10\n",
            "    Aradhana       1.00      1.00      1.00        10\n",
            "      Ashish       1.00      1.00      1.00        10\n",
            "       Komal       1.00      1.00      1.00        10\n",
            "       Rudra       1.00      1.00      1.00        10\n",
            "\n",
            "    accuracy                           1.00        60\n",
            "   macro avg       1.00      1.00      1.00        60\n",
            "weighted avg       1.00      1.00      1.00        60\n",
            "\n",
            "==============================================================\n",
            "KNN_Forest_Classification_Report_Test\n",
            "Accuracy score is : 46.67\n",
            "Precision score is : 0.39\n",
            "Recall score is : 0.47\n",
            "F1-score is : 0.4\n",
            "Cohen_Kappa score is : 0.36\n",
            "ROC AUC Score is : 0.7695\n",
            "Classififcation_Report :\n",
            "              precision    recall  f1-score   support\n",
            "\n",
            "      Aayush       0.86      0.60      0.71        10\n",
            "       Ajita       0.40      0.80      0.53        10\n",
            "    Aradhana       0.17      0.10      0.12        10\n",
            "      Ashish       0.00      0.00      0.00        10\n",
            "       Komal       0.38      0.30      0.33        10\n",
            "       Rudra       0.53      1.00      0.69        10\n",
            "\n",
            "    accuracy                           0.47        60\n",
            "   macro avg       0.39      0.47      0.40        60\n",
            "weighted avg       0.39      0.47      0.40        60\n",
            "\n",
            "~~~~~~~~~~~~~~~~~~~~~~~~~~~~~~~~~~~\n",
            "SHOWING RESULTS FOR K = 35\n",
            "~~~~~~~~~~~~~~~~~~~~~~~~~~~~~~~~~~~\n",
            "KNN_Classification_Report_Val\n",
            "Accuracy score is : 96.67\n",
            "Precision score is : 0.97\n",
            "Recall score is : 0.97\n",
            "F1-score is : 0.97\n",
            "Cohen_Kappa score is : 0.96\n",
            "ROC AUC Score is : 0.9763\n",
            "Classififcation_Report :\n",
            "              precision    recall  f1-score   support\n",
            "\n",
            "      Aayush       1.00      1.00      1.00        10\n",
            "       Ajita       1.00      1.00      1.00        10\n",
            "    Aradhana       1.00      0.80      0.89        10\n",
            "      Ashish       0.83      1.00      0.91        10\n",
            "       Komal       1.00      1.00      1.00        10\n",
            "       Rudra       1.00      1.00      1.00        10\n",
            "\n",
            "    accuracy                           0.97        60\n",
            "   macro avg       0.97      0.97      0.97        60\n",
            "weighted avg       0.97      0.97      0.97        60\n",
            "\n",
            "==============================================================\n",
            "KNN_Forest_Classification_Report_Test\n",
            "Accuracy score is : 31.669999999999998\n",
            "Precision score is : 0.26\n",
            "Recall score is : 0.32\n",
            "F1-score is : 0.26\n",
            "Cohen_Kappa score is : 0.18\n",
            "ROC AUC Score is : 0.7672\n",
            "Classififcation_Report :\n",
            "              precision    recall  f1-score   support\n",
            "\n",
            "      Aayush       0.86      0.60      0.71        10\n",
            "       Ajita       0.42      0.50      0.45        10\n",
            "    Aradhana       0.27      0.80      0.40        10\n",
            "      Ashish       0.00      0.00      0.00        10\n",
            "       Komal       0.00      0.00      0.00        10\n",
            "       Rudra       0.00      0.00      0.00        10\n",
            "\n",
            "    accuracy                           0.32        60\n",
            "   macro avg       0.26      0.32      0.26        60\n",
            "weighted avg       0.26      0.32      0.26        60\n",
            "\n",
            "~~~~~~~~~~~~~~~~~~~~~~~~~~~~~~~~~~~\n",
            "SHOWING RESULTS FOR K = 40\n",
            "~~~~~~~~~~~~~~~~~~~~~~~~~~~~~~~~~~~\n",
            "KNN_Classification_Report_Val\n",
            "Accuracy score is : 96.67\n",
            "Precision score is : 0.97\n",
            "Recall score is : 0.97\n",
            "F1-score is : 0.97\n",
            "Cohen_Kappa score is : 0.96\n",
            "ROC AUC Score is : 0.9763\n",
            "Classififcation_Report :\n",
            "              precision    recall  f1-score   support\n",
            "\n",
            "      Aayush       1.00      1.00      1.00        10\n",
            "       Ajita       1.00      1.00      1.00        10\n",
            "    Aradhana       1.00      0.80      0.89        10\n",
            "      Ashish       0.83      1.00      0.91        10\n",
            "       Komal       1.00      1.00      1.00        10\n",
            "       Rudra       1.00      1.00      1.00        10\n",
            "\n",
            "    accuracy                           0.97        60\n",
            "   macro avg       0.97      0.97      0.97        60\n",
            "weighted avg       0.97      0.97      0.97        60\n",
            "\n",
            "==============================================================\n",
            "KNN_Forest_Classification_Report_Test\n",
            "Accuracy score is : 30.0\n",
            "Precision score is : 0.27\n",
            "Recall score is : 0.3\n",
            "F1-score is : 0.25\n",
            "Cohen_Kappa score is : 0.16\n",
            "ROC AUC Score is : 0.767\n",
            "Classififcation_Report :\n",
            "              precision    recall  f1-score   support\n",
            "\n",
            "      Aayush       0.83      0.50      0.62        10\n",
            "       Ajita       0.50      0.50      0.50        10\n",
            "    Aradhana       0.27      0.80      0.40        10\n",
            "      Ashish       0.00      0.00      0.00        10\n",
            "       Komal       0.00      0.00      0.00        10\n",
            "       Rudra       0.00      0.00      0.00        10\n",
            "\n",
            "    accuracy                           0.30        60\n",
            "   macro avg       0.27      0.30      0.25        60\n",
            "weighted avg       0.27      0.30      0.25        60\n",
            "\n",
            "~~~~~~~~~~~~~~~~~~~~~~~~~~~~~~~~~~~\n",
            "SHOWING RESULTS FOR K = 45\n",
            "~~~~~~~~~~~~~~~~~~~~~~~~~~~~~~~~~~~\n",
            "KNN_Classification_Report_Val\n",
            "Accuracy score is : 95.0\n",
            "Precision score is : 0.96\n",
            "Recall score is : 0.95\n",
            "F1-score is : 0.95\n",
            "Cohen_Kappa score is : 0.94\n",
            "ROC AUC Score is : 0.9763\n",
            "Classififcation_Report :\n",
            "              precision    recall  f1-score   support\n",
            "\n",
            "      Aayush       1.00      1.00      1.00        10\n",
            "       Ajita       1.00      1.00      1.00        10\n",
            "    Aradhana       1.00      0.70      0.82        10\n",
            "      Ashish       0.77      1.00      0.87        10\n",
            "       Komal       1.00      1.00      1.00        10\n",
            "       Rudra       1.00      1.00      1.00        10\n",
            "\n",
            "    accuracy                           0.95        60\n",
            "   macro avg       0.96      0.95      0.95        60\n",
            "weighted avg       0.96      0.95      0.95        60\n",
            "\n",
            "==============================================================\n",
            "KNN_Forest_Classification_Report_Test\n",
            "Accuracy score is : 31.669999999999998\n",
            "Precision score is : 0.35\n",
            "Recall score is : 0.32\n",
            "F1-score is : 0.28\n",
            "Cohen_Kappa score is : 0.18\n",
            "ROC AUC Score is : 0.7503\n",
            "Classififcation_Report :\n",
            "              precision    recall  f1-score   support\n",
            "\n",
            "      Aayush       0.83      0.50      0.62        10\n",
            "       Ajita       0.50      0.50      0.50        10\n",
            "    Aradhana       0.27      0.80      0.40        10\n",
            "      Ashish       0.50      0.10      0.17        10\n",
            "       Komal       0.00      0.00      0.00        10\n",
            "       Rudra       0.00      0.00      0.00        10\n",
            "\n",
            "    accuracy                           0.32        60\n",
            "   macro avg       0.35      0.32      0.28        60\n",
            "weighted avg       0.35      0.32      0.28        60\n",
            "\n",
            "~~~~~~~~~~~~~~~~~~~~~~~~~~~~~~~~~~~\n",
            "SHOWING RESULTS FOR K = 50\n",
            "~~~~~~~~~~~~~~~~~~~~~~~~~~~~~~~~~~~\n",
            "KNN_Classification_Report_Val\n",
            "Accuracy score is : 95.0\n",
            "Precision score is : 0.96\n",
            "Recall score is : 0.95\n",
            "F1-score is : 0.95\n",
            "Cohen_Kappa score is : 0.94\n",
            "ROC AUC Score is : 0.9763\n",
            "Classififcation_Report :\n",
            "              precision    recall  f1-score   support\n",
            "\n",
            "      Aayush       1.00      1.00      1.00        10\n",
            "       Ajita       1.00      1.00      1.00        10\n",
            "    Aradhana       1.00      0.70      0.82        10\n",
            "      Ashish       0.77      1.00      0.87        10\n",
            "       Komal       1.00      1.00      1.00        10\n",
            "       Rudra       1.00      1.00      1.00        10\n",
            "\n",
            "    accuracy                           0.95        60\n",
            "   macro avg       0.96      0.95      0.95        60\n",
            "weighted avg       0.96      0.95      0.95        60\n",
            "\n",
            "==============================================================\n",
            "KNN_Forest_Classification_Report_Test\n",
            "Accuracy score is : 31.669999999999998\n",
            "Precision score is : 0.35\n",
            "Recall score is : 0.32\n",
            "F1-score is : 0.28\n",
            "Cohen_Kappa score is : 0.18\n",
            "ROC AUC Score is : 0.7167\n",
            "Classififcation_Report :\n",
            "              precision    recall  f1-score   support\n",
            "\n",
            "      Aayush       0.83      0.50      0.62        10\n",
            "       Ajita       0.50      0.50      0.50        10\n",
            "    Aradhana       0.27      0.80      0.40        10\n",
            "      Ashish       0.50      0.10      0.17        10\n",
            "       Komal       0.00      0.00      0.00        10\n",
            "       Rudra       0.00      0.00      0.00        10\n",
            "\n",
            "    accuracy                           0.32        60\n",
            "   macro avg       0.35      0.32      0.28        60\n",
            "weighted avg       0.35      0.32      0.28        60\n",
            "\n"
          ],
          "name": "stdout"
        }
      ]
    },
    {
      "cell_type": "markdown",
      "metadata": {
        "id": "B2MHdlPqU8s2"
      },
      "source": [
        "##### Logistic Regression"
      ]
    },
    {
      "cell_type": "code",
      "metadata": {
        "colab": {
          "base_uri": "https://localhost:8080/"
        },
        "id": "zQGiktS9VKQO",
        "outputId": "1a8ea64b-530a-427c-9ba1-691d3977364d"
      },
      "source": [
        "from sklearn.linear_model import LogisticRegression\r\n",
        "\r\n",
        "logR=LogisticRegression(multi_class = \"auto\")\r\n",
        "logR.fit(knn_train, train_y)\r\n",
        "\r\n",
        "print('logR_Classification_Report_Val')\r\n",
        "target=['Aayush', 'Ajita', 'Aradhana', 'Ashish', 'Komal', 'Rudra']\r\n",
        "logR_val_pred = logR.predict(knn_val)\r\n",
        "logR_val_prob=logR.predict_proba(knn_val)\r\n",
        "print('Accuracy score is :',np.round(accuracy_score(test_y, logR_val_pred),4)*100)\r\n",
        "print('Precision score is :',np.round(precision_score(test_y, logR_val_pred, average='weighted'),2))\r\n",
        "print('Recall score is :',np.round(recall_score(test_y, logR_val_pred, average='weighted'),2))\r\n",
        "print('F1-score is :',np.round(f1_score(test_y, logR_val_pred, average='weighted'),2))\r\n",
        "print('Cohen_Kappa score is :',np.round(cohen_kappa_score(test_y, logR_val_pred),2))\r\n",
        "print('ROC AUC Score is :', np.round(roc_auc_score(test_y, lgbm_val_prob,multi_class='ovo', average='weighted'),4))\r\n",
        "print('Classififcation_Report :')\r\n",
        "print(classification_report(test_y, logR_val_pred,target_names=target))\r\n",
        "\r\n",
        "print(\"==============================================================\")\r\n",
        "\r\n",
        "print('logR_Forest_Classification_Report_Test')\r\n",
        "target=['Aayush', 'Ajita', 'Aradhana', 'Ashish', 'Komal', 'Rudra']\r\n",
        "logR_test_pred = logR.predict(knn_test)\r\n",
        "logR_test_prob=logR.predict_proba(knn_test)\r\n",
        "print('Accuracy score is :',np.round(accuracy_score(test_y, logR_test_pred),4)*100)\r\n",
        "print('Precision score is :',np.round(precision_score(test_y, logR_test_pred, average='weighted'),2))\r\n",
        "print('Recall score is :',np.round(recall_score(test_y, logR_test_pred, average='weighted'),2))\r\n",
        "print('F1-score is :',np.round(f1_score(test_y, logR_test_pred, average='weighted'),2))\r\n",
        "print('Cohen_Kappa score is :',np.round(cohen_kappa_score(test_y, logR_test_pred),2))\r\n",
        "print('ROC AUC Score is :', np.round(roc_auc_score(test_y, logR_test_prob,multi_class='ovo', average='weighted'),4))\r\n",
        "print('Classififcation_Report :')\r\n",
        "print(classification_report(test_y, logR_test_pred,target_names=target))"
      ],
      "execution_count": null,
      "outputs": [
        {
          "output_type": "stream",
          "text": [
            "logR_Classification_Report_Val\n",
            "Accuracy score is : 90.0\n",
            "Precision score is : 0.94\n",
            "Recall score is : 0.9\n",
            "F1-score is : 0.89\n",
            "Cohen_Kappa score is : 0.88\n",
            "ROC AUC Score is : 0.9763\n",
            "Classififcation_Report :\n",
            "              precision    recall  f1-score   support\n",
            "\n",
            "      Aayush       1.00      1.00      1.00        10\n",
            "       Ajita       1.00      1.00      1.00        10\n",
            "    Aradhana       1.00      0.40      0.57        10\n",
            "      Ashish       0.62      1.00      0.77        10\n",
            "       Komal       1.00      1.00      1.00        10\n",
            "       Rudra       1.00      1.00      1.00        10\n",
            "\n",
            "    accuracy                           0.90        60\n",
            "   macro avg       0.94      0.90      0.89        60\n",
            "weighted avg       0.94      0.90      0.89        60\n",
            "\n",
            "==============================================================\n",
            "logR_Forest_Classification_Report_Test\n",
            "Accuracy score is : 33.33\n",
            "Precision score is : 0.41\n",
            "Recall score is : 0.33\n",
            "F1-score is : 0.36\n",
            "Cohen_Kappa score is : 0.2\n",
            "ROC AUC Score is : 0.5817\n",
            "Classififcation_Report :\n",
            "              precision    recall  f1-score   support\n",
            "\n",
            "      Aayush       0.45      0.50      0.48        10\n",
            "       Ajita       0.43      0.30      0.35        10\n",
            "    Aradhana       0.71      0.50      0.59        10\n",
            "      Ashish       0.07      0.10      0.08        10\n",
            "       Komal       0.67      0.40      0.50        10\n",
            "       Rudra       0.13      0.20      0.16        10\n",
            "\n",
            "    accuracy                           0.33        60\n",
            "   macro avg       0.41      0.33      0.36        60\n",
            "weighted avg       0.41      0.33      0.36        60\n",
            "\n"
          ],
          "name": "stdout"
        }
      ]
    },
    {
      "cell_type": "markdown",
      "metadata": {
        "id": "GEtxpzWDWwJR"
      },
      "source": [
        "##### Support Vector Machine"
      ]
    },
    {
      "cell_type": "code",
      "metadata": {
        "id": "cg0hxLi7hPXO",
        "colab": {
          "base_uri": "https://localhost:8080/"
        },
        "outputId": "f3abb60b-968d-4e9f-e8c7-cb917b54da88"
      },
      "source": [
        "from sklearn.svm import SVC\r\n",
        "\r\n",
        "lsvc=SVC(kernel = \"linear\", probability = True)\r\n",
        "lsvc.fit(knn_train, train_y)\r\n",
        "\r\n",
        "print('lsvc_Classification_Report_Val')\r\n",
        "target=['Aayush', 'Ajita', 'Aradhana', 'Ashish', 'Komal', 'Rudra']\r\n",
        "lsvc_val_pred = lsvc.predict(knn_val)\r\n",
        "lsvc_val_prob=lsvc.predict_proba(knn_val)\r\n",
        "print('Accuracy score is :',np.round(accuracy_score(test_y, lsvc_val_pred),4)*100)\r\n",
        "print('Precision score is :',np.round(precision_score(test_y, lsvc_val_pred, average='weighted'),2))\r\n",
        "print('Recall score is :',np.round(recall_score(test_y, lsvc_val_pred, average='weighted'),2))\r\n",
        "print('F1-score is :',np.round(f1_score(test_y, lsvc_val_pred, average='weighted'),2))\r\n",
        "print('Cohen_Kappa score is :',np.round(cohen_kappa_score(test_y, lsvc_val_pred),2))\r\n",
        "print('ROC AUC Score is :', np.round(roc_auc_score(test_y, lgbm_val_prob,multi_class='ovo', average='weighted'),4))\r\n",
        "print('Classififcation_Report :')\r\n",
        "print(classification_report(test_y, lsvc_val_pred,target_names=target))\r\n",
        "\r\n",
        "print(\"==============================================================\")\r\n",
        "\r\n",
        "print('lsvc_Forest_Classification_Report_Test')\r\n",
        "target=['Aayush', 'Ajita', 'Aradhana', 'Ashish', 'Komal', 'Rudra']\r\n",
        "lsvc_test_pred = lsvc.predict(knn_test)\r\n",
        "lsvc_test_prob=lsvc.predict_proba(knn_test)\r\n",
        "print('Accuracy score is :',np.round(accuracy_score(test_y, lsvc_test_pred),4)*100)\r\n",
        "print('Precision score is :',np.round(precision_score(test_y, lsvc_test_pred, average='weighted'),2))\r\n",
        "print('Recall score is :',np.round(recall_score(test_y, lsvc_test_pred, average='weighted'),2))\r\n",
        "print('F1-score is :',np.round(f1_score(test_y, lsvc_test_pred, average='weighted'),2))\r\n",
        "print('Cohen_Kappa score is :',np.round(cohen_kappa_score(test_y, lsvc_test_pred),2))\r\n",
        "print('ROC AUC Score is :', np.round(roc_auc_score(test_y, lsvc_test_prob,multi_class='ovo', average='weighted'),4))\r\n",
        "print('Classififcation_Report :')\r\n",
        "print(classification_report(test_y, lsvc_test_pred,target_names=target))"
      ],
      "execution_count": null,
      "outputs": [
        {
          "output_type": "stream",
          "text": [
            "lsvc_Classification_Report_Val\n",
            "Accuracy score is : 88.33\n",
            "Precision score is : 0.93\n",
            "Recall score is : 0.88\n",
            "F1-score is : 0.87\n",
            "Cohen_Kappa score is : 0.86\n",
            "ROC AUC Score is : 0.9763\n",
            "Classififcation_Report :\n",
            "              precision    recall  f1-score   support\n",
            "\n",
            "      Aayush       1.00      1.00      1.00        10\n",
            "       Ajita       1.00      1.00      1.00        10\n",
            "    Aradhana       1.00      0.30      0.46        10\n",
            "      Ashish       0.59      1.00      0.74        10\n",
            "       Komal       1.00      1.00      1.00        10\n",
            "       Rudra       1.00      1.00      1.00        10\n",
            "\n",
            "    accuracy                           0.88        60\n",
            "   macro avg       0.93      0.88      0.87        60\n",
            "weighted avg       0.93      0.88      0.87        60\n",
            "\n",
            "==============================================================\n",
            "lsvc_Forest_Classification_Report_Test\n",
            "Accuracy score is : 33.33\n",
            "Precision score is : 0.31\n",
            "Recall score is : 0.33\n",
            "F1-score is : 0.31\n",
            "Cohen_Kappa score is : 0.2\n",
            "ROC AUC Score is : 0.6577\n",
            "Classififcation_Report :\n",
            "              precision    recall  f1-score   support\n",
            "\n",
            "      Aayush       0.40      0.20      0.27        10\n",
            "       Ajita       0.00      0.00      0.00        10\n",
            "    Aradhana       0.24      0.50      0.32        10\n",
            "      Ashish       0.22      0.20      0.21        10\n",
            "       Komal       0.44      0.40      0.42        10\n",
            "       Rudra       0.58      0.70      0.64        10\n",
            "\n",
            "    accuracy                           0.33        60\n",
            "   macro avg       0.31      0.33      0.31        60\n",
            "weighted avg       0.31      0.33      0.31        60\n",
            "\n"
          ],
          "name": "stdout"
        }
      ]
    },
    {
      "cell_type": "code",
      "metadata": {
        "id": "25kXLBb4ijGB"
      },
      "source": [
        ""
      ],
      "execution_count": null,
      "outputs": []
    },
    {
      "cell_type": "code",
      "metadata": {
        "id": "2iNYwulgjTx9"
      },
      "source": [
        ""
      ],
      "execution_count": null,
      "outputs": []
    }
  ]
}